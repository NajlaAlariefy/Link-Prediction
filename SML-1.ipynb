{
 "cells": [
  {
   "cell_type": "markdown",
   "metadata": {},
   "source": [
    "## Implementation 1\n",
    "### Feature Engineering\n",
    "#### 1. SSC+ \n",
    "\n",
    "#### 2. SSC Inner\n",
    "\n",
    "#### 3. SSC \n",
    "\n",
    "#### 4. Preferential Attachment Score \n",
    "\n",
    "#### 5. Total Friends\n",
    "\n",
    "\n",
    "| Feature | Description | Note/Implication |\n",
    "|:--------|:------------|:-----|\n",
    "| SSC+   |    |      |\n",
    "| SSC Inner      |            |      |\n",
    "| SSC       |             |      |\n",
    "| Preferential Attachment Score         |             |      |\n",
    "| Total Friends       |             |      |\n",
    "|         |             |      |"
   ]
  },
  {
   "cell_type": "markdown",
   "metadata": {},
   "source": [
    "# Data \n",
    "#### File descriptions\n",
    "\n",
    "- train.txt - the training graph adjacency lists (tab delimited; line per source node followed by sink neighbours; no header line)  \n",
    "- test-public.txt - the test edge IDs (tab delimited; edge ID, source node, sink node; with header line)  \n",
    "- sample.csv - a sample submission file in the correct format  \n",
    "\n",
    "### Training Data Summary"
   ]
  },
  {
   "cell_type": "code",
   "execution_count": 27,
   "metadata": {},
   "outputs": [],
   "source": [
    "import pandas as pd\n",
    "import networkx as nx\n",
    "import matplotlib.pyplot as plt\n"
   ]
  },
  {
   "cell_type": "code",
   "execution_count": 38,
   "metadata": {
    "collapsed": true
   },
   "outputs": [],
   "source": [
    "G =  nx.read_adjlist('data/train.txt', delimiter='\\t',create_using=nx.DiGraph() )"
   ]
  },
  {
   "cell_type": "code",
   "execution_count": 45,
   "metadata": {},
   "outputs": [],
   "source": [
    "def get_network_statistics(g):\n",
    "    num_nodes = nx.number_of_nodes(g)\n",
    "    num_edges = nx.number_of_edges(g)\n",
    "    density = nx.density(g)\n",
    "    transitivity = nx.transitivity(g)\n",
    "    \n",
    "    if num_connected_components == 1:\n",
    "        diameter = nx.diameter(g)\n",
    "    else:\n",
    "        diameter = None # infinite path length between connected components\n",
    "    \n",
    "    network_statistics = {\n",
    "        'num_nodes':num_nodes,\n",
    "        'num_edges':num_edges,\n",
    "        'density':density,\n",
    "        'diameter':diameter,\n",
    "        'transitivity':transitivity\n",
    "    }\n",
    "    \n",
    "    return network_statistics\n",
    "\n"
   ]
  },
  {
   "cell_type": "code",
   "execution_count": null,
   "metadata": {},
   "outputs": [],
   "source": [
    "def save_network_statistics(g, file_name):\n",
    "    network_statistics = get_network_statistics(g)\n",
    "    with open(file_name, 'wb') as f:\n",
    "        pickle.dump(network_statistics, f)\n",
    "save_network_statistics(G, 'network_statistics.txt')"
   ]
  }
 ],
 "metadata": {
  "kernelspec": {
   "display_name": "Python 3",
   "language": "python",
   "name": "python3"
  },
  "language_info": {
   "codemirror_mode": {
    "name": "ipython",
    "version": 3
   },
   "file_extension": ".py",
   "mimetype": "text/x-python",
   "name": "python",
   "nbconvert_exporter": "python",
   "pygments_lexer": "ipython3",
   "version": "3.6.3"
  }
 },
 "nbformat": 4,
 "nbformat_minor": 2
}
