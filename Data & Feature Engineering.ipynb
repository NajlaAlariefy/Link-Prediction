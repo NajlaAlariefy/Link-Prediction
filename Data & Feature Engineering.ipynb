{
 "cells": [
  {
   "cell_type": "markdown",
   "metadata": {},
   "source": [
    "# Link Prediction: Data & Feature Engineering"
   ]
  },
  {
   "cell_type": "code",
   "execution_count": 60,
   "metadata": {},
   "outputs": [],
   "source": [
    "import numpy as np\n",
    "import pandas as pd\n",
    "import networkx as nx\n",
    "import random as random\n",
    "import matplotlib.pyplot as plt\n",
    "import math as math\n",
    "import time as time\n",
    "import builtins\n",
    "from sklearn.utils import shuffle\n",
    "import feature_engineering\n",
    "from data_preprocessing import generate_data\n",
    "%reload_ext autoreload\n",
    "%autoreload 2\n"
   ]
  },
  {
   "cell_type": "code",
   "execution_count": 4,
   "metadata": {},
   "outputs": [],
   "source": [
    "# read in the graph through networkx\n",
    "G =  nx.read_adjlist('data/train.txt', delimiter='\\t',create_using=nx.DiGraph(), nodetype=int)\n",
    "builtins.G = G"
   ]
  },
  {
   "cell_type": "markdown",
   "metadata": {},
   "source": [
    "## Training Data\n",
    "### Generating Training Data"
   ]
  },
  {
   "cell_type": "code",
   "execution_count": 66,
   "metadata": {},
   "outputs": [
    {
     "name": "stdout",
     "output_type": "stream",
     "text": [
      "Sampleing without replacement. N = 100\n",
      "Train data generated. There are  52  unique real edges, and  48 unique imaginary ones\n"
     ]
    }
   ],
   "source": [
    "# number of training samples\n",
    "n_samples = 100\n",
    "train = generate_data(G, n_samples)"
   ]
  },
  {
   "cell_type": "markdown",
   "metadata": {},
   "source": [
    "### Computing Training Features"
   ]
  },
  {
   "cell_type": "code",
   "execution_count": 67,
   "metadata": {},
   "outputs": [
    {
     "name": "stdout",
     "output_type": "stream",
     "text": [
      "Number of Graph edges: 23946449 ,  52 edges removed.\n"
     ]
    }
   ],
   "source": [
    "# Removing real train edges from the Graph to mimic test \n",
    "sources = train.source[train['class'] == 1]\n",
    "targets = train.target[train['class'] == 1]\n",
    "edges = list(zip(sources,targets))\n",
    "n_before = nx.number_of_edges(G)\n",
    "G.remove_edges_from(edges)\n",
    "n_after = nx.number_of_edges(G)\n",
    "builtins.G = G\n",
    "\n",
    "print('Number of Graph edges:', n_after ,',', str(n_before - n_after), 'edges removed.')"
   ]
  },
  {
   "cell_type": "code",
   "execution_count": 63,
   "metadata": {
    "scrolled": true
   },
   "outputs": [
    {
     "name": "stdout",
     "output_type": "stream",
     "text": [
      "Begining feature computation.\n",
      "common_friends feature computed. Time taken:  0.037275075912475586\n",
      "total_friends feature computed. Time taken:  0.04331088066101074\n",
      "pref_attach feature computed. Time taken:  0.03337383270263672\n",
      "jacard_coef feature computed. Time taken:  0.05933332443237305\n",
      "transitive_friends feature computed. Time taken:  0.0172421932220459\n",
      "opposite_friends feature computed. Time taken:  0.010523796081542969\n",
      "adar feature computed. Time taken:  4.38959527015686\n",
      "dice_coef_directed feature computed. Time taken:  0.01992011070251465\n",
      "dice_coef_undirected feature computed. Time taken:  0.0361177921295166\n",
      "friends_closeness feature computed. Time taken:  0.11693000793457031\n",
      "jacard_outneighbours feature computed. Time taken:  44.76705312728882\n",
      "jacard_inneighbours feature computed. Time taken:  40.53006720542908\n",
      "Edge features computed. feature computed.\n",
      "Node features computed. feature computed. Time taken:  0.005491018295288086\n",
      "All features computed.\n"
     ]
    }
   ],
   "source": [
    "train = feature_engineering.generate_features(train)"
   ]
  },
  {
   "cell_type": "code",
   "execution_count": 64,
   "metadata": {},
   "outputs": [],
   "source": [
    "train = shuffle(train)\n",
    "train = train[['common_friends', 'total_friends',\n",
    "       'pref_attach', 'jacard_coef', 'transitive_friends', 'opposite_friends',\n",
    "       'adar', 'dice_coef_directed', 'dice_coef_undirected',\n",
    "       'friends_closeness', 'jacard_outneighbours', 'jacard_inneighbours',\n",
    "       'degree_source', 'degree_source_in', 'degree_source_out',\n",
    "       'degree_target', 'degree_target_in', 'degree_target_out','class']]\n",
    "\n",
    "train.to_csv('data/train.csv', index=None)"
   ]
  },
  {
   "cell_type": "markdown",
   "metadata": {},
   "source": [
    "## Test Data\n",
    "### Computing Testing Features"
   ]
  },
  {
   "cell_type": "code",
   "execution_count": 58,
   "metadata": {},
   "outputs": [
    {
     "name": "stdout",
     "output_type": "stream",
     "text": [
      "Begining feature computation.\n",
      "common_friends feature computed. Time taken:  1.1412692070007324\n",
      "total_friends feature computed. Time taken:  1.3191218376159668\n",
      "pref_attach feature computed. Time taken:  0.9747068881988525\n",
      "jacard_coef feature computed. Time taken:  2.1389219760894775\n",
      "transitive_friends feature computed. Time taken:  0.29915809631347656\n",
      "opposite_friends feature computed. Time taken:  0.08358287811279297\n",
      "adar feature computed. Time taken:  65.00015878677368\n",
      "dice_coef_directed feature computed. Time taken:  0.7175652980804443\n",
      "dice_coef_undirected feature computed. Time taken:  1.2167260646820068\n",
      "friends_closeness feature computed. Time taken:  2.8490569591522217\n",
      "jacard_outneighbours feature computed. Time taken:  1230.869520187378\n",
      "jacard_inneighbours feature computed. Time taken:  1224.5096352100372\n",
      "Edge features computed. feature computed.\n",
      "Node features computed. feature computed. Time taken:  0.04506802558898926\n",
      "All features computed.\n"
     ]
    }
   ],
   "source": [
    "test = pd.read_csv('data/test-public.txt',delimiter = '\\t')\n",
    "test = test.drop(['Id'],axis = 1)\n",
    "test.columns = ['source','target']\n",
    "test['class'] = 1\n",
    "test = feature_engineering.generate_features(test)\n",
    "test = test[['common_friends', 'total_friends',\n",
    "       'pref_attach', 'jacard_coef', 'transitive_friends', 'opposite_friends',\n",
    "       'adar', 'dice_coef_directed', 'dice_coef_undirected',\n",
    "       'friends_closeness', 'jacard_outneighbours', 'jacard_inneighbours',\n",
    "       'degree_source', 'degree_source_in', 'degree_source_out',\n",
    "       'degree_target', 'degree_target_in', 'degree_target_out','class']]\n",
    "test.to_csv('data/test.csv', index=None)\n"
   ]
  }
 ],
 "metadata": {
  "kernelspec": {
   "display_name": "Python 3",
   "language": "python",
   "name": "python3"
  },
  "language_info": {
   "codemirror_mode": {
    "name": "ipython",
    "version": 3
   },
   "file_extension": ".py",
   "mimetype": "text/x-python",
   "name": "python",
   "nbconvert_exporter": "python",
   "pygments_lexer": "ipython3",
   "version": "3.7.0"
  }
 },
 "nbformat": 4,
 "nbformat_minor": 2
}
