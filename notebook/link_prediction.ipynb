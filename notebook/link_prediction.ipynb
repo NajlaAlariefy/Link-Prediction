{
 "cells": [
  {
   "cell_type": "markdown",
   "metadata": {},
   "source": [
    "# Link Prediction"
   ]
  },
  {
   "cell_type": "markdown",
   "metadata": {},
   "source": [
    "In this notebook, we demonstrate how to use GraphLab Create to construct a simple [Link Prediction](http://personal.stevens.edu/~jbao/BIA658A/Session10/liben-nowell.pdf) classifier.\n",
    "A link prediction classifier is a classifier that can predict the probability of the existence (or non-existence) of a link in a social network (SN). Namely, given a social network, such as Facebook, a link prediction classifier can help to determine if a link between two users exist. Our construction is general and not limited to SN. For example, in a phone call network our classifier can predict whether two subscribers will call each other. \n",
    "\n",
    "There are many diverse methods to construct a link prediction classifier, such as using the SN topology, using the SN users' personal details or using posts and other published online content. \n",
    "\n",
    "The main goal of this notebook is to demonstrate how to use GraphLab's SFrame and SGraph to extract various SN topological features. These topological features can later be utilized to perform various prediction tasks, such as \n",
    "[link prediction](http://dl.acm.org/citation.cfm?id=2542192), and [predicting students' exam scores](http://www.academia.edu/1123106/Predicting_Student_Exams_Scores_by_Analyzing_Social_Network_Data). \n",
    "\n",
    "This notebook is organized as follows: First, we download a link prediction training dataset and constract a graph from it. Next, we will illustrate how GraphLab's SFrame and SGraph objects can be utilized to extract various SN topological features for each link. Finally, we will demonstrate how to use those features inside a link prediction classifier."
   ]
  },
  {
   "cell_type": "markdown",
   "metadata": {},
   "source": [
    "## Downloading the Dataset "
   ]
  },
  {
   "cell_type": "markdown",
   "metadata": {},
   "source": [
    "In this notebook, we will use dataset which was published by [BGU Social Network Research Group](http://proj.ise.bgu.ac.il/sns/datasets.html). \n",
    "We will download the [Google+ dataset](http://proj.ise.bgu.ac.il/sns/googlep.html) which consists of around 3 million links, and generate a SGraph object containing the social links."
   ]
  },
  {
   "cell_type": "code",
   "execution_count": 1,
   "metadata": {
    "collapsed": false,
    "scrolled": false
   },
   "outputs": [
    {
     "name": "stdout",
     "output_type": "stream",
     "text": [
      "This non-commercial license of GraphLab Create for academic use is assigned to smodarres@student.unimelb.edu.au and will expire on August 23, 2019.\n"
     ]
    },
    {
     "name": "stderr",
     "output_type": "stream",
     "text": [
      "[INFO] graphlab.cython.cy_server: GraphLab Create v2.1 started. Logging: C:\\Users\\Modarres\\AppData\\Local\\Temp\\graphlab_server_1535362062.log.0\n"
     ]
    },
    {
     "data": {
      "text/html": [
       "<pre>Finished parsing file C:\\Users\\Modarres\\Desktop\\sample.txt</pre>"
      ],
      "text/plain": [
       "Finished parsing file C:\\Users\\Modarres\\Desktop\\sample.txt"
      ]
     },
     "metadata": {},
     "output_type": "display_data"
    },
    {
     "data": {
      "text/html": [
       "<pre>Parsing completed. Parsed 100 lines in 0.05773 secs.</pre>"
      ],
      "text/plain": [
       "Parsing completed. Parsed 100 lines in 0.05773 secs."
      ]
     },
     "metadata": {},
     "output_type": "display_data"
    },
    {
     "name": "stdout",
     "output_type": "stream",
     "text": [
      "------------------------------------------------------\n",
      "Inferred types from first 100 line(s) of file as \n",
      "column_type_hints=[long,long,long]\n",
      "If parsing fails due to incorrect types, you can correct\n",
      "the inferred type list above and pass it to read_csv in\n",
      "the column_type_hints argument\n",
      "------------------------------------------------------\n"
     ]
    },
    {
     "data": {
      "text/html": [
       "<pre>Finished parsing file C:\\Users\\Modarres\\Desktop\\sample.txt</pre>"
      ],
      "text/plain": [
       "Finished parsing file C:\\Users\\Modarres\\Desktop\\sample.txt"
      ]
     },
     "metadata": {},
     "output_type": "display_data"
    },
    {
     "data": {
      "text/html": [
       "<pre>Parsing completed. Parsed 114132 lines in 0.057042 secs.</pre>"
      ],
      "text/plain": [
       "Parsing completed. Parsed 114132 lines in 0.057042 secs."
      ]
     },
     "metadata": {},
     "output_type": "display_data"
    },
    {
     "name": "stdout",
     "output_type": "stream",
     "text": [
      "+---------+---------+-------+\n",
      "|   src   |   dst   | class |\n",
      "+---------+---------+-------+\n",
      "| 1146906 | 4122183 |   1   |\n",
      "| 2448032 | 3401703 |   0   |\n",
      "| 2290639 |  996371 |   0   |\n",
      "+---------+---------+-------+\n",
      "[3 rows x 3 columns]\n",
      "\n"
     ]
    }
   ],
   "source": [
    "import graphlab as gl\n",
    "import networkx as nx\n",
    "gl.product_key.set_product_key('DEAD-3D52-156B-178F-F077-EB67-480D-23DA')\n",
    "\n",
    "\n",
    "# Loading the links dataset into a SFrame object\n",
    "# sf_links = gl.SFrame.read_csv(\"https://static.turi.com/datasets/bgu_directed_network_googleplus/g_plus_pos_and_neg_links.csv.gz\")\n",
    "\n",
    "sf_links = gl.SFrame.read_csv(\"C:/Users/Modarres/Desktop/sample.txt\") # This is the subgraph file, use the 2mb file for now\n",
    "\n",
    "\n",
    "# Let's view the data\n",
    "print sf_links.head(3)\n",
    "\n",
    "\n",
    "# Creating SGraph object from the SFrame object\n",
    "g = gl.SGraph().add_edges(sf_links, src_field='src', dst_field='dst')\n",
    "\n",
    "\n",
    "\n",
    "\n"
   ]
  },
  {
   "cell_type": "code",
   "execution_count": 2,
   "metadata": {
    "collapsed": false
   },
   "outputs": [
    {
     "data": {
      "text/html": [
       "<pre>Finished parsing file C:\\Users\\Modarres\\Desktop\\data.txt</pre>"
      ],
      "text/plain": [
       "Finished parsing file C:\\Users\\Modarres\\Desktop\\data.txt"
      ]
     },
     "metadata": {},
     "output_type": "display_data"
    },
    {
     "data": {
      "text/html": [
       "<pre>Parsing completed. Parsed 100 lines in 0.909735 secs.</pre>"
      ],
      "text/plain": [
       "Parsing completed. Parsed 100 lines in 0.909735 secs."
      ]
     },
     "metadata": {},
     "output_type": "display_data"
    },
    {
     "name": "stdout",
     "output_type": "stream",
     "text": [
      "------------------------------------------------------\n",
      "Inferred types from first 100 line(s) of file as \n",
      "column_type_hints=[long,long]\n",
      "If parsing fails due to incorrect types, you can correct\n",
      "the inferred type list above and pass it to read_csv in\n",
      "the column_type_hints argument\n",
      "------------------------------------------------------\n"
     ]
    },
    {
     "data": {
      "text/html": [
       "<pre>Read 3246017 lines. Lines per second: 2.34038e+006</pre>"
      ],
      "text/plain": [
       "Read 3246017 lines. Lines per second: 2.34038e+006"
      ]
     },
     "metadata": {},
     "output_type": "display_data"
    },
    {
     "data": {
      "text/html": [
       "<pre>Finished parsing file C:\\Users\\Modarres\\Desktop\\data.txt</pre>"
      ],
      "text/plain": [
       "Finished parsing file C:\\Users\\Modarres\\Desktop\\data.txt"
      ]
     },
     "metadata": {},
     "output_type": "display_data"
    },
    {
     "data": {
      "text/html": [
       "<pre>Parsing completed. Parsed 24004361 lines in 4.65703 secs.</pre>"
      ],
      "text/plain": [
       "Parsing completed. Parsed 24004361 lines in 4.65703 secs."
      ]
     },
     "metadata": {},
     "output_type": "display_data"
    },
    {
     "name": "stdout",
     "output_type": "stream",
     "text": [
      "+---------+---------+\n",
      "|   src   |   dst   |\n",
      "+---------+---------+\n",
      "| 4066935 | 1272125 |\n",
      "| 4066935 | 3105725 |\n",
      "| 4066935 | 2828522 |\n",
      "| 4066935 | 4394015 |\n",
      "| 4066935 | 2367409 |\n",
      "| 4066935 | 2397416 |\n",
      "| 4066935 | 1532172 |\n",
      "| 4066935 | 3550092 |\n",
      "| 4066935 |  614334 |\n",
      "| 4066935 | 4739396 |\n",
      "+---------+---------+\n",
      "[10 rows x 2 columns]\n",
      "\n",
      "+----------+----------+\n",
      "| __src_id | __dst_id |\n",
      "+----------+----------+\n",
      "| 2624878  | 4066935  |\n",
      "| 3376555  | 4066935  |\n",
      "|  377939  | 4066935  |\n",
      "| 1155919  | 4066935  |\n",
      "| 3565814  | 4066935  |\n",
      "|  928558  | 4066935  |\n",
      "| 4282079  | 4066935  |\n",
      "| 2323997  | 4066935  |\n",
      "| 2339159  | 4066935  |\n",
      "| 2796817  | 4066935  |\n",
      "+----------+----------+\n",
      "[142 rows x 2 columns]\n",
      "Note: Only the head of the SFrame is printed.\n",
      "You can use print_rows(num_rows=m, num_columns=n) to print more rows and columns.\n"
     ]
    },
    {
     "data": {
      "text/html": [
       "<pre>Finished parsing file C:\\Users\\Modarres\\Desktop\\test_data.txt</pre>"
      ],
      "text/plain": [
       "Finished parsing file C:\\Users\\Modarres\\Desktop\\test_data.txt"
      ]
     },
     "metadata": {},
     "output_type": "display_data"
    },
    {
     "data": {
      "text/html": [
       "<pre>Parsing completed. Parsed 7 lines in 0.018999 secs.</pre>"
      ],
      "text/plain": [
       "Parsing completed. Parsed 7 lines in 0.018999 secs."
      ]
     },
     "metadata": {},
     "output_type": "display_data"
    },
    {
     "name": "stdout",
     "output_type": "stream",
     "text": [
      "------------------------------------------------------\n",
      "Inferred types from first 100 line(s) of file as \n",
      "column_type_hints=[long,long,long]\n",
      "If parsing fails due to incorrect types, you can correct\n",
      "the inferred type list above and pass it to read_csv in\n",
      "the column_type_hints argument\n",
      "------------------------------------------------------\n"
     ]
    },
    {
     "data": {
      "text/html": [
       "<pre>Finished parsing file C:\\Users\\Modarres\\Desktop\\test_data.txt</pre>"
      ],
      "text/plain": [
       "Finished parsing file C:\\Users\\Modarres\\Desktop\\test_data.txt"
      ]
     },
     "metadata": {},
     "output_type": "display_data"
    },
    {
     "data": {
      "text/html": [
       "<pre>Parsing completed. Parsed 7 lines in 0.025331 secs.</pre>"
      ],
      "text/plain": [
       "Parsing completed. Parsed 7 lines in 0.025331 secs."
      ]
     },
     "metadata": {},
     "output_type": "display_data"
    },
    {
     "name": "stdout",
     "output_type": "stream",
     "text": [
      "+----+---------+---------+\n",
      "| Id |  Source |   Sink  |\n",
      "+----+---------+---------+\n",
      "| 1  | 2184483 | 1300190 |\n",
      "| 2  | 3151356 | 1452193 |\n",
      "| 3  | 1579396 |  193159 |\n",
      "| 4  | 1406432 | 2481036 |\n",
      "| 5  | 2389638 |  593017 |\n",
      "+----+---------+---------+\n",
      "[5 rows x 3 columns]\n",
      "\n"
     ]
    }
   ],
   "source": [
    "# added code\n",
    "sf_links_entire = gl.SFrame.read_csv(\"C:/Users/Modarres/Desktop/data.txt\") # this is the all the train data in edge format. add src,dst as first line\n",
    "g_entire = gl.SGraph().add_edges(sf_links_entire, src_field='src', dst_field='dst')\n",
    "print sf_links_entire.head(10)\n",
    "print g_entire.get_edges(dst_ids=[4066935])\n",
    "\n",
    "\n",
    "# this is the test file with test edges that we need to produce probabilities for, only keep the first 5 lines because currently this is very slow\n",
    "sf_links_test = gl.SFrame.read_csv(\"C:/Users/Modarres/Desktop/test_data.txt\", delimiter=\"\\t\") \n",
    "\n",
    "print sf_links_test.head(5)\n",
    "\n",
    "\n",
    "g_test = gl.SGraph().add_edges(sf_links_test, src_field='Source', dst_field='Sink')\n"
   ]
  },
  {
   "cell_type": "code",
   "execution_count": null,
   "metadata": {
    "collapsed": false
   },
   "outputs": [],
   "source": []
  },
  {
   "cell_type": "markdown",
   "metadata": {},
   "source": [
    "Let use the SGraph's summary function to get details on the loaded SGraph object"
   ]
  },
  {
   "cell_type": "code",
   "execution_count": 3,
   "metadata": {
    "collapsed": false
   },
   "outputs": [
    {
     "data": {
      "text/plain": [
       "{'num_edges': 114132L, 'num_vertices': 31472L}"
      ]
     },
     "execution_count": 3,
     "metadata": {},
     "output_type": "execute_result"
    }
   ],
   "source": [
    "g.summary()"
   ]
  },
  {
   "cell_type": "markdown",
   "metadata": {},
   "source": [
    "Our directed graph has around 3 million edges (referred to as links) and over 200,000 vertices (referred to as users). \n",
    "Those links are roughtly divided into two. Positive links (labeled 1), and Negative links (labeled 0). The positive links are observed links in the social network, while negative links were added at random so our binary classifier could learn from the negative examples as well. Note, that if you like to use your own dataset, you will need to add negative (unobserved) edges at random for our construction to work."
   ]
  },
  {
   "cell_type": "markdown",
   "metadata": {},
   "source": [
    "## Topological Feature Extraction"
   ]
  },
  {
   "cell_type": "markdown",
   "metadata": {},
   "source": [
    "Let's create an SFrame obejct with all user ids."
   ]
  },
  {
   "cell_type": "code",
   "execution_count": 4,
   "metadata": {
    "collapsed": false
   },
   "outputs": [
    {
     "data": {
      "text/html": [
       "<div style=\"max-height:1000px;max-width:1500px;overflow:auto;\"><table frame=\"box\" rules=\"cols\">\n",
       "    <tr>\n",
       "        <th style=\"padding-left: 1em; padding-right: 1em; text-align: center\">id</th>\n",
       "    </tr>\n",
       "    <tr>\n",
       "        <td style=\"padding-left: 1em; padding-right: 1em; text-align: center; vertical-align: top\">115</td>\n",
       "    </tr>\n",
       "    <tr>\n",
       "        <td style=\"padding-left: 1em; padding-right: 1em; text-align: center; vertical-align: top\">2060</td>\n",
       "    </tr>\n",
       "    <tr>\n",
       "        <td style=\"padding-left: 1em; padding-right: 1em; text-align: center; vertical-align: top\">3758</td>\n",
       "    </tr>\n",
       "    <tr>\n",
       "        <td style=\"padding-left: 1em; padding-right: 1em; text-align: center; vertical-align: top\">4084</td>\n",
       "    </tr>\n",
       "    <tr>\n",
       "        <td style=\"padding-left: 1em; padding-right: 1em; text-align: center; vertical-align: top\">6993</td>\n",
       "    </tr>\n",
       "</table>\n",
       "[5 rows x 1 columns]<br/>\n",
       "</div>"
      ],
      "text/plain": [
       "Columns:\n",
       "\tid\tint\n",
       "\n",
       "Rows: 5\n",
       "\n",
       "Data:\n",
       "+------+\n",
       "|  id  |\n",
       "+------+\n",
       "| 115  |\n",
       "| 2060 |\n",
       "| 3758 |\n",
       "| 4084 |\n",
       "| 6993 |\n",
       "+------+\n",
       "[5 rows x 1 columns]"
      ]
     },
     "execution_count": 4,
     "metadata": {},
     "output_type": "execute_result"
    }
   ],
   "source": [
    "users_sf = g.get_vertices()\n",
    "users_sf.rename({\"__id\": \"id\"}) \n",
    "users_sf.head(5)\n",
    "\n"
   ]
  },
  {
   "cell_type": "code",
   "execution_count": 5,
   "metadata": {
    "collapsed": false
   },
   "outputs": [
    {
     "data": {
      "text/html": [
       "<div style=\"max-height:1000px;max-width:1500px;overflow:auto;\"><table frame=\"box\" rules=\"cols\">\n",
       "    <tr>\n",
       "        <th style=\"padding-left: 1em; padding-right: 1em; text-align: center\">id</th>\n",
       "    </tr>\n",
       "    <tr>\n",
       "        <td style=\"padding-left: 1em; padding-right: 1em; text-align: center; vertical-align: top\">1237964</td>\n",
       "    </tr>\n",
       "    <tr>\n",
       "        <td style=\"padding-left: 1em; padding-right: 1em; text-align: center; vertical-align: top\">1452193</td>\n",
       "    </tr>\n",
       "    <tr>\n",
       "        <td style=\"padding-left: 1em; padding-right: 1em; text-align: center; vertical-align: top\">2389638</td>\n",
       "    </tr>\n",
       "    <tr>\n",
       "        <td style=\"padding-left: 1em; padding-right: 1em; text-align: center; vertical-align: top\">3151356</td>\n",
       "    </tr>\n",
       "    <tr>\n",
       "        <td style=\"padding-left: 1em; padding-right: 1em; text-align: center; vertical-align: top\">212805</td>\n",
       "    </tr>\n",
       "</table>\n",
       "[5 rows x 1 columns]<br/>\n",
       "</div>"
      ],
      "text/plain": [
       "Columns:\n",
       "\tid\tint\n",
       "\n",
       "Rows: 5\n",
       "\n",
       "Data:\n",
       "+---------+\n",
       "|    id   |\n",
       "+---------+\n",
       "| 1237964 |\n",
       "| 1452193 |\n",
       "| 2389638 |\n",
       "| 3151356 |\n",
       "|  212805 |\n",
       "+---------+\n",
       "[5 rows x 1 columns]"
      ]
     },
     "execution_count": 5,
     "metadata": {},
     "output_type": "execute_result"
    }
   ],
   "source": [
    "#added code\n",
    "users_sf_test = g_test.get_vertices()\n",
    "users_sf_test.rename({\"__id\": \"id\"}) \n",
    "users_sf_test.head(5)"
   ]
  },
  {
   "cell_type": "markdown",
   "metadata": {},
   "source": [
    "The users sframe can be used for calculating several topological feature for each link in the dataset. \n",
    "We will start by calculating various simple topological features, such as the each user's in-degree (i.e. the user's number of followers) and user's out-degree (i.e. number of users the user is followling).  \n",
    "\n",
    "To calculate each vertex toplogical features, we will first create a SFrame object that contains each user's in-friends (i.e. the users in the network that follows the user), and the user's out-friends (the users in the network which the user follows)."
   ]
  },
  {
   "cell_type": "code",
   "execution_count": 6,
   "metadata": {
    "collapsed": false
   },
   "outputs": [
    {
     "data": {
      "text/html": [
       "<div style=\"max-height:1000px;max-width:1500px;overflow:auto;\"><table frame=\"box\" rules=\"cols\">\n",
       "    <tr>\n",
       "        <th style=\"padding-left: 1em; padding-right: 1em; text-align: center\">id</th>\n",
       "        <th style=\"padding-left: 1em; padding-right: 1em; text-align: center\">in_friends</th>\n",
       "    </tr>\n",
       "    <tr>\n",
       "        <td style=\"padding-left: 1em; padding-right: 1em; text-align: center; vertical-align: top\">2759692</td>\n",
       "        <td style=\"padding-left: 1em; padding-right: 1em; text-align: center; vertical-align: top\">[1812114, 1085187]</td>\n",
       "    </tr>\n",
       "    <tr>\n",
       "        <td style=\"padding-left: 1em; padding-right: 1em; text-align: center; vertical-align: top\">127950</td>\n",
       "        <td style=\"padding-left: 1em; padding-right: 1em; text-align: center; vertical-align: top\">[3855254, 1729215,<br>2593244, 1349133, 651 ...</td>\n",
       "    </tr>\n",
       "    <tr>\n",
       "        <td style=\"padding-left: 1em; padding-right: 1em; text-align: center; vertical-align: top\">910362</td>\n",
       "        <td style=\"padding-left: 1em; padding-right: 1em; text-align: center; vertical-align: top\">[2021460, 2023163]</td>\n",
       "    </tr>\n",
       "    <tr>\n",
       "        <td style=\"padding-left: 1em; padding-right: 1em; text-align: center; vertical-align: top\">2067382</td>\n",
       "        <td style=\"padding-left: 1em; padding-right: 1em; text-align: center; vertical-align: top\">[241370]</td>\n",
       "    </tr>\n",
       "    <tr>\n",
       "        <td style=\"padding-left: 1em; padding-right: 1em; text-align: center; vertical-align: top\">3561229</td>\n",
       "        <td style=\"padding-left: 1em; padding-right: 1em; text-align: center; vertical-align: top\">[3068613, 2651652,<br>3166930] ...</td>\n",
       "    </tr>\n",
       "    <tr>\n",
       "        <td style=\"padding-left: 1em; padding-right: 1em; text-align: center; vertical-align: top\">4284688</td>\n",
       "        <td style=\"padding-left: 1em; padding-right: 1em; text-align: center; vertical-align: top\">[1324992]</td>\n",
       "    </tr>\n",
       "    <tr>\n",
       "        <td style=\"padding-left: 1em; padding-right: 1em; text-align: center; vertical-align: top\">3742828</td>\n",
       "        <td style=\"padding-left: 1em; padding-right: 1em; text-align: center; vertical-align: top\">[3854370, 2256492]</td>\n",
       "    </tr>\n",
       "    <tr>\n",
       "        <td style=\"padding-left: 1em; padding-right: 1em; text-align: center; vertical-align: top\">2685078</td>\n",
       "        <td style=\"padding-left: 1em; padding-right: 1em; text-align: center; vertical-align: top\">[1331326, 1508784,<br>1596155] ...</td>\n",
       "    </tr>\n",
       "    <tr>\n",
       "        <td style=\"padding-left: 1em; padding-right: 1em; text-align: center; vertical-align: top\">1472708</td>\n",
       "        <td style=\"padding-left: 1em; padding-right: 1em; text-align: center; vertical-align: top\">[378745, 2795881,<br>4139465, 4671336, ...</td>\n",
       "    </tr>\n",
       "    <tr>\n",
       "        <td style=\"padding-left: 1em; padding-right: 1em; text-align: center; vertical-align: top\">460603</td>\n",
       "        <td style=\"padding-left: 1em; padding-right: 1em; text-align: center; vertical-align: top\">[2468519]</td>\n",
       "    </tr>\n",
       "</table>\n",
       "[31472 rows x 2 columns]<br/>Note: Only the head of the SFrame is printed.<br/>You can use print_rows(num_rows=m, num_columns=n) to print more rows and columns.\n",
       "</div>"
      ],
      "text/plain": [
       "Columns:\n",
       "\tid\tint\n",
       "\tin_friends\tlist\n",
       "\n",
       "Rows: 31472\n",
       "\n",
       "Data:\n",
       "+---------+-------------------------------+\n",
       "|    id   |           in_friends          |\n",
       "+---------+-------------------------------+\n",
       "| 2759692 |       [1812114, 1085187]      |\n",
       "|  127950 | [3855254, 1729215, 2593244... |\n",
       "|  910362 |       [2021460, 2023163]      |\n",
       "| 2067382 |            [241370]           |\n",
       "| 3561229 |  [3068613, 2651652, 3166930]  |\n",
       "| 4284688 |           [1324992]           |\n",
       "| 3742828 |       [3854370, 2256492]      |\n",
       "| 2685078 |  [1331326, 1508784, 1596155]  |\n",
       "| 1472708 | [378745, 2795881, 4139465,... |\n",
       "|  460603 |           [2468519]           |\n",
       "+---------+-------------------------------+\n",
       "[31472 rows x 2 columns]\n",
       "Note: Only the head of the SFrame is printed.\n",
       "You can use print_rows(num_rows=m, num_columns=n) to print more rows and columns."
      ]
     },
     "execution_count": 6,
     "metadata": {},
     "output_type": "execute_result"
    }
   ],
   "source": [
    "# Calculating each vertices in and out degree\n",
    "out_friends_sf = sf_links.groupby(\"src\", {\"out_friends\": gl.aggregate.CONCAT(\"dst\")})\n",
    "out_friends_sf.rename({\"src\": \"id\"})\n",
    "in_friends_sf = sf_links.groupby(\"dst\", {\"in_friends\": gl.aggregate.CONCAT(\"src\")})\n",
    "in_friends_sf.rename({\"dst\": \"id\"})\n",
    "\n",
    "\n"
   ]
  },
  {
   "cell_type": "code",
   "execution_count": 7,
   "metadata": {
    "collapsed": false
   },
   "outputs": [
    {
     "name": "stdout",
     "output_type": "stream",
     "text": [
      "+---------+-------------------------------+-------------------------------+\n",
      "|    id   |           in_friends          |          out_friends          |\n",
      "+---------+-------------------------------+-------------------------------+\n",
      "| 1237964 | [448823.0, 4157152.0, 3317... | [2332893.0, 448823.0, 1139... |\n",
      "| 1452193 | [2501645.0, 3660919.0, 884... |               []              |\n",
      "| 2389638 | [2880517.0, 3553485.0, 212... | [201039.0, 2402120.0, 2819... |\n",
      "| 3151356 | [2120801.0, 1357350.0, 408... | [4052824.0, 3317934.0, 184... |\n",
      "|  212805 | [68695.0, 884795.0, 279170... | [620720.0, 2576942.0, 2728... |\n",
      "|  593017 | [974241.0, 3694560.0, 1181... | [1328064.0, 595768.0, 2704... |\n",
      "| 1300190 | [4651416.0, 3227840.0, 265... |               []              |\n",
      "| 2184483 | [3770256.0, 2173130.0, 465... | [3209755.0, 1687276.0, 432... |\n",
      "|  228206 | [1869658.0, 4738810.0, 763... | [76360.0, 1869658.0, 47388... |\n",
      "| 1406432 | [1687276.0, 972843.0, 2956... | [4088654.0, 1351603.0, 200... |\n",
      "+---------+-------------------------------+-------------------------------+\n",
      "[14 rows x 3 columns]\n",
      "Note: Only the head of the SFrame is printed.\n",
      "You can use print_rows(num_rows=m, num_columns=n) to print more rows and columns.\n"
     ]
    }
   ],
   "source": [
    "#added code\n",
    "# This section should be straightforward find out why it's so slow!? it takes so much time to find in and out friends for only 6 vertices!\n",
    "\n",
    "\n",
    "def in_friends(u):\n",
    "    return g_entire.get_edges(dst_ids=[u]).select_column(\"__src_id\")\n",
    "#     return g_entire.get_edges(dst_ids=[u])\n",
    "\n",
    "def out_friends(u):\n",
    "    return g_entire.get_edges(src_ids=[u]).select_column(\"__dst_id\")\n",
    "\n",
    "\n",
    "#users_sf_test.add_column(\"in_friends\")\n",
    "#users_sf_test.add_column(\"out_friends\")\n",
    "\n",
    "#vertices_infriends = users_sf_test.select_column(\"id\")\n",
    "\n",
    "users_sf_test['in_friends'] = users_sf_test[['id']].apply(lambda r: in_friends(r['id']))\n",
    "users_sf_test['out_friends'] = users_sf_test[['id']].apply(lambda r: out_friends(r['id']))\n",
    "\n",
    "# users_sf_test = users_sf_test.fillna('in_friends',[])\n",
    "# users_sf_test = users_sf_test.fillna('out_friends',[])\n",
    "\n",
    "print users_sf_test\n",
    "\n"
   ]
  },
  {
   "cell_type": "markdown",
   "metadata": {},
   "source": [
    "Using the SFrame [join](https://turi.com/products/create/docs/generated/graphlab.SFrame.join.html#graphlab.SFrame.join) operation, we create a single SFrame which consists of each user's in and out friends."
   ]
  },
  {
   "cell_type": "code",
   "execution_count": 8,
   "metadata": {
    "collapsed": false
   },
   "outputs": [
    {
     "data": {
      "text/html": [
       "<div style=\"max-height:1000px;max-width:1500px;overflow:auto;\"><table frame=\"box\" rules=\"cols\">\n",
       "    <tr>\n",
       "        <th style=\"padding-left: 1em; padding-right: 1em; text-align: center\">id</th>\n",
       "        <th style=\"padding-left: 1em; padding-right: 1em; text-align: center\">in_friends</th>\n",
       "        <th style=\"padding-left: 1em; padding-right: 1em; text-align: center\">out_friends</th>\n",
       "    </tr>\n",
       "    <tr>\n",
       "        <td style=\"padding-left: 1em; padding-right: 1em; text-align: center; vertical-align: top\">2759692</td>\n",
       "        <td style=\"padding-left: 1em; padding-right: 1em; text-align: center; vertical-align: top\">[1812114, 1085187]</td>\n",
       "        <td style=\"padding-left: 1em; padding-right: 1em; text-align: center; vertical-align: top\">[251505, 990399]</td>\n",
       "    </tr>\n",
       "    <tr>\n",
       "        <td style=\"padding-left: 1em; padding-right: 1em; text-align: center; vertical-align: top\">127950</td>\n",
       "        <td style=\"padding-left: 1em; padding-right: 1em; text-align: center; vertical-align: top\">[3855254, 1729215,<br>2593244, 1349133, 651 ...</td>\n",
       "        <td style=\"padding-left: 1em; padding-right: 1em; text-align: center; vertical-align: top\">[1123570]</td>\n",
       "    </tr>\n",
       "    <tr>\n",
       "        <td style=\"padding-left: 1em; padding-right: 1em; text-align: center; vertical-align: top\">910362</td>\n",
       "        <td style=\"padding-left: 1em; padding-right: 1em; text-align: center; vertical-align: top\">[2021460, 2023163]</td>\n",
       "        <td style=\"padding-left: 1em; padding-right: 1em; text-align: center; vertical-align: top\">[]</td>\n",
       "    </tr>\n",
       "    <tr>\n",
       "        <td style=\"padding-left: 1em; padding-right: 1em; text-align: center; vertical-align: top\">2067382</td>\n",
       "        <td style=\"padding-left: 1em; padding-right: 1em; text-align: center; vertical-align: top\">[241370]</td>\n",
       "        <td style=\"padding-left: 1em; padding-right: 1em; text-align: center; vertical-align: top\">[]</td>\n",
       "    </tr>\n",
       "    <tr>\n",
       "        <td style=\"padding-left: 1em; padding-right: 1em; text-align: center; vertical-align: top\">3561229</td>\n",
       "        <td style=\"padding-left: 1em; padding-right: 1em; text-align: center; vertical-align: top\">[3068613, 2651652,<br>3166930] ...</td>\n",
       "        <td style=\"padding-left: 1em; padding-right: 1em; text-align: center; vertical-align: top\">[259166, 4108731]</td>\n",
       "    </tr>\n",
       "    <tr>\n",
       "        <td style=\"padding-left: 1em; padding-right: 1em; text-align: center; vertical-align: top\">4284688</td>\n",
       "        <td style=\"padding-left: 1em; padding-right: 1em; text-align: center; vertical-align: top\">[1324992]</td>\n",
       "        <td style=\"padding-left: 1em; padding-right: 1em; text-align: center; vertical-align: top\">[]</td>\n",
       "    </tr>\n",
       "    <tr>\n",
       "        <td style=\"padding-left: 1em; padding-right: 1em; text-align: center; vertical-align: top\">3742828</td>\n",
       "        <td style=\"padding-left: 1em; padding-right: 1em; text-align: center; vertical-align: top\">[3854370, 2256492]</td>\n",
       "        <td style=\"padding-left: 1em; padding-right: 1em; text-align: center; vertical-align: top\">[]</td>\n",
       "    </tr>\n",
       "    <tr>\n",
       "        <td style=\"padding-left: 1em; padding-right: 1em; text-align: center; vertical-align: top\">2685078</td>\n",
       "        <td style=\"padding-left: 1em; padding-right: 1em; text-align: center; vertical-align: top\">[1331326, 1508784,<br>1596155] ...</td>\n",
       "        <td style=\"padding-left: 1em; padding-right: 1em; text-align: center; vertical-align: top\">[]</td>\n",
       "    </tr>\n",
       "    <tr>\n",
       "        <td style=\"padding-left: 1em; padding-right: 1em; text-align: center; vertical-align: top\">1472708</td>\n",
       "        <td style=\"padding-left: 1em; padding-right: 1em; text-align: center; vertical-align: top\">[378745, 2795881,<br>4139465, 4671336, ...</td>\n",
       "        <td style=\"padding-left: 1em; padding-right: 1em; text-align: center; vertical-align: top\">[3637026, 438950,<br>2085431, 1668027, 848 ...</td>\n",
       "    </tr>\n",
       "    <tr>\n",
       "        <td style=\"padding-left: 1em; padding-right: 1em; text-align: center; vertical-align: top\">460603</td>\n",
       "        <td style=\"padding-left: 1em; padding-right: 1em; text-align: center; vertical-align: top\">[2468519]</td>\n",
       "        <td style=\"padding-left: 1em; padding-right: 1em; text-align: center; vertical-align: top\">[3694826, 396073]</td>\n",
       "    </tr>\n",
       "</table>\n",
       "[10 rows x 3 columns]<br/>\n",
       "</div>"
      ],
      "text/plain": [
       "Columns:\n",
       "\tid\tint\n",
       "\tin_friends\tlist\n",
       "\tout_friends\tlist\n",
       "\n",
       "Rows: 10\n",
       "\n",
       "Data:\n",
       "+---------+-------------------------------+-------------------------------+\n",
       "|    id   |           in_friends          |          out_friends          |\n",
       "+---------+-------------------------------+-------------------------------+\n",
       "| 2759692 |       [1812114, 1085187]      |        [251505, 990399]       |\n",
       "|  127950 | [3855254, 1729215, 2593244... |           [1123570]           |\n",
       "|  910362 |       [2021460, 2023163]      |               []              |\n",
       "| 2067382 |            [241370]           |               []              |\n",
       "| 3561229 |  [3068613, 2651652, 3166930]  |       [259166, 4108731]       |\n",
       "| 4284688 |           [1324992]           |               []              |\n",
       "| 3742828 |       [3854370, 2256492]      |               []              |\n",
       "| 2685078 |  [1331326, 1508784, 1596155]  |               []              |\n",
       "| 1472708 | [378745, 2795881, 4139465,... | [3637026, 438950, 2085431,... |\n",
       "|  460603 |           [2468519]           |       [3694826, 396073]       |\n",
       "+---------+-------------------------------+-------------------------------+\n",
       "[10 rows x 3 columns]"
      ]
     },
     "execution_count": 8,
     "metadata": {},
     "output_type": "execute_result"
    }
   ],
   "source": [
    "users_sf = users_sf.join(in_friends_sf, on=\"id\", how=\"outer\")\n",
    "users_sf = users_sf.join(out_friends_sf, on=\"id\", how=\"outer\")\n",
    "\n",
    "# we replace missing values with empty lists\n",
    "users_sf = users_sf.fillna('in_friends',[])\n",
    "users_sf = users_sf.fillna('out_friends',[])\n",
    "users_sf.head(10)"
   ]
  },
  {
   "cell_type": "markdown",
   "metadata": {},
   "source": [
    "Using the created SFrame with each user in-friends and out-friends, we calculate several simple topological features for each user,  such as each user's in-degree (i.e. number of followers) and each user's out-degree (i.e. number of users the user is followling). "
   ]
  },
  {
   "cell_type": "code",
   "execution_count": 9,
   "metadata": {
    "collapsed": false
   },
   "outputs": [
    {
     "data": {
      "text/html": [
       "<div style=\"max-height:1000px;max-width:1500px;overflow:auto;\"><table frame=\"box\" rules=\"cols\">\n",
       "    <tr>\n",
       "        <th style=\"padding-left: 1em; padding-right: 1em; text-align: center\">id</th>\n",
       "        <th style=\"padding-left: 1em; padding-right: 1em; text-align: center\">in_friends</th>\n",
       "        <th style=\"padding-left: 1em; padding-right: 1em; text-align: center\">out_friends</th>\n",
       "        <th style=\"padding-left: 1em; padding-right: 1em; text-align: center\">out_degree</th>\n",
       "        <th style=\"padding-left: 1em; padding-right: 1em; text-align: center\">in_degree</th>\n",
       "        <th style=\"padding-left: 1em; padding-right: 1em; text-align: center\">all_friends</th>\n",
       "    </tr>\n",
       "    <tr>\n",
       "        <td style=\"padding-left: 1em; padding-right: 1em; text-align: center; vertical-align: top\">2759692</td>\n",
       "        <td style=\"padding-left: 1em; padding-right: 1em; text-align: center; vertical-align: top\">[1812114, 1085187]</td>\n",
       "        <td style=\"padding-left: 1em; padding-right: 1em; text-align: center; vertical-align: top\">[251505, 990399]</td>\n",
       "        <td style=\"padding-left: 1em; padding-right: 1em; text-align: center; vertical-align: top\">2</td>\n",
       "        <td style=\"padding-left: 1em; padding-right: 1em; text-align: center; vertical-align: top\">2</td>\n",
       "        <td style=\"padding-left: 1em; padding-right: 1em; text-align: center; vertical-align: top\">[251505.0, 1812114.0,<br>1085187.0, 990399.0] ...</td>\n",
       "    </tr>\n",
       "    <tr>\n",
       "        <td style=\"padding-left: 1em; padding-right: 1em; text-align: center; vertical-align: top\">127950</td>\n",
       "        <td style=\"padding-left: 1em; padding-right: 1em; text-align: center; vertical-align: top\">[3855254, 1729215,<br>2593244, 1349133, 651 ...</td>\n",
       "        <td style=\"padding-left: 1em; padding-right: 1em; text-align: center; vertical-align: top\">[1123570]</td>\n",
       "        <td style=\"padding-left: 1em; padding-right: 1em; text-align: center; vertical-align: top\">1</td>\n",
       "        <td style=\"padding-left: 1em; padding-right: 1em; text-align: center; vertical-align: top\">17</td>\n",
       "        <td style=\"padding-left: 1em; padding-right: 1em; text-align: center; vertical-align: top\">[651778.0, 1349133.0,<br>4497240.0, 3855254.0, ...</td>\n",
       "    </tr>\n",
       "    <tr>\n",
       "        <td style=\"padding-left: 1em; padding-right: 1em; text-align: center; vertical-align: top\">910362</td>\n",
       "        <td style=\"padding-left: 1em; padding-right: 1em; text-align: center; vertical-align: top\">[2021460, 2023163]</td>\n",
       "        <td style=\"padding-left: 1em; padding-right: 1em; text-align: center; vertical-align: top\">[]</td>\n",
       "        <td style=\"padding-left: 1em; padding-right: 1em; text-align: center; vertical-align: top\">0</td>\n",
       "        <td style=\"padding-left: 1em; padding-right: 1em; text-align: center; vertical-align: top\">2</td>\n",
       "        <td style=\"padding-left: 1em; padding-right: 1em; text-align: center; vertical-align: top\">[2023163.0, 2021460.0]</td>\n",
       "    </tr>\n",
       "    <tr>\n",
       "        <td style=\"padding-left: 1em; padding-right: 1em; text-align: center; vertical-align: top\">2067382</td>\n",
       "        <td style=\"padding-left: 1em; padding-right: 1em; text-align: center; vertical-align: top\">[241370]</td>\n",
       "        <td style=\"padding-left: 1em; padding-right: 1em; text-align: center; vertical-align: top\">[]</td>\n",
       "        <td style=\"padding-left: 1em; padding-right: 1em; text-align: center; vertical-align: top\">0</td>\n",
       "        <td style=\"padding-left: 1em; padding-right: 1em; text-align: center; vertical-align: top\">1</td>\n",
       "        <td style=\"padding-left: 1em; padding-right: 1em; text-align: center; vertical-align: top\">[241370.0]</td>\n",
       "    </tr>\n",
       "    <tr>\n",
       "        <td style=\"padding-left: 1em; padding-right: 1em; text-align: center; vertical-align: top\">3561229</td>\n",
       "        <td style=\"padding-left: 1em; padding-right: 1em; text-align: center; vertical-align: top\">[3068613, 2651652,<br>3166930] ...</td>\n",
       "        <td style=\"padding-left: 1em; padding-right: 1em; text-align: center; vertical-align: top\">[259166, 4108731]</td>\n",
       "        <td style=\"padding-left: 1em; padding-right: 1em; text-align: center; vertical-align: top\">2</td>\n",
       "        <td style=\"padding-left: 1em; padding-right: 1em; text-align: center; vertical-align: top\">3</td>\n",
       "        <td style=\"padding-left: 1em; padding-right: 1em; text-align: center; vertical-align: top\">[3166930.0, 4108731.0,<br>2651652.0, 3068613.0, ...</td>\n",
       "    </tr>\n",
       "    <tr>\n",
       "        <td style=\"padding-left: 1em; padding-right: 1em; text-align: center; vertical-align: top\">4284688</td>\n",
       "        <td style=\"padding-left: 1em; padding-right: 1em; text-align: center; vertical-align: top\">[1324992]</td>\n",
       "        <td style=\"padding-left: 1em; padding-right: 1em; text-align: center; vertical-align: top\">[]</td>\n",
       "        <td style=\"padding-left: 1em; padding-right: 1em; text-align: center; vertical-align: top\">0</td>\n",
       "        <td style=\"padding-left: 1em; padding-right: 1em; text-align: center; vertical-align: top\">1</td>\n",
       "        <td style=\"padding-left: 1em; padding-right: 1em; text-align: center; vertical-align: top\">[1324992.0]</td>\n",
       "    </tr>\n",
       "    <tr>\n",
       "        <td style=\"padding-left: 1em; padding-right: 1em; text-align: center; vertical-align: top\">3742828</td>\n",
       "        <td style=\"padding-left: 1em; padding-right: 1em; text-align: center; vertical-align: top\">[3854370, 2256492]</td>\n",
       "        <td style=\"padding-left: 1em; padding-right: 1em; text-align: center; vertical-align: top\">[]</td>\n",
       "        <td style=\"padding-left: 1em; padding-right: 1em; text-align: center; vertical-align: top\">0</td>\n",
       "        <td style=\"padding-left: 1em; padding-right: 1em; text-align: center; vertical-align: top\">2</td>\n",
       "        <td style=\"padding-left: 1em; padding-right: 1em; text-align: center; vertical-align: top\">[3854370.0, 2256492.0]</td>\n",
       "    </tr>\n",
       "    <tr>\n",
       "        <td style=\"padding-left: 1em; padding-right: 1em; text-align: center; vertical-align: top\">2685078</td>\n",
       "        <td style=\"padding-left: 1em; padding-right: 1em; text-align: center; vertical-align: top\">[1331326, 1508784,<br>1596155] ...</td>\n",
       "        <td style=\"padding-left: 1em; padding-right: 1em; text-align: center; vertical-align: top\">[]</td>\n",
       "        <td style=\"padding-left: 1em; padding-right: 1em; text-align: center; vertical-align: top\">0</td>\n",
       "        <td style=\"padding-left: 1em; padding-right: 1em; text-align: center; vertical-align: top\">3</td>\n",
       "        <td style=\"padding-left: 1em; padding-right: 1em; text-align: center; vertical-align: top\">[1508784.0, 1596155.0,<br>1331326.0] ...</td>\n",
       "    </tr>\n",
       "    <tr>\n",
       "        <td style=\"padding-left: 1em; padding-right: 1em; text-align: center; vertical-align: top\">1472708</td>\n",
       "        <td style=\"padding-left: 1em; padding-right: 1em; text-align: center; vertical-align: top\">[378745, 2795881,<br>4139465, 4671336, ...</td>\n",
       "        <td style=\"padding-left: 1em; padding-right: 1em; text-align: center; vertical-align: top\">[3637026, 438950,<br>2085431, 1668027, 848 ...</td>\n",
       "        <td style=\"padding-left: 1em; padding-right: 1em; text-align: center; vertical-align: top\">7</td>\n",
       "        <td style=\"padding-left: 1em; padding-right: 1em; text-align: center; vertical-align: top\">21</td>\n",
       "        <td style=\"padding-left: 1em; padding-right: 1em; text-align: center; vertical-align: top\">[901184.0, 4139465.0,<br>1702417.0, 3353876.0, ...</td>\n",
       "    </tr>\n",
       "    <tr>\n",
       "        <td style=\"padding-left: 1em; padding-right: 1em; text-align: center; vertical-align: top\">460603</td>\n",
       "        <td style=\"padding-left: 1em; padding-right: 1em; text-align: center; vertical-align: top\">[2468519]</td>\n",
       "        <td style=\"padding-left: 1em; padding-right: 1em; text-align: center; vertical-align: top\">[3694826, 396073]</td>\n",
       "        <td style=\"padding-left: 1em; padding-right: 1em; text-align: center; vertical-align: top\">2</td>\n",
       "        <td style=\"padding-left: 1em; padding-right: 1em; text-align: center; vertical-align: top\">1</td>\n",
       "        <td style=\"padding-left: 1em; padding-right: 1em; text-align: center; vertical-align: top\">[396073.0, 3694826.0,<br>2468519.0] ...</td>\n",
       "    </tr>\n",
       "</table>\n",
       "<table frame=\"box\" rules=\"cols\">\n",
       "    <tr>\n",
       "        <th style=\"padding-left: 1em; padding-right: 1em; text-align: center\">all_degree</th>\n",
       "        <th style=\"padding-left: 1em; padding-right: 1em; text-align: center\">bi_friends</th>\n",
       "        <th style=\"padding-left: 1em; padding-right: 1em; text-align: center\">bi_degree</th>\n",
       "    </tr>\n",
       "    <tr>\n",
       "        <td style=\"padding-left: 1em; padding-right: 1em; text-align: center; vertical-align: top\">4</td>\n",
       "        <td style=\"padding-left: 1em; padding-right: 1em; text-align: center; vertical-align: top\">[]</td>\n",
       "        <td style=\"padding-left: 1em; padding-right: 1em; text-align: center; vertical-align: top\">0</td>\n",
       "    </tr>\n",
       "    <tr>\n",
       "        <td style=\"padding-left: 1em; padding-right: 1em; text-align: center; vertical-align: top\">17</td>\n",
       "        <td style=\"padding-left: 1em; padding-right: 1em; text-align: center; vertical-align: top\">[]</td>\n",
       "        <td style=\"padding-left: 1em; padding-right: 1em; text-align: center; vertical-align: top\">0</td>\n",
       "    </tr>\n",
       "    <tr>\n",
       "        <td style=\"padding-left: 1em; padding-right: 1em; text-align: center; vertical-align: top\">2</td>\n",
       "        <td style=\"padding-left: 1em; padding-right: 1em; text-align: center; vertical-align: top\">[]</td>\n",
       "        <td style=\"padding-left: 1em; padding-right: 1em; text-align: center; vertical-align: top\">0</td>\n",
       "    </tr>\n",
       "    <tr>\n",
       "        <td style=\"padding-left: 1em; padding-right: 1em; text-align: center; vertical-align: top\">1</td>\n",
       "        <td style=\"padding-left: 1em; padding-right: 1em; text-align: center; vertical-align: top\">[]</td>\n",
       "        <td style=\"padding-left: 1em; padding-right: 1em; text-align: center; vertical-align: top\">0</td>\n",
       "    </tr>\n",
       "    <tr>\n",
       "        <td style=\"padding-left: 1em; padding-right: 1em; text-align: center; vertical-align: top\">5</td>\n",
       "        <td style=\"padding-left: 1em; padding-right: 1em; text-align: center; vertical-align: top\">[]</td>\n",
       "        <td style=\"padding-left: 1em; padding-right: 1em; text-align: center; vertical-align: top\">0</td>\n",
       "    </tr>\n",
       "    <tr>\n",
       "        <td style=\"padding-left: 1em; padding-right: 1em; text-align: center; vertical-align: top\">1</td>\n",
       "        <td style=\"padding-left: 1em; padding-right: 1em; text-align: center; vertical-align: top\">[]</td>\n",
       "        <td style=\"padding-left: 1em; padding-right: 1em; text-align: center; vertical-align: top\">0</td>\n",
       "    </tr>\n",
       "    <tr>\n",
       "        <td style=\"padding-left: 1em; padding-right: 1em; text-align: center; vertical-align: top\">2</td>\n",
       "        <td style=\"padding-left: 1em; padding-right: 1em; text-align: center; vertical-align: top\">[]</td>\n",
       "        <td style=\"padding-left: 1em; padding-right: 1em; text-align: center; vertical-align: top\">0</td>\n",
       "    </tr>\n",
       "    <tr>\n",
       "        <td style=\"padding-left: 1em; padding-right: 1em; text-align: center; vertical-align: top\">3</td>\n",
       "        <td style=\"padding-left: 1em; padding-right: 1em; text-align: center; vertical-align: top\">[]</td>\n",
       "        <td style=\"padding-left: 1em; padding-right: 1em; text-align: center; vertical-align: top\">0</td>\n",
       "    </tr>\n",
       "    <tr>\n",
       "        <td style=\"padding-left: 1em; padding-right: 1em; text-align: center; vertical-align: top\">24</td>\n",
       "        <td style=\"padding-left: 1em; padding-right: 1em; text-align: center; vertical-align: top\">[]</td>\n",
       "        <td style=\"padding-left: 1em; padding-right: 1em; text-align: center; vertical-align: top\">0</td>\n",
       "    </tr>\n",
       "    <tr>\n",
       "        <td style=\"padding-left: 1em; padding-right: 1em; text-align: center; vertical-align: top\">3</td>\n",
       "        <td style=\"padding-left: 1em; padding-right: 1em; text-align: center; vertical-align: top\">[]</td>\n",
       "        <td style=\"padding-left: 1em; padding-right: 1em; text-align: center; vertical-align: top\">0</td>\n",
       "    </tr>\n",
       "</table>\n",
       "[10 rows x 9 columns]<br/>\n",
       "</div>"
      ],
      "text/plain": [
       "Columns:\n",
       "\tid\tint\n",
       "\tin_friends\tlist\n",
       "\tout_friends\tlist\n",
       "\tout_degree\tint\n",
       "\tin_degree\tint\n",
       "\tall_friends\tarray\n",
       "\tall_degree\tint\n",
       "\tbi_friends\tlist\n",
       "\tbi_degree\tint\n",
       "\n",
       "Rows: 10\n",
       "\n",
       "Data:\n",
       "+---------+-------------------------------+-------------------------------+------------+\n",
       "|    id   |           in_friends          |          out_friends          | out_degree |\n",
       "+---------+-------------------------------+-------------------------------+------------+\n",
       "| 2759692 |       [1812114, 1085187]      |        [251505, 990399]       |     2      |\n",
       "|  127950 | [3855254, 1729215, 2593244... |           [1123570]           |     1      |\n",
       "|  910362 |       [2021460, 2023163]      |               []              |     0      |\n",
       "| 2067382 |            [241370]           |               []              |     0      |\n",
       "| 3561229 |  [3068613, 2651652, 3166930]  |       [259166, 4108731]       |     2      |\n",
       "| 4284688 |           [1324992]           |               []              |     0      |\n",
       "| 3742828 |       [3854370, 2256492]      |               []              |     0      |\n",
       "| 2685078 |  [1331326, 1508784, 1596155]  |               []              |     0      |\n",
       "| 1472708 | [378745, 2795881, 4139465,... | [3637026, 438950, 2085431,... |     7      |\n",
       "|  460603 |           [2468519]           |       [3694826, 396073]       |     2      |\n",
       "+---------+-------------------------------+-------------------------------+------------+\n",
       "+-----------+-------------------------------+------------+------------+-----------+\n",
       "| in_degree |          all_friends          | all_degree | bi_friends | bi_degree |\n",
       "+-----------+-------------------------------+------------+------------+-----------+\n",
       "|     2     | [251505.0, 1812114.0, 1085... |     4      |     []     |     0     |\n",
       "|     17    | [651778.0, 1349133.0, 4497... |     17     |     []     |     0     |\n",
       "|     2     |     [2023163.0, 2021460.0]    |     2      |     []     |     0     |\n",
       "|     1     |           [241370.0]          |     1      |     []     |     0     |\n",
       "|     3     | [3166930.0, 4108731.0, 265... |     5      |     []     |     0     |\n",
       "|     1     |          [1324992.0]          |     1      |     []     |     0     |\n",
       "|     2     |     [3854370.0, 2256492.0]    |     2      |     []     |     0     |\n",
       "|     3     | [1508784.0, 1596155.0, 133... |     3      |     []     |     0     |\n",
       "|     21    | [901184.0, 4139465.0, 1702... |     24     |     []     |     0     |\n",
       "|     1     | [396073.0, 3694826.0, 2468... |     3      |     []     |     0     |\n",
       "+-----------+-------------------------------+------------+------------+-----------+\n",
       "[10 rows x 9 columns]"
      ]
     },
     "execution_count": 9,
     "metadata": {},
     "output_type": "execute_result"
    }
   ],
   "source": [
    "#out_degree - number of users each vertex is following\n",
    "users_sf['out_degree'] = users_sf[\"out_friends\"].apply(lambda l: len(l) )\n",
    "\n",
    "#in_degree - number of users following each vertex\n",
    "users_sf['in_degree'] = users_sf[\"in_friends\"].apply(lambda l: len(l) )\n",
    "\n",
    "#all_degree - number of uniuqe users that following or are followed by each user\n",
    "users_sf['all_friends'] = users_sf[['in_friends', 'out_friends']].apply(lambda r: list(set(r['in_friends']) | set(r['out_friends'])))\n",
    "users_sf['all_degree'] = users_sf[\"all_friends\"].apply(lambda l: len(l) )\n",
    "\n",
    "#bi_degree - number of uniuqe users that are both following and followed by each user\n",
    "users_sf['bi_friends'] = users_sf[['in_friends', 'out_friends']].apply(lambda r: list(set(r['in_friends']) & set(r['out_friends'])))\n",
    "users_sf['bi_degree'] = users_sf[\"bi_friends\"].apply(lambda l: len(l) )\n",
    "\n",
    "users_sf.head(10)\n",
    "\n",
    "\n"
   ]
  },
  {
   "cell_type": "code",
   "execution_count": 10,
   "metadata": {
    "collapsed": false
   },
   "outputs": [
    {
     "data": {
      "text/html": [
       "<div style=\"max-height:1000px;max-width:1500px;overflow:auto;\"><table frame=\"box\" rules=\"cols\">\n",
       "    <tr>\n",
       "        <th style=\"padding-left: 1em; padding-right: 1em; text-align: center\">id</th>\n",
       "        <th style=\"padding-left: 1em; padding-right: 1em; text-align: center\">in_friends</th>\n",
       "        <th style=\"padding-left: 1em; padding-right: 1em; text-align: center\">out_friends</th>\n",
       "        <th style=\"padding-left: 1em; padding-right: 1em; text-align: center\">out_degree</th>\n",
       "        <th style=\"padding-left: 1em; padding-right: 1em; text-align: center\">in_degree</th>\n",
       "        <th style=\"padding-left: 1em; padding-right: 1em; text-align: center\">all_friends</th>\n",
       "    </tr>\n",
       "    <tr>\n",
       "        <td style=\"padding-left: 1em; padding-right: 1em; text-align: center; vertical-align: top\">1237964</td>\n",
       "        <td style=\"padding-left: 1em; padding-right: 1em; text-align: center; vertical-align: top\">[448823.0, 4157152.0,<br>3317847.0, 1601895.0] ...</td>\n",
       "        <td style=\"padding-left: 1em; padding-right: 1em; text-align: center; vertical-align: top\">[2332893.0, 448823.0,<br>1139433.0, 1413055.0, ...</td>\n",
       "        <td style=\"padding-left: 1em; padding-right: 1em; text-align: center; vertical-align: top\">15</td>\n",
       "        <td style=\"padding-left: 1em; padding-right: 1em; text-align: center; vertical-align: top\">4</td>\n",
       "        <td style=\"padding-left: 1em; padding-right: 1em; text-align: center; vertical-align: top\">[893888.0, 959493.0,<br>2754231.0, 4326349.0, ...</td>\n",
       "    </tr>\n",
       "    <tr>\n",
       "        <td style=\"padding-left: 1em; padding-right: 1em; text-align: center; vertical-align: top\">1452193</td>\n",
       "        <td style=\"padding-left: 1em; padding-right: 1em; text-align: center; vertical-align: top\">[2501645.0, 3660919.0,<br>884795.0, 4558216.0, ...</td>\n",
       "        <td style=\"padding-left: 1em; padding-right: 1em; text-align: center; vertical-align: top\">[]</td>\n",
       "        <td style=\"padding-left: 1em; padding-right: 1em; text-align: center; vertical-align: top\">0</td>\n",
       "        <td style=\"padding-left: 1em; padding-right: 1em; text-align: center; vertical-align: top\">289</td>\n",
       "        <td style=\"padding-left: 1em; padding-right: 1em; text-align: center; vertical-align: top\">[3671045.0, 2501645.0,<br>905235.0, 4864020.0, ...</td>\n",
       "    </tr>\n",
       "    <tr>\n",
       "        <td style=\"padding-left: 1em; padding-right: 1em; text-align: center; vertical-align: top\">2389638</td>\n",
       "        <td style=\"padding-left: 1em; padding-right: 1em; text-align: center; vertical-align: top\">[2880517.0, 3553485.0,<br>2120801.0, 4003368.0, ...</td>\n",
       "        <td style=\"padding-left: 1em; padding-right: 1em; text-align: center; vertical-align: top\">[201039.0, 2402120.0,<br>2819498.0, 4553431.0, ...</td>\n",
       "        <td style=\"padding-left: 1em; padding-right: 1em; text-align: center; vertical-align: top\">267</td>\n",
       "        <td style=\"padding-left: 1em; padding-right: 1em; text-align: center; vertical-align: top\">30</td>\n",
       "        <td style=\"padding-left: 1em; padding-right: 1em; text-align: center; vertical-align: top\">[4332544.0, 4475906.0,<br>500739.0, 2880517.0, ...</td>\n",
       "    </tr>\n",
       "    <tr>\n",
       "        <td style=\"padding-left: 1em; padding-right: 1em; text-align: center; vertical-align: top\">3151356</td>\n",
       "        <td style=\"padding-left: 1em; padding-right: 1em; text-align: center; vertical-align: top\">[2120801.0, 1357350.0,<br>4088506.0, 1759823.0, ...</td>\n",
       "        <td style=\"padding-left: 1em; padding-right: 1em; text-align: center; vertical-align: top\">[4052824.0, 3317934.0,<br>1848747.0, 2482853.0, ...</td>\n",
       "        <td style=\"padding-left: 1em; padding-right: 1em; text-align: center; vertical-align: top\">340</td>\n",
       "        <td style=\"padding-left: 1em; padding-right: 1em; text-align: center; vertical-align: top\">39</td>\n",
       "        <td style=\"padding-left: 1em; padding-right: 1em; text-align: center; vertical-align: top\">[2966358.0, 2587654.0,<br>2270215.0, 957452.0, ...</td>\n",
       "    </tr>\n",
       "    <tr>\n",
       "        <td style=\"padding-left: 1em; padding-right: 1em; text-align: center; vertical-align: top\">212805</td>\n",
       "        <td style=\"padding-left: 1em; padding-right: 1em; text-align: center; vertical-align: top\">[68695.0, 884795.0,<br>2791702.0, 1328244.0, ...</td>\n",
       "        <td style=\"padding-left: 1em; padding-right: 1em; text-align: center; vertical-align: top\">[620720.0, 2576942.0,<br>2728232.0, 1439892.0, ...</td>\n",
       "        <td style=\"padding-left: 1em; padding-right: 1em; text-align: center; vertical-align: top\">297</td>\n",
       "        <td style=\"padding-left: 1em; padding-right: 1em; text-align: center; vertical-align: top\">895</td>\n",
       "        <td style=\"padding-left: 1em; padding-right: 1em; text-align: center; vertical-align: top\">[3971074.0, 431384.0,<br>2209796.0, 4821000.0, ...</td>\n",
       "    </tr>\n",
       "    <tr>\n",
       "        <td style=\"padding-left: 1em; padding-right: 1em; text-align: center; vertical-align: top\">593017</td>\n",
       "        <td style=\"padding-left: 1em; padding-right: 1em; text-align: center; vertical-align: top\">[974241.0, 3694560.0,<br>1181282.0, 2032058.0, ...</td>\n",
       "        <td style=\"padding-left: 1em; padding-right: 1em; text-align: center; vertical-align: top\">[1328064.0, 595768.0,<br>2704984.0, 2877896.0, ...</td>\n",
       "        <td style=\"padding-left: 1em; padding-right: 1em; text-align: center; vertical-align: top\">58</td>\n",
       "        <td style=\"padding-left: 1em; padding-right: 1em; text-align: center; vertical-align: top\">165</td>\n",
       "        <td style=\"padding-left: 1em; padding-right: 1em; text-align: center; vertical-align: top\">[99328.0, 1395712.0,<br>541698.0, 4055513.0, ...</td>\n",
       "    </tr>\n",
       "    <tr>\n",
       "        <td style=\"padding-left: 1em; padding-right: 1em; text-align: center; vertical-align: top\">1300190</td>\n",
       "        <td style=\"padding-left: 1em; padding-right: 1em; text-align: center; vertical-align: top\">[4651416.0, 3227840.0,<br>2659783.0] ...</td>\n",
       "        <td style=\"padding-left: 1em; padding-right: 1em; text-align: center; vertical-align: top\">[]</td>\n",
       "        <td style=\"padding-left: 1em; padding-right: 1em; text-align: center; vertical-align: top\">0</td>\n",
       "        <td style=\"padding-left: 1em; padding-right: 1em; text-align: center; vertical-align: top\">3</td>\n",
       "        <td style=\"padding-left: 1em; padding-right: 1em; text-align: center; vertical-align: top\">[4651416.0, 3227840.0,<br>2659783.0] ...</td>\n",
       "    </tr>\n",
       "    <tr>\n",
       "        <td style=\"padding-left: 1em; padding-right: 1em; text-align: center; vertical-align: top\">2184483</td>\n",
       "        <td style=\"padding-left: 1em; padding-right: 1em; text-align: center; vertical-align: top\">[3770256.0, 2173130.0,<br>4653515.0, 1729215.0, ...</td>\n",
       "        <td style=\"padding-left: 1em; padding-right: 1em; text-align: center; vertical-align: top\">[3209755.0, 1687276.0,<br>4325955.0, 3057131.0, ...</td>\n",
       "        <td style=\"padding-left: 1em; padding-right: 1em; text-align: center; vertical-align: top\">83</td>\n",
       "        <td style=\"padding-left: 1em; padding-right: 1em; text-align: center; vertical-align: top\">102</td>\n",
       "        <td style=\"padding-left: 1em; padding-right: 1em; text-align: center; vertical-align: top\">[1340930.0, 2651652.0,<br>2146309.0, 1706508.0, ...</td>\n",
       "    </tr>\n",
       "    <tr>\n",
       "        <td style=\"padding-left: 1em; padding-right: 1em; text-align: center; vertical-align: top\">228206</td>\n",
       "        <td style=\"padding-left: 1em; padding-right: 1em; text-align: center; vertical-align: top\">[1869658.0, 4738810.0,<br>76360.0, 986629.0, ...</td>\n",
       "        <td style=\"padding-left: 1em; padding-right: 1em; text-align: center; vertical-align: top\">[76360.0, 1869658.0,<br>4738810.0, 2308522.0, ...</td>\n",
       "        <td style=\"padding-left: 1em; padding-right: 1em; text-align: center; vertical-align: top\">9</td>\n",
       "        <td style=\"padding-left: 1em; padding-right: 1em; text-align: center; vertical-align: top\">14</td>\n",
       "        <td style=\"padding-left: 1em; padding-right: 1em; text-align: center; vertical-align: top\">[110976.0, 2298370.0,<br>212805.0, 4003975.0, ...</td>\n",
       "    </tr>\n",
       "    <tr>\n",
       "        <td style=\"padding-left: 1em; padding-right: 1em; text-align: center; vertical-align: top\">1406432</td>\n",
       "        <td style=\"padding-left: 1em; padding-right: 1em; text-align: center; vertical-align: top\">[1687276.0, 972843.0,<br>2956481.0, 3504137.0, ...</td>\n",
       "        <td style=\"padding-left: 1em; padding-right: 1em; text-align: center; vertical-align: top\">[4088654.0, 1351603.0,<br>2002799.0, 739382.0, ...</td>\n",
       "        <td style=\"padding-left: 1em; padding-right: 1em; text-align: center; vertical-align: top\">84</td>\n",
       "        <td style=\"padding-left: 1em; padding-right: 1em; text-align: center; vertical-align: top\">16</td>\n",
       "        <td style=\"padding-left: 1em; padding-right: 1em; text-align: center; vertical-align: top\">[2304782.0, 669843.0,<br>1984005.0, 4013831.0, ...</td>\n",
       "    </tr>\n",
       "</table>\n",
       "<table frame=\"box\" rules=\"cols\">\n",
       "    <tr>\n",
       "        <th style=\"padding-left: 1em; padding-right: 1em; text-align: center\">all_degree</th>\n",
       "        <th style=\"padding-left: 1em; padding-right: 1em; text-align: center\">bi_friends</th>\n",
       "        <th style=\"padding-left: 1em; padding-right: 1em; text-align: center\">bi_degree</th>\n",
       "    </tr>\n",
       "    <tr>\n",
       "        <td style=\"padding-left: 1em; padding-right: 1em; text-align: center; vertical-align: top\">16</td>\n",
       "        <td style=\"padding-left: 1em; padding-right: 1em; text-align: center; vertical-align: top\">[448823.0, 1601895.0,<br>3317847.0] ...</td>\n",
       "        <td style=\"padding-left: 1em; padding-right: 1em; text-align: center; vertical-align: top\">3</td>\n",
       "    </tr>\n",
       "    <tr>\n",
       "        <td style=\"padding-left: 1em; padding-right: 1em; text-align: center; vertical-align: top\">289</td>\n",
       "        <td style=\"padding-left: 1em; padding-right: 1em; text-align: center; vertical-align: top\">[]</td>\n",
       "        <td style=\"padding-left: 1em; padding-right: 1em; text-align: center; vertical-align: top\">0</td>\n",
       "    </tr>\n",
       "    <tr>\n",
       "        <td style=\"padding-left: 1em; padding-right: 1em; text-align: center; vertical-align: top\">284</td>\n",
       "        <td style=\"padding-left: 1em; padding-right: 1em; text-align: center; vertical-align: top\">[20388.0, 2989221.0,<br>2314215.0, 4003368.0, ...</td>\n",
       "        <td style=\"padding-left: 1em; padding-right: 1em; text-align: center; vertical-align: top\">13</td>\n",
       "    </tr>\n",
       "    <tr>\n",
       "        <td style=\"padding-left: 1em; padding-right: 1em; text-align: center; vertical-align: top\">354</td>\n",
       "        <td style=\"padding-left: 1em; padding-right: 1em; text-align: center; vertical-align: top\">[4384662.0, 1357350.0,<br>3515761.0, 3225386.0, ...</td>\n",
       "        <td style=\"padding-left: 1em; padding-right: 1em; text-align: center; vertical-align: top\">25</td>\n",
       "    </tr>\n",
       "    <tr>\n",
       "        <td style=\"padding-left: 1em; padding-right: 1em; text-align: center; vertical-align: top\">1037</td>\n",
       "        <td style=\"padding-left: 1em; padding-right: 1em; text-align: center; vertical-align: top\">[2298370.0, 3196331.0,<br>2651652.0, 3885069.0, ...</td>\n",
       "        <td style=\"padding-left: 1em; padding-right: 1em; text-align: center; vertical-align: top\">154</td>\n",
       "    </tr>\n",
       "    <tr>\n",
       "        <td style=\"padding-left: 1em; padding-right: 1em; text-align: center; vertical-align: top\">219</td>\n",
       "        <td style=\"padding-left: 1em; padding-right: 1em; text-align: center; vertical-align: top\">[2769515.0, 4557603.0,<br>4315324.0, 3964030.0] ...</td>\n",
       "        <td style=\"padding-left: 1em; padding-right: 1em; text-align: center; vertical-align: top\">4</td>\n",
       "    </tr>\n",
       "    <tr>\n",
       "        <td style=\"padding-left: 1em; padding-right: 1em; text-align: center; vertical-align: top\">3</td>\n",
       "        <td style=\"padding-left: 1em; padding-right: 1em; text-align: center; vertical-align: top\">[]</td>\n",
       "        <td style=\"padding-left: 1em; padding-right: 1em; text-align: center; vertical-align: top\">0</td>\n",
       "    </tr>\n",
       "    <tr>\n",
       "        <td style=\"padding-left: 1em; padding-right: 1em; text-align: center; vertical-align: top\">145</td>\n",
       "        <td style=\"padding-left: 1em; padding-right: 1em; text-align: center; vertical-align: top\">[1218944.0, 3123328.0,<br>2651652.0, 1687276.0, ...</td>\n",
       "        <td style=\"padding-left: 1em; padding-right: 1em; text-align: center; vertical-align: top\">40</td>\n",
       "    </tr>\n",
       "    <tr>\n",
       "        <td style=\"padding-left: 1em; padding-right: 1em; text-align: center; vertical-align: top\">16</td>\n",
       "        <td style=\"padding-left: 1em; padding-right: 1em; text-align: center; vertical-align: top\">[4003975.0, 76360.0,<br>3103881.0, 1798770.0, ...</td>\n",
       "        <td style=\"padding-left: 1em; padding-right: 1em; text-align: center; vertical-align: top\">7</td>\n",
       "    </tr>\n",
       "    <tr>\n",
       "        <td style=\"padding-left: 1em; padding-right: 1em; text-align: center; vertical-align: top\">86</td>\n",
       "        <td style=\"padding-left: 1em; padding-right: 1em; text-align: center; vertical-align: top\">[2152768.0, 2956481.0,<br>972843.0, 4293286.0, ...</td>\n",
       "        <td style=\"padding-left: 1em; padding-right: 1em; text-align: center; vertical-align: top\">14</td>\n",
       "    </tr>\n",
       "</table>\n",
       "[10 rows x 9 columns]<br/>\n",
       "</div>"
      ],
      "text/plain": [
       "Columns:\n",
       "\tid\tint\n",
       "\tin_friends\tarray\n",
       "\tout_friends\tarray\n",
       "\tout_degree\tint\n",
       "\tin_degree\tint\n",
       "\tall_friends\tarray\n",
       "\tall_degree\tint\n",
       "\tbi_friends\tarray\n",
       "\tbi_degree\tint\n",
       "\n",
       "Rows: 10\n",
       "\n",
       "Data:\n",
       "+---------+-------------------------------+-------------------------------+------------+\n",
       "|    id   |           in_friends          |          out_friends          | out_degree |\n",
       "+---------+-------------------------------+-------------------------------+------------+\n",
       "| 1237964 | [448823.0, 4157152.0, 3317... | [2332893.0, 448823.0, 1139... |     15     |\n",
       "| 1452193 | [2501645.0, 3660919.0, 884... |               []              |     0      |\n",
       "| 2389638 | [2880517.0, 3553485.0, 212... | [201039.0, 2402120.0, 2819... |    267     |\n",
       "| 3151356 | [2120801.0, 1357350.0, 408... | [4052824.0, 3317934.0, 184... |    340     |\n",
       "|  212805 | [68695.0, 884795.0, 279170... | [620720.0, 2576942.0, 2728... |    297     |\n",
       "|  593017 | [974241.0, 3694560.0, 1181... | [1328064.0, 595768.0, 2704... |     58     |\n",
       "| 1300190 | [4651416.0, 3227840.0, 265... |               []              |     0      |\n",
       "| 2184483 | [3770256.0, 2173130.0, 465... | [3209755.0, 1687276.0, 432... |     83     |\n",
       "|  228206 | [1869658.0, 4738810.0, 763... | [76360.0, 1869658.0, 47388... |     9      |\n",
       "| 1406432 | [1687276.0, 972843.0, 2956... | [4088654.0, 1351603.0, 200... |     84     |\n",
       "+---------+-------------------------------+-------------------------------+------------+\n",
       "+-----------+-------------------------------+------------+\n",
       "| in_degree |          all_friends          | all_degree |\n",
       "+-----------+-------------------------------+------------+\n",
       "|     4     | [893888.0, 959493.0, 27542... |     16     |\n",
       "|    289    | [3671045.0, 2501645.0, 905... |    289     |\n",
       "|     30    | [4332544.0, 4475906.0, 500... |    284     |\n",
       "|     39    | [2966358.0, 2587654.0, 227... |    354     |\n",
       "|    895    | [3971074.0, 431384.0, 2209... |    1037    |\n",
       "|    165    | [99328.0, 1395712.0, 54169... |    219     |\n",
       "|     3     | [4651416.0, 3227840.0, 265... |     3      |\n",
       "|    102    | [1340930.0, 2651652.0, 214... |    145     |\n",
       "|     14    | [110976.0, 2298370.0, 2128... |     16     |\n",
       "|     16    | [2304782.0, 669843.0, 1984... |     86     |\n",
       "+-----------+-------------------------------+------------+\n",
       "+-------------------------------+-----------+\n",
       "|           bi_friends          | bi_degree |\n",
       "+-------------------------------+-----------+\n",
       "| [448823.0, 1601895.0, 3317... |     3     |\n",
       "|               []              |     0     |\n",
       "| [20388.0, 2989221.0, 23142... |     13    |\n",
       "| [4384662.0, 1357350.0, 351... |     25    |\n",
       "| [2298370.0, 3196331.0, 265... |    154    |\n",
       "| [2769515.0, 4557603.0, 431... |     4     |\n",
       "|               []              |     0     |\n",
       "| [1218944.0, 3123328.0, 265... |     40    |\n",
       "| [4003975.0, 76360.0, 31038... |     7     |\n",
       "| [2152768.0, 2956481.0, 972... |     14    |\n",
       "+-------------------------------+-----------+\n",
       "[10 rows x 9 columns]"
      ]
     },
     "execution_count": 10,
     "metadata": {},
     "output_type": "execute_result"
    }
   ],
   "source": [
    "# added code\n",
    "# why so slow?!\n",
    "\n",
    "#out_degree - number of users each vertex is following\n",
    "users_sf_test['out_degree'] = users_sf_test[\"out_friends\"].apply(lambda l: len(l) )\n",
    "\n",
    "#in_degree - number of users following each vertex\n",
    "users_sf_test['in_degree'] = users_sf_test[\"in_friends\"].apply(lambda l: len(l) )\n",
    "\n",
    "#all_degree - number of uniuqe users that following or are followed by each user\n",
    "users_sf_test['all_friends'] = users_sf_test[['in_friends', 'out_friends']].apply(lambda r: list(set(r['in_friends']) | set(r['out_friends'])))\n",
    "users_sf_test['all_degree'] = users_sf_test[\"all_friends\"].apply(lambda l: len(l) )\n",
    "\n",
    "#bi_degree - number of uniuqe users that are both following and followed by each user\n",
    "users_sf_test['bi_friends'] = users_sf_test[['in_friends', 'out_friends']].apply(lambda r: list(set(r['in_friends']) & set(r['out_friends'])))\n",
    "users_sf_test['bi_degree'] = users_sf_test[\"bi_friends\"].apply(lambda l: len(l) )\n",
    "\n",
    "users_sf_test.head(10)"
   ]
  },
  {
   "cell_type": "markdown",
   "metadata": {},
   "source": [
    "Now, we  have several degree feautres for each user. Lets utilize these users' features and create features for each link in our positive and negative links dataset.\n",
    "Namely, for each link in the data conists of two users <i>u</i> and <i>v</i>, we will create SFrame with each user's degree features.\n",
    "\n",
    "Note: runining can take several minutes."
   ]
  },
  {
   "cell_type": "code",
   "execution_count": 11,
   "metadata": {
    "collapsed": false
   },
   "outputs": [
    {
     "data": {
      "text/html": [
       "<div style=\"max-height:1000px;max-width:1500px;overflow:auto;\"><table frame=\"box\" rules=\"cols\">\n",
       "    <tr>\n",
       "        <th style=\"padding-left: 1em; padding-right: 1em; text-align: center\">src</th>\n",
       "        <th style=\"padding-left: 1em; padding-right: 1em; text-align: center\">dst</th>\n",
       "        <th style=\"padding-left: 1em; padding-right: 1em; text-align: center\">class</th>\n",
       "        <th style=\"padding-left: 1em; padding-right: 1em; text-align: center\">src_in_friends</th>\n",
       "        <th style=\"padding-left: 1em; padding-right: 1em; text-align: center\">src_out_friends</th>\n",
       "        <th style=\"padding-left: 1em; padding-right: 1em; text-align: center\">src_out_degree</th>\n",
       "        <th style=\"padding-left: 1em; padding-right: 1em; text-align: center\">src_in_degree</th>\n",
       "    </tr>\n",
       "    <tr>\n",
       "        <td style=\"padding-left: 1em; padding-right: 1em; text-align: center; vertical-align: top\">1146906</td>\n",
       "        <td style=\"padding-left: 1em; padding-right: 1em; text-align: center; vertical-align: top\">4122183</td>\n",
       "        <td style=\"padding-left: 1em; padding-right: 1em; text-align: center; vertical-align: top\">1</td>\n",
       "        <td style=\"padding-left: 1em; padding-right: 1em; text-align: center; vertical-align: top\">[3353876, 1916723,<br>4030043, 2916456, ...</td>\n",
       "        <td style=\"padding-left: 1em; padding-right: 1em; text-align: center; vertical-align: top\">[4122183, 4751012,<br>3844222, 3953964, ...</td>\n",
       "        <td style=\"padding-left: 1em; padding-right: 1em; text-align: center; vertical-align: top\">601</td>\n",
       "        <td style=\"padding-left: 1em; padding-right: 1em; text-align: center; vertical-align: top\">211</td>\n",
       "    </tr>\n",
       "    <tr>\n",
       "        <td style=\"padding-left: 1em; padding-right: 1em; text-align: center; vertical-align: top\">2448032</td>\n",
       "        <td style=\"padding-left: 1em; padding-right: 1em; text-align: center; vertical-align: top\">3401703</td>\n",
       "        <td style=\"padding-left: 1em; padding-right: 1em; text-align: center; vertical-align: top\">0</td>\n",
       "        <td style=\"padding-left: 1em; padding-right: 1em; text-align: center; vertical-align: top\">[3000657]</td>\n",
       "        <td style=\"padding-left: 1em; padding-right: 1em; text-align: center; vertical-align: top\">[3401703]</td>\n",
       "        <td style=\"padding-left: 1em; padding-right: 1em; text-align: center; vertical-align: top\">1</td>\n",
       "        <td style=\"padding-left: 1em; padding-right: 1em; text-align: center; vertical-align: top\">1</td>\n",
       "    </tr>\n",
       "    <tr>\n",
       "        <td style=\"padding-left: 1em; padding-right: 1em; text-align: center; vertical-align: top\">2290639</td>\n",
       "        <td style=\"padding-left: 1em; padding-right: 1em; text-align: center; vertical-align: top\">996371</td>\n",
       "        <td style=\"padding-left: 1em; padding-right: 1em; text-align: center; vertical-align: top\">0</td>\n",
       "        <td style=\"padding-left: 1em; padding-right: 1em; text-align: center; vertical-align: top\">[4488717, 3457327,<br>3806350, 3144384, ...</td>\n",
       "        <td style=\"padding-left: 1em; padding-right: 1em; text-align: center; vertical-align: top\">[996371, 302860, 1799182,<br>2227954, 2940560, ...</td>\n",
       "        <td style=\"padding-left: 1em; padding-right: 1em; text-align: center; vertical-align: top\">108</td>\n",
       "        <td style=\"padding-left: 1em; padding-right: 1em; text-align: center; vertical-align: top\">62</td>\n",
       "    </tr>\n",
       "    <tr>\n",
       "        <td style=\"padding-left: 1em; padding-right: 1em; text-align: center; vertical-align: top\">1146906</td>\n",
       "        <td style=\"padding-left: 1em; padding-right: 1em; text-align: center; vertical-align: top\">4751012</td>\n",
       "        <td style=\"padding-left: 1em; padding-right: 1em; text-align: center; vertical-align: top\">1</td>\n",
       "        <td style=\"padding-left: 1em; padding-right: 1em; text-align: center; vertical-align: top\">[3353876, 1916723,<br>4030043, 2916456, ...</td>\n",
       "        <td style=\"padding-left: 1em; padding-right: 1em; text-align: center; vertical-align: top\">[4122183, 4751012,<br>3844222, 3953964, ...</td>\n",
       "        <td style=\"padding-left: 1em; padding-right: 1em; text-align: center; vertical-align: top\">601</td>\n",
       "        <td style=\"padding-left: 1em; padding-right: 1em; text-align: center; vertical-align: top\">211</td>\n",
       "    </tr>\n",
       "    <tr>\n",
       "        <td style=\"padding-left: 1em; padding-right: 1em; text-align: center; vertical-align: top\">1324992</td>\n",
       "        <td style=\"padding-left: 1em; padding-right: 1em; text-align: center; vertical-align: top\">2533043</td>\n",
       "        <td style=\"padding-left: 1em; padding-right: 1em; text-align: center; vertical-align: top\">1</td>\n",
       "        <td style=\"padding-left: 1em; padding-right: 1em; text-align: center; vertical-align: top\">[3609326, 2272405,<br>3143728, 2300708, ...</td>\n",
       "        <td style=\"padding-left: 1em; padding-right: 1em; text-align: center; vertical-align: top\">[2533043, 2502555,<br>2719963, 3240066, ...</td>\n",
       "        <td style=\"padding-left: 1em; padding-right: 1em; text-align: center; vertical-align: top\">290</td>\n",
       "        <td style=\"padding-left: 1em; padding-right: 1em; text-align: center; vertical-align: top\">105</td>\n",
       "    </tr>\n",
       "    <tr>\n",
       "        <td style=\"padding-left: 1em; padding-right: 1em; text-align: center; vertical-align: top\">651778</td>\n",
       "        <td style=\"padding-left: 1em; padding-right: 1em; text-align: center; vertical-align: top\">1363531</td>\n",
       "        <td style=\"padding-left: 1em; padding-right: 1em; text-align: center; vertical-align: top\">1</td>\n",
       "        <td style=\"padding-left: 1em; padding-right: 1em; text-align: center; vertical-align: top\">[4603631, 3539009,<br>3314478, 2842633, ...</td>\n",
       "        <td style=\"padding-left: 1em; padding-right: 1em; text-align: center; vertical-align: top\">[1363531, 1438067,<br>1178165, 3613981, ...</td>\n",
       "        <td style=\"padding-left: 1em; padding-right: 1em; text-align: center; vertical-align: top\">396</td>\n",
       "        <td style=\"padding-left: 1em; padding-right: 1em; text-align: center; vertical-align: top\">153</td>\n",
       "    </tr>\n",
       "    <tr>\n",
       "        <td style=\"padding-left: 1em; padding-right: 1em; text-align: center; vertical-align: top\">4217935</td>\n",
       "        <td style=\"padding-left: 1em; padding-right: 1em; text-align: center; vertical-align: top\">4307379</td>\n",
       "        <td style=\"padding-left: 1em; padding-right: 1em; text-align: center; vertical-align: top\">1</td>\n",
       "        <td style=\"padding-left: 1em; padding-right: 1em; text-align: center; vertical-align: top\">[3961108, 3402168,<br>1719385, 4251081, ...</td>\n",
       "        <td style=\"padding-left: 1em; padding-right: 1em; text-align: center; vertical-align: top\">[4307379, 1602251,<br>2435840, 3253984, ...</td>\n",
       "        <td style=\"padding-left: 1em; padding-right: 1em; text-align: center; vertical-align: top\">584</td>\n",
       "        <td style=\"padding-left: 1em; padding-right: 1em; text-align: center; vertical-align: top\">227</td>\n",
       "    </tr>\n",
       "    <tr>\n",
       "        <td style=\"padding-left: 1em; padding-right: 1em; text-align: center; vertical-align: top\">1988622</td>\n",
       "        <td style=\"padding-left: 1em; padding-right: 1em; text-align: center; vertical-align: top\">326813</td>\n",
       "        <td style=\"padding-left: 1em; padding-right: 1em; text-align: center; vertical-align: top\">1</td>\n",
       "        <td style=\"padding-left: 1em; padding-right: 1em; text-align: center; vertical-align: top\">[1702417, 991226,<br>3355142, 1574731, ...</td>\n",
       "        <td style=\"padding-left: 1em; padding-right: 1em; text-align: center; vertical-align: top\">[326813, 163021, 3678455,<br>505037, 3170235, 577732, ...</td>\n",
       "        <td style=\"padding-left: 1em; padding-right: 1em; text-align: center; vertical-align: top\">371</td>\n",
       "        <td style=\"padding-left: 1em; padding-right: 1em; text-align: center; vertical-align: top\">147</td>\n",
       "    </tr>\n",
       "    <tr>\n",
       "        <td style=\"padding-left: 1em; padding-right: 1em; text-align: center; vertical-align: top\">2385853</td>\n",
       "        <td style=\"padding-left: 1em; padding-right: 1em; text-align: center; vertical-align: top\">2135370</td>\n",
       "        <td style=\"padding-left: 1em; padding-right: 1em; text-align: center; vertical-align: top\">0</td>\n",
       "        <td style=\"padding-left: 1em; padding-right: 1em; text-align: center; vertical-align: top\">[977900, 2499714,<br>1122854, 3459341, 990 ...</td>\n",
       "        <td style=\"padding-left: 1em; padding-right: 1em; text-align: center; vertical-align: top\">[2135370, 4200163,<br>2940560, 996371, 946951, ...</td>\n",
       "        <td style=\"padding-left: 1em; padding-right: 1em; text-align: center; vertical-align: top\">393</td>\n",
       "        <td style=\"padding-left: 1em; padding-right: 1em; text-align: center; vertical-align: top\">220</td>\n",
       "    </tr>\n",
       "    <tr>\n",
       "        <td style=\"padding-left: 1em; padding-right: 1em; text-align: center; vertical-align: top\">1146906</td>\n",
       "        <td style=\"padding-left: 1em; padding-right: 1em; text-align: center; vertical-align: top\">3844222</td>\n",
       "        <td style=\"padding-left: 1em; padding-right: 1em; text-align: center; vertical-align: top\">1</td>\n",
       "        <td style=\"padding-left: 1em; padding-right: 1em; text-align: center; vertical-align: top\">[3353876, 1916723,<br>4030043, 2916456, ...</td>\n",
       "        <td style=\"padding-left: 1em; padding-right: 1em; text-align: center; vertical-align: top\">[4122183, 4751012,<br>3844222, 3953964, ...</td>\n",
       "        <td style=\"padding-left: 1em; padding-right: 1em; text-align: center; vertical-align: top\">601</td>\n",
       "        <td style=\"padding-left: 1em; padding-right: 1em; text-align: center; vertical-align: top\">211</td>\n",
       "    </tr>\n",
       "</table>\n",
       "<table frame=\"box\" rules=\"cols\">\n",
       "    <tr>\n",
       "        <th style=\"padding-left: 1em; padding-right: 1em; text-align: center\">src_all_friends</th>\n",
       "        <th style=\"padding-left: 1em; padding-right: 1em; text-align: center\">src_all_degree</th>\n",
       "        <th style=\"padding-left: 1em; padding-right: 1em; text-align: center\">src_bi_friends</th>\n",
       "        <th style=\"padding-left: 1em; padding-right: 1em; text-align: center\">src_bi_degree</th>\n",
       "        <th style=\"padding-left: 1em; padding-right: 1em; text-align: center\">dst_in_friends</th>\n",
       "    </tr>\n",
       "    <tr>\n",
       "        <td style=\"padding-left: 1em; padding-right: 1em; text-align: center; vertical-align: top\">[4245515.0, 1988622.0,<br>2580499.0, 2891796.0, ...</td>\n",
       "        <td style=\"padding-left: 1em; padding-right: 1em; text-align: center; vertical-align: top\">511</td>\n",
       "        <td style=\"padding-left: 1em; padding-right: 1em; text-align: center; vertical-align: top\">[2361218, 2651652,<br>1984005, 946951, 3550 ...</td>\n",
       "        <td style=\"padding-left: 1em; padding-right: 1em; text-align: center; vertical-align: top\">39</td>\n",
       "        <td style=\"padding-left: 1em; padding-right: 1em; text-align: center; vertical-align: top\">[1146906, 1146906]</td>\n",
       "    </tr>\n",
       "    <tr>\n",
       "        <td style=\"padding-left: 1em; padding-right: 1em; text-align: center; vertical-align: top\">[3000657.0, 3401703.0]</td>\n",
       "        <td style=\"padding-left: 1em; padding-right: 1em; text-align: center; vertical-align: top\">2</td>\n",
       "        <td style=\"padding-left: 1em; padding-right: 1em; text-align: center; vertical-align: top\">[]</td>\n",
       "        <td style=\"padding-left: 1em; padding-right: 1em; text-align: center; vertical-align: top\">0</td>\n",
       "        <td style=\"padding-left: 1em; padding-right: 1em; text-align: center; vertical-align: top\">[2448032, 428997, 158823,<br>2789436, 1553867, ...</td>\n",
       "    </tr>\n",
       "    <tr>\n",
       "        <td style=\"padding-left: 1em; padding-right: 1em; text-align: center; vertical-align: top\">[1643008.0, 2122753.0,<br>4128260.0, 1984005.0, ...</td>\n",
       "        <td style=\"padding-left: 1em; padding-right: 1em; text-align: center; vertical-align: top\">146</td>\n",
       "        <td style=\"padding-left: 1em; padding-right: 1em; text-align: center; vertical-align: top\">[1984005, 3105725,<br>163021, 1060141, 2940 ...</td>\n",
       "        <td style=\"padding-left: 1em; padding-right: 1em; text-align: center; vertical-align: top\">9</td>\n",
       "        <td style=\"padding-left: 1em; padding-right: 1em; text-align: center; vertical-align: top\">[2290639, 2385853,<br>2874061, 4053197, ...</td>\n",
       "    </tr>\n",
       "    <tr>\n",
       "        <td style=\"padding-left: 1em; padding-right: 1em; text-align: center; vertical-align: top\">[4245515.0, 1988622.0,<br>2580499.0, 2891796.0, ...</td>\n",
       "        <td style=\"padding-left: 1em; padding-right: 1em; text-align: center; vertical-align: top\">511</td>\n",
       "        <td style=\"padding-left: 1em; padding-right: 1em; text-align: center; vertical-align: top\">[2361218, 2651652,<br>1984005, 946951, 3550 ...</td>\n",
       "        <td style=\"padding-left: 1em; padding-right: 1em; text-align: center; vertical-align: top\">39</td>\n",
       "        <td style=\"padding-left: 1em; padding-right: 1em; text-align: center; vertical-align: top\">[1146906, 4187899,<br>3408792, 32418, 960790, ...</td>\n",
       "    </tr>\n",
       "    <tr>\n",
       "        <td style=\"padding-left: 1em; padding-right: 1em; text-align: center; vertical-align: top\">[4281344.0, 4122625.0,<br>3113986.0, 2842633.0, ...</td>\n",
       "        <td style=\"padding-left: 1em; padding-right: 1em; text-align: center; vertical-align: top\">370</td>\n",
       "        <td style=\"padding-left: 1em; padding-right: 1em; text-align: center; vertical-align: top\">[2142339, 1984005,<br>1364265, 1869515, 163 ...</td>\n",
       "        <td style=\"padding-left: 1em; padding-right: 1em; text-align: center; vertical-align: top\">12</td>\n",
       "        <td style=\"padding-left: 1em; padding-right: 1em; text-align: center; vertical-align: top\">[1324992, 1155919]</td>\n",
       "    </tr>\n",
       "    <tr>\n",
       "        <td style=\"padding-left: 1em; padding-right: 1em; text-align: center; vertical-align: top\">[2873352.0, 2842633.0,<br>1988622.0, 1146906.0, ...</td>\n",
       "        <td style=\"padding-left: 1em; padding-right: 1em; text-align: center; vertical-align: top\">495</td>\n",
       "        <td style=\"padding-left: 1em; padding-right: 1em; text-align: center; vertical-align: top\">[651778, 1984005, 946951,<br>327051, 3835413, 850459, ...</td>\n",
       "        <td style=\"padding-left: 1em; padding-right: 1em; text-align: center; vertical-align: top\">23</td>\n",
       "        <td style=\"padding-left: 1em; padding-right: 1em; text-align: center; vertical-align: top\">[651778, 2082970,<br>2593244] ...</td>\n",
       "    </tr>\n",
       "    <tr>\n",
       "        <td style=\"padding-left: 1em; padding-right: 1em; text-align: center; vertical-align: top\">[679944.0, 1576970.0,<br>1988622.0, 1146906.0, ...</td>\n",
       "        <td style=\"padding-left: 1em; padding-right: 1em; text-align: center; vertical-align: top\">518</td>\n",
       "        <td style=\"padding-left: 1em; padding-right: 1em; text-align: center; vertical-align: top\">[3567109, 2471048,<br>3550092, 3459341, ...</td>\n",
       "        <td style=\"padding-left: 1em; padding-right: 1em; text-align: center; vertical-align: top\">41</td>\n",
       "        <td style=\"padding-left: 1em; padding-right: 1em; text-align: center; vertical-align: top\">[4217935, 2059153,<br>2010492, 4217935] ...</td>\n",
       "    </tr>\n",
       "    <tr>\n",
       "        <td style=\"padding-left: 1em; padding-right: 1em; text-align: center; vertical-align: top\">[771156.0, 2122753.0,<br>888836.0, 4560310.0, ...</td>\n",
       "        <td style=\"padding-left: 1em; padding-right: 1em; text-align: center; vertical-align: top\">454</td>\n",
       "        <td style=\"padding-left: 1em; padding-right: 1em; text-align: center; vertical-align: top\">[2361218, 1085187,<br>1031894, 1331722, ...</td>\n",
       "        <td style=\"padding-left: 1em; padding-right: 1em; text-align: center; vertical-align: top\">36</td>\n",
       "        <td style=\"padding-left: 1em; padding-right: 1em; text-align: center; vertical-align: top\">[1988622, 3355051,<br>2284049, 291319, 740005, ...</td>\n",
       "    </tr>\n",
       "    <tr>\n",
       "        <td style=\"padding-left: 1em; padding-right: 1em; text-align: center; vertical-align: top\">[991233.0, 388101.0,<br>552966.0, 303111.0, ...</td>\n",
       "        <td style=\"padding-left: 1em; padding-right: 1em; text-align: center; vertical-align: top\">381</td>\n",
       "        <td style=\"padding-left: 1em; padding-right: 1em; text-align: center; vertical-align: top\">[3642884, 1984005,<br>946951, 2027656, 1438 ...</td>\n",
       "        <td style=\"padding-left: 1em; padding-right: 1em; text-align: center; vertical-align: top\">52</td>\n",
       "        <td style=\"padding-left: 1em; padding-right: 1em; text-align: center; vertical-align: top\">[2385853, 2027656,<br>3539009, 3564842, ...</td>\n",
       "    </tr>\n",
       "    <tr>\n",
       "        <td style=\"padding-left: 1em; padding-right: 1em; text-align: center; vertical-align: top\">[4245515.0, 1988622.0,<br>2580499.0, 2891796.0, ...</td>\n",
       "        <td style=\"padding-left: 1em; padding-right: 1em; text-align: center; vertical-align: top\">511</td>\n",
       "        <td style=\"padding-left: 1em; padding-right: 1em; text-align: center; vertical-align: top\">[2361218, 2651652,<br>1984005, 946951, 3550 ...</td>\n",
       "        <td style=\"padding-left: 1em; padding-right: 1em; text-align: center; vertical-align: top\">39</td>\n",
       "        <td style=\"padding-left: 1em; padding-right: 1em; text-align: center; vertical-align: top\">[1146906, 3038165,<br>4831688, 4187899, ...</td>\n",
       "    </tr>\n",
       "</table>\n",
       "<table frame=\"box\" rules=\"cols\">\n",
       "    <tr>\n",
       "        <th style=\"padding-left: 1em; padding-right: 1em; text-align: center\">dst_out_friends</th>\n",
       "        <th style=\"padding-left: 1em; padding-right: 1em; text-align: center\">dst_out_degree</th>\n",
       "        <th style=\"padding-left: 1em; padding-right: 1em; text-align: center\">dst_in_degree</th>\n",
       "        <th style=\"padding-left: 1em; padding-right: 1em; text-align: center\">dst_all_friends</th>\n",
       "        <th style=\"padding-left: 1em; padding-right: 1em; text-align: center\">dst_all_degree</th>\n",
       "    </tr>\n",
       "    <tr>\n",
       "        <td style=\"padding-left: 1em; padding-right: 1em; text-align: center; vertical-align: top\">[1364265]</td>\n",
       "        <td style=\"padding-left: 1em; padding-right: 1em; text-align: center; vertical-align: top\">1</td>\n",
       "        <td style=\"padding-left: 1em; padding-right: 1em; text-align: center; vertical-align: top\">2</td>\n",
       "        <td style=\"padding-left: 1em; padding-right: 1em; text-align: center; vertical-align: top\">[1364265.0, 1146906.0]</td>\n",
       "        <td style=\"padding-left: 1em; padding-right: 1em; text-align: center; vertical-align: top\">2</td>\n",
       "    </tr>\n",
       "    <tr>\n",
       "        <td style=\"padding-left: 1em; padding-right: 1em; text-align: center; vertical-align: top\">[2521305, 3450363,<br>2984819, 3832490, ...</td>\n",
       "        <td style=\"padding-left: 1em; padding-right: 1em; text-align: center; vertical-align: top\">181</td>\n",
       "        <td style=\"padding-left: 1em; padding-right: 1em; text-align: center; vertical-align: top\">61</td>\n",
       "        <td style=\"padding-left: 1em; padding-right: 1em; text-align: center; vertical-align: top\">[3182243.0, 2556418.0,<br>945165.0, 2329615.0, ...</td>\n",
       "        <td style=\"padding-left: 1em; padding-right: 1em; text-align: center; vertical-align: top\">219</td>\n",
       "    </tr>\n",
       "    <tr>\n",
       "        <td style=\"padding-left: 1em; padding-right: 1em; text-align: center; vertical-align: top\">[2976351, 3338630,<br>1096920, 189038, 3105 ...</td>\n",
       "        <td style=\"padding-left: 1em; padding-right: 1em; text-align: center; vertical-align: top\">462</td>\n",
       "        <td style=\"padding-left: 1em; padding-right: 1em; text-align: center; vertical-align: top\">231</td>\n",
       "        <td style=\"padding-left: 1em; padding-right: 1em; text-align: center; vertical-align: top\">[2644993.0, 1106949.0,<br>2122753.0, 958472.0, ...</td>\n",
       "        <td style=\"padding-left: 1em; padding-right: 1em; text-align: center; vertical-align: top\">441</td>\n",
       "    </tr>\n",
       "    <tr>\n",
       "        <td style=\"padding-left: 1em; padding-right: 1em; text-align: center; vertical-align: top\">[4747912, 524494,<br>4315961, 21832, 4066452, ...</td>\n",
       "        <td style=\"padding-left: 1em; padding-right: 1em; text-align: center; vertical-align: top\">214</td>\n",
       "        <td style=\"padding-left: 1em; padding-right: 1em; text-align: center; vertical-align: top\">211</td>\n",
       "        <td style=\"padding-left: 1em; padding-right: 1em; text-align: center; vertical-align: top\">[4281344.0, 1136130.0,<br>2651652.0, 3567109.0, ...</td>\n",
       "        <td style=\"padding-left: 1em; padding-right: 1em; text-align: center; vertical-align: top\">279</td>\n",
       "    </tr>\n",
       "    <tr>\n",
       "        <td style=\"padding-left: 1em; padding-right: 1em; text-align: center; vertical-align: top\">[]</td>\n",
       "        <td style=\"padding-left: 1em; padding-right: 1em; text-align: center; vertical-align: top\">0</td>\n",
       "        <td style=\"padding-left: 1em; padding-right: 1em; text-align: center; vertical-align: top\">2</td>\n",
       "        <td style=\"padding-left: 1em; padding-right: 1em; text-align: center; vertical-align: top\">[1324992.0, 1155919.0]</td>\n",
       "        <td style=\"padding-left: 1em; padding-right: 1em; text-align: center; vertical-align: top\">2</td>\n",
       "    </tr>\n",
       "    <tr>\n",
       "        <td style=\"padding-left: 1em; padding-right: 1em; text-align: center; vertical-align: top\">[800703, 3680154]</td>\n",
       "        <td style=\"padding-left: 1em; padding-right: 1em; text-align: center; vertical-align: top\">2</td>\n",
       "        <td style=\"padding-left: 1em; padding-right: 1em; text-align: center; vertical-align: top\">3</td>\n",
       "        <td style=\"padding-left: 1em; padding-right: 1em; text-align: center; vertical-align: top\">[651778.0, 2593244.0,<br>2082970.0, 3680154.0, ...</td>\n",
       "        <td style=\"padding-left: 1em; padding-right: 1em; text-align: center; vertical-align: top\">5</td>\n",
       "    </tr>\n",
       "    <tr>\n",
       "        <td style=\"padding-left: 1em; padding-right: 1em; text-align: center; vertical-align: top\">[]</td>\n",
       "        <td style=\"padding-left: 1em; padding-right: 1em; text-align: center; vertical-align: top\">0</td>\n",
       "        <td style=\"padding-left: 1em; padding-right: 1em; text-align: center; vertical-align: top\">4</td>\n",
       "        <td style=\"padding-left: 1em; padding-right: 1em; text-align: center; vertical-align: top\">[2059153.0, 2010492.0,<br>4217935.0] ...</td>\n",
       "        <td style=\"padding-left: 1em; padding-right: 1em; text-align: center; vertical-align: top\">3</td>\n",
       "    </tr>\n",
       "    <tr>\n",
       "        <td style=\"padding-left: 1em; padding-right: 1em; text-align: center; vertical-align: top\">[4603631]</td>\n",
       "        <td style=\"padding-left: 1em; padding-right: 1em; text-align: center; vertical-align: top\">1</td>\n",
       "        <td style=\"padding-left: 1em; padding-right: 1em; text-align: center; vertical-align: top\">8</td>\n",
       "        <td style=\"padding-left: 1em; padding-right: 1em; text-align: center; vertical-align: top\">[3355051.0, 740005.0,<br>2644807.0, 4558379.0, ...</td>\n",
       "        <td style=\"padding-left: 1em; padding-right: 1em; text-align: center; vertical-align: top\">9</td>\n",
       "    </tr>\n",
       "    <tr>\n",
       "        <td style=\"padding-left: 1em; padding-right: 1em; text-align: center; vertical-align: top\">[3670317, 4668578,<br>1179149, 4091676, ...</td>\n",
       "        <td style=\"padding-left: 1em; padding-right: 1em; text-align: center; vertical-align: top\">644</td>\n",
       "        <td style=\"padding-left: 1em; padding-right: 1em; text-align: center; vertical-align: top\">262</td>\n",
       "        <td style=\"padding-left: 1em; padding-right: 1em; text-align: center; vertical-align: top\">[2043905.0, 2494466.0,<br>907269.0, 925704.0, ...</td>\n",
       "        <td style=\"padding-left: 1em; padding-right: 1em; text-align: center; vertical-align: top\">559</td>\n",
       "    </tr>\n",
       "    <tr>\n",
       "        <td style=\"padding-left: 1em; padding-right: 1em; text-align: center; vertical-align: top\">[2517958, 3352846,<br>932451, 2807647, 101049, ...</td>\n",
       "        <td style=\"padding-left: 1em; padding-right: 1em; text-align: center; vertical-align: top\">17</td>\n",
       "        <td style=\"padding-left: 1em; padding-right: 1em; text-align: center; vertical-align: top\">31</td>\n",
       "        <td style=\"padding-left: 1em; padding-right: 1em; text-align: center; vertical-align: top\">[3352846.0, 3539009.0,<br>1808578.0, 2651652.0, ...</td>\n",
       "        <td style=\"padding-left: 1em; padding-right: 1em; text-align: center; vertical-align: top\">39</td>\n",
       "    </tr>\n",
       "</table>\n",
       "<table frame=\"box\" rules=\"cols\">\n",
       "    <tr>\n",
       "        <th style=\"padding-left: 1em; padding-right: 1em; text-align: center\">dst_bi_friends</th>\n",
       "        <th style=\"padding-left: 1em; padding-right: 1em; text-align: center\">dst_bi_degree</th>\n",
       "    </tr>\n",
       "    <tr>\n",
       "        <td style=\"padding-left: 1em; padding-right: 1em; text-align: center; vertical-align: top\">[]</td>\n",
       "        <td style=\"padding-left: 1em; padding-right: 1em; text-align: center; vertical-align: top\">0</td>\n",
       "    </tr>\n",
       "    <tr>\n",
       "        <td style=\"padding-left: 1em; padding-right: 1em; text-align: center; vertical-align: top\">[932451, 2536299, 428997,<br>158823, 2057832, 1480 ...</td>\n",
       "        <td style=\"padding-left: 1em; padding-right: 1em; text-align: center; vertical-align: top\">13</td>\n",
       "    </tr>\n",
       "    <tr>\n",
       "        <td style=\"padding-left: 1em; padding-right: 1em; text-align: center; vertical-align: top\">[4127958, 1984005,<br>516230, 2842633, 1247 ...</td>\n",
       "        <td style=\"padding-left: 1em; padding-right: 1em; text-align: center; vertical-align: top\">40</td>\n",
       "    </tr>\n",
       "    <tr>\n",
       "        <td style=\"padding-left: 1em; padding-right: 1em; text-align: center; vertical-align: top\">[3642884, 875535,<br>2284049, 3353876, 960 ...</td>\n",
       "        <td style=\"padding-left: 1em; padding-right: 1em; text-align: center; vertical-align: top\">24</td>\n",
       "    </tr>\n",
       "    <tr>\n",
       "        <td style=\"padding-left: 1em; padding-right: 1em; text-align: center; vertical-align: top\">[]</td>\n",
       "        <td style=\"padding-left: 1em; padding-right: 1em; text-align: center; vertical-align: top\">0</td>\n",
       "    </tr>\n",
       "    <tr>\n",
       "        <td style=\"padding-left: 1em; padding-right: 1em; text-align: center; vertical-align: top\">[]</td>\n",
       "        <td style=\"padding-left: 1em; padding-right: 1em; text-align: center; vertical-align: top\">0</td>\n",
       "    </tr>\n",
       "    <tr>\n",
       "        <td style=\"padding-left: 1em; padding-right: 1em; text-align: center; vertical-align: top\">[]</td>\n",
       "        <td style=\"padding-left: 1em; padding-right: 1em; text-align: center; vertical-align: top\">0</td>\n",
       "    </tr>\n",
       "    <tr>\n",
       "        <td style=\"padding-left: 1em; padding-right: 1em; text-align: center; vertical-align: top\">[]</td>\n",
       "        <td style=\"padding-left: 1em; padding-right: 1em; text-align: center; vertical-align: top\">0</td>\n",
       "    </tr>\n",
       "    <tr>\n",
       "        <td style=\"padding-left: 1em; padding-right: 1em; text-align: center; vertical-align: top\">[146049, 651778, 1984005,<br>946951, 3174668, 1349 ...</td>\n",
       "        <td style=\"padding-left: 1em; padding-right: 1em; text-align: center; vertical-align: top\">57</td>\n",
       "    </tr>\n",
       "    <tr>\n",
       "        <td style=\"padding-left: 1em; padding-right: 1em; text-align: center; vertical-align: top\">[]</td>\n",
       "        <td style=\"padding-left: 1em; padding-right: 1em; text-align: center; vertical-align: top\">0</td>\n",
       "    </tr>\n",
       "</table>\n",
       "[10 rows x 19 columns]<br/>\n",
       "</div>"
      ],
      "text/plain": [
       "Columns:\n",
       "\tsrc\tint\n",
       "\tdst\tint\n",
       "\tclass\tint\n",
       "\tsrc_in_friends\tlist\n",
       "\tsrc_out_friends\tlist\n",
       "\tsrc_out_degree\tint\n",
       "\tsrc_in_degree\tint\n",
       "\tsrc_all_friends\tarray\n",
       "\tsrc_all_degree\tint\n",
       "\tsrc_bi_friends\tlist\n",
       "\tsrc_bi_degree\tint\n",
       "\tdst_in_friends\tlist\n",
       "\tdst_out_friends\tlist\n",
       "\tdst_out_degree\tint\n",
       "\tdst_in_degree\tint\n",
       "\tdst_all_friends\tarray\n",
       "\tdst_all_degree\tint\n",
       "\tdst_bi_friends\tlist\n",
       "\tdst_bi_degree\tint\n",
       "\n",
       "Rows: 10\n",
       "\n",
       "Data:\n",
       "+---------+---------+-------+-------------------------------+\n",
       "|   src   |   dst   | class |         src_in_friends        |\n",
       "+---------+---------+-------+-------------------------------+\n",
       "| 1146906 | 4122183 |   1   | [3353876, 1916723, 4030043... |\n",
       "| 2448032 | 3401703 |   0   |           [3000657]           |\n",
       "| 2290639 |  996371 |   0   | [4488717, 3457327, 3806350... |\n",
       "| 1146906 | 4751012 |   1   | [3353876, 1916723, 4030043... |\n",
       "| 1324992 | 2533043 |   1   | [3609326, 2272405, 3143728... |\n",
       "|  651778 | 1363531 |   1   | [4603631, 3539009, 3314478... |\n",
       "| 4217935 | 4307379 |   1   | [3961108, 3402168, 1719385... |\n",
       "| 1988622 |  326813 |   1   | [1702417, 991226, 3355142,... |\n",
       "| 2385853 | 2135370 |   0   | [977900, 2499714, 1122854,... |\n",
       "| 1146906 | 3844222 |   1   | [3353876, 1916723, 4030043... |\n",
       "+---------+---------+-------+-------------------------------+\n",
       "+-------------------------------+----------------+---------------+\n",
       "|        src_out_friends        | src_out_degree | src_in_degree |\n",
       "+-------------------------------+----------------+---------------+\n",
       "| [4122183, 4751012, 3844222... |      601       |      211      |\n",
       "|           [3401703]           |       1        |       1       |\n",
       "| [996371, 302860, 1799182, ... |      108       |       62      |\n",
       "| [4122183, 4751012, 3844222... |      601       |      211      |\n",
       "| [2533043, 2502555, 2719963... |      290       |      105      |\n",
       "| [1363531, 1438067, 1178165... |      396       |      153      |\n",
       "| [4307379, 1602251, 2435840... |      584       |      227      |\n",
       "| [326813, 163021, 3678455, ... |      371       |      147      |\n",
       "| [2135370, 4200163, 2940560... |      393       |      220      |\n",
       "| [4122183, 4751012, 3844222... |      601       |      211      |\n",
       "+-------------------------------+----------------+---------------+\n",
       "+-------------------------------+----------------+\n",
       "|        src_all_friends        | src_all_degree |\n",
       "+-------------------------------+----------------+\n",
       "| [4245515.0, 1988622.0, 258... |      511       |\n",
       "|     [3000657.0, 3401703.0]    |       2        |\n",
       "| [1643008.0, 2122753.0, 412... |      146       |\n",
       "| [4245515.0, 1988622.0, 258... |      511       |\n",
       "| [4281344.0, 4122625.0, 311... |      370       |\n",
       "| [2873352.0, 2842633.0, 198... |      495       |\n",
       "| [679944.0, 1576970.0, 1988... |      518       |\n",
       "| [771156.0, 2122753.0, 8888... |      454       |\n",
       "| [991233.0, 388101.0, 55296... |      381       |\n",
       "| [4245515.0, 1988622.0, 258... |      511       |\n",
       "+-------------------------------+----------------+\n",
       "+-------------------------------+---------------+-------------------------------+\n",
       "|         src_bi_friends        | src_bi_degree |         dst_in_friends        |\n",
       "+-------------------------------+---------------+-------------------------------+\n",
       "| [2361218, 2651652, 1984005... |       39      |       [1146906, 1146906]      |\n",
       "|               []              |       0       | [2448032, 428997, 158823, ... |\n",
       "| [1984005, 3105725, 163021,... |       9       | [2290639, 2385853, 2874061... |\n",
       "| [2361218, 2651652, 1984005... |       39      | [1146906, 4187899, 3408792... |\n",
       "| [2142339, 1984005, 1364265... |       12      |       [1324992, 1155919]      |\n",
       "| [651778, 1984005, 946951, ... |       23      |   [651778, 2082970, 2593244]  |\n",
       "| [3567109, 2471048, 3550092... |       41      | [4217935, 2059153, 2010492... |\n",
       "| [2361218, 1085187, 1031894... |       36      | [1988622, 3355051, 2284049... |\n",
       "| [3642884, 1984005, 946951,... |       52      | [2385853, 2027656, 3539009... |\n",
       "| [2361218, 2651652, 1984005... |       39      | [1146906, 3038165, 4831688... |\n",
       "+-------------------------------+---------------+-------------------------------+\n",
       "+-------------------------------+----------------+---------------+\n",
       "|        dst_out_friends        | dst_out_degree | dst_in_degree |\n",
       "+-------------------------------+----------------+---------------+\n",
       "|           [1364265]           |       1        |       2       |\n",
       "| [2521305, 3450363, 2984819... |      181       |       61      |\n",
       "| [2976351, 3338630, 1096920... |      462       |      231      |\n",
       "| [4747912, 524494, 4315961,... |      214       |      211      |\n",
       "|               []              |       0        |       2       |\n",
       "|       [800703, 3680154]       |       2        |       3       |\n",
       "|               []              |       0        |       4       |\n",
       "|           [4603631]           |       1        |       8       |\n",
       "| [3670317, 4668578, 1179149... |      644       |      262      |\n",
       "| [2517958, 3352846, 932451,... |       17       |       31      |\n",
       "+-------------------------------+----------------+---------------+\n",
       "+-------------------------------+----------------+\n",
       "|        dst_all_friends        | dst_all_degree |\n",
       "+-------------------------------+----------------+\n",
       "|     [1364265.0, 1146906.0]    |       2        |\n",
       "| [3182243.0, 2556418.0, 945... |      219       |\n",
       "| [2644993.0, 1106949.0, 212... |      441       |\n",
       "| [4281344.0, 1136130.0, 265... |      279       |\n",
       "|     [1324992.0, 1155919.0]    |       2        |\n",
       "| [651778.0, 2593244.0, 2082... |       5        |\n",
       "| [2059153.0, 2010492.0, 421... |       3        |\n",
       "| [3355051.0, 740005.0, 2644... |       9        |\n",
       "| [2043905.0, 2494466.0, 907... |      559       |\n",
       "| [3352846.0, 3539009.0, 180... |       39       |\n",
       "+-------------------------------+----------------+\n",
       "+-------------------------------+---------------+\n",
       "|         dst_bi_friends        | dst_bi_degree |\n",
       "+-------------------------------+---------------+\n",
       "|               []              |       0       |\n",
       "| [932451, 2536299, 428997, ... |       13      |\n",
       "| [4127958, 1984005, 516230,... |       40      |\n",
       "| [3642884, 875535, 2284049,... |       24      |\n",
       "|               []              |       0       |\n",
       "|               []              |       0       |\n",
       "|               []              |       0       |\n",
       "|               []              |       0       |\n",
       "| [146049, 651778, 1984005, ... |       57      |\n",
       "|               []              |       0       |\n",
       "+-------------------------------+---------------+\n",
       "[10 rows x 19 columns]"
      ]
     },
     "execution_count": 11,
     "metadata": {},
     "output_type": "execute_result"
    }
   ],
   "source": [
    "\n",
    "sf_links = sf_links.join(users_sf, on={\"src\": \"id\"}, how=\"right\")\n",
    "sf_links.rename({\"in_friends\": \"src_in_friends\", \"out_friends\": \"src_out_friends\",\n",
    "           \"all_friends\": \"src_all_friends\", \"all_degree\": \"src_all_degree\",\n",
    "           \"bi_friends\": \"src_bi_friends\", \"bi_degree\": \"src_bi_degree\",\n",
    "           \"in_degree\": \"src_in_degree\", \"out_degree\": \"src_out_degree\"\n",
    "           })\n",
    "\n",
    "sf_links = sf_links.join(users_sf, on={\"dst\": \"id\"}, how=\"right\")\n",
    "sf_links.rename({\"in_friends\": \"dst_in_friends\", \"out_friends\": \"dst_out_friends\",\n",
    "           \"all_friends\": \"dst_all_friends\", \"all_degree\": \"dst_all_degree\",\n",
    "           \"bi_friends\": \"dst_bi_friends\", \"bi_degree\": \"dst_bi_degree\",\n",
    "           \"in_degree\": \"dst_in_degree\", \"out_degree\": \"dst_out_degree\"})\n",
    "\n",
    "sf_links.head(10)\n"
   ]
  },
  {
   "cell_type": "code",
   "execution_count": 12,
   "metadata": {
    "collapsed": false
   },
   "outputs": [
    {
     "data": {
      "text/html": [
       "<div style=\"max-height:1000px;max-width:1500px;overflow:auto;\"><table frame=\"box\" rules=\"cols\">\n",
       "    <tr>\n",
       "        <th style=\"padding-left: 1em; padding-right: 1em; text-align: center\">Id</th>\n",
       "        <th style=\"padding-left: 1em; padding-right: 1em; text-align: center\">Source</th>\n",
       "        <th style=\"padding-left: 1em; padding-right: 1em; text-align: center\">Sink</th>\n",
       "        <th style=\"padding-left: 1em; padding-right: 1em; text-align: center\">src_in_friends</th>\n",
       "        <th style=\"padding-left: 1em; padding-right: 1em; text-align: center\">src_out_friends</th>\n",
       "        <th style=\"padding-left: 1em; padding-right: 1em; text-align: center\">src_out_degree</th>\n",
       "        <th style=\"padding-left: 1em; padding-right: 1em; text-align: center\">src_in_degree</th>\n",
       "    </tr>\n",
       "    <tr>\n",
       "        <td style=\"padding-left: 1em; padding-right: 1em; text-align: center; vertical-align: top\">2</td>\n",
       "        <td style=\"padding-left: 1em; padding-right: 1em; text-align: center; vertical-align: top\">3151356</td>\n",
       "        <td style=\"padding-left: 1em; padding-right: 1em; text-align: center; vertical-align: top\">1452193</td>\n",
       "        <td style=\"padding-left: 1em; padding-right: 1em; text-align: center; vertical-align: top\">[2120801.0, 1357350.0,<br>4088506.0, 1759823.0, ...</td>\n",
       "        <td style=\"padding-left: 1em; padding-right: 1em; text-align: center; vertical-align: top\">[4052824.0, 3317934.0,<br>1848747.0, 2482853.0, ...</td>\n",
       "        <td style=\"padding-left: 1em; padding-right: 1em; text-align: center; vertical-align: top\">340</td>\n",
       "        <td style=\"padding-left: 1em; padding-right: 1em; text-align: center; vertical-align: top\">39</td>\n",
       "    </tr>\n",
       "    <tr>\n",
       "        <td style=\"padding-left: 1em; padding-right: 1em; text-align: center; vertical-align: top\">6</td>\n",
       "        <td style=\"padding-left: 1em; padding-right: 1em; text-align: center; vertical-align: top\">228206</td>\n",
       "        <td style=\"padding-left: 1em; padding-right: 1em; text-align: center; vertical-align: top\">212805</td>\n",
       "        <td style=\"padding-left: 1em; padding-right: 1em; text-align: center; vertical-align: top\">[1869658.0, 4738810.0,<br>76360.0, 986629.0, ...</td>\n",
       "        <td style=\"padding-left: 1em; padding-right: 1em; text-align: center; vertical-align: top\">[76360.0, 1869658.0,<br>4738810.0, 2308522.0, ...</td>\n",
       "        <td style=\"padding-left: 1em; padding-right: 1em; text-align: center; vertical-align: top\">9</td>\n",
       "        <td style=\"padding-left: 1em; padding-right: 1em; text-align: center; vertical-align: top\">14</td>\n",
       "    </tr>\n",
       "    <tr>\n",
       "        <td style=\"padding-left: 1em; padding-right: 1em; text-align: center; vertical-align: top\">5</td>\n",
       "        <td style=\"padding-left: 1em; padding-right: 1em; text-align: center; vertical-align: top\">2389638</td>\n",
       "        <td style=\"padding-left: 1em; padding-right: 1em; text-align: center; vertical-align: top\">593017</td>\n",
       "        <td style=\"padding-left: 1em; padding-right: 1em; text-align: center; vertical-align: top\">[2880517.0, 3553485.0,<br>2120801.0, 4003368.0, ...</td>\n",
       "        <td style=\"padding-left: 1em; padding-right: 1em; text-align: center; vertical-align: top\">[201039.0, 2402120.0,<br>2819498.0, 4553431.0, ...</td>\n",
       "        <td style=\"padding-left: 1em; padding-right: 1em; text-align: center; vertical-align: top\">267</td>\n",
       "        <td style=\"padding-left: 1em; padding-right: 1em; text-align: center; vertical-align: top\">30</td>\n",
       "    </tr>\n",
       "    <tr>\n",
       "        <td style=\"padding-left: 1em; padding-right: 1em; text-align: center; vertical-align: top\">1</td>\n",
       "        <td style=\"padding-left: 1em; padding-right: 1em; text-align: center; vertical-align: top\">2184483</td>\n",
       "        <td style=\"padding-left: 1em; padding-right: 1em; text-align: center; vertical-align: top\">1300190</td>\n",
       "        <td style=\"padding-left: 1em; padding-right: 1em; text-align: center; vertical-align: top\">[3770256.0, 2173130.0,<br>4653515.0, 1729215.0, ...</td>\n",
       "        <td style=\"padding-left: 1em; padding-right: 1em; text-align: center; vertical-align: top\">[3209755.0, 1687276.0,<br>4325955.0, 3057131.0, ...</td>\n",
       "        <td style=\"padding-left: 1em; padding-right: 1em; text-align: center; vertical-align: top\">83</td>\n",
       "        <td style=\"padding-left: 1em; padding-right: 1em; text-align: center; vertical-align: top\">102</td>\n",
       "    </tr>\n",
       "    <tr>\n",
       "        <td style=\"padding-left: 1em; padding-right: 1em; text-align: center; vertical-align: top\">3</td>\n",
       "        <td style=\"padding-left: 1em; padding-right: 1em; text-align: center; vertical-align: top\">1579396</td>\n",
       "        <td style=\"padding-left: 1em; padding-right: 1em; text-align: center; vertical-align: top\">193159</td>\n",
       "        <td style=\"padding-left: 1em; padding-right: 1em; text-align: center; vertical-align: top\">[2984603.0, 2120801.0,<br>2740141.0, 2299588.0, ...</td>\n",
       "        <td style=\"padding-left: 1em; padding-right: 1em; text-align: center; vertical-align: top\">[1519588.0, 916145.0,<br>4352024.0, 1738690.0, ...</td>\n",
       "        <td style=\"padding-left: 1em; padding-right: 1em; text-align: center; vertical-align: top\">208</td>\n",
       "        <td style=\"padding-left: 1em; padding-right: 1em; text-align: center; vertical-align: top\">14</td>\n",
       "    </tr>\n",
       "    <tr>\n",
       "        <td style=\"padding-left: 1em; padding-right: 1em; text-align: center; vertical-align: top\">7</td>\n",
       "        <td style=\"padding-left: 1em; padding-right: 1em; text-align: center; vertical-align: top\">1237964</td>\n",
       "        <td style=\"padding-left: 1em; padding-right: 1em; text-align: center; vertical-align: top\">879115</td>\n",
       "        <td style=\"padding-left: 1em; padding-right: 1em; text-align: center; vertical-align: top\">[448823.0, 4157152.0,<br>3317847.0, 1601895.0] ...</td>\n",
       "        <td style=\"padding-left: 1em; padding-right: 1em; text-align: center; vertical-align: top\">[2332893.0, 448823.0,<br>1139433.0, 1413055.0, ...</td>\n",
       "        <td style=\"padding-left: 1em; padding-right: 1em; text-align: center; vertical-align: top\">15</td>\n",
       "        <td style=\"padding-left: 1em; padding-right: 1em; text-align: center; vertical-align: top\">4</td>\n",
       "    </tr>\n",
       "    <tr>\n",
       "        <td style=\"padding-left: 1em; padding-right: 1em; text-align: center; vertical-align: top\">4</td>\n",
       "        <td style=\"padding-left: 1em; padding-right: 1em; text-align: center; vertical-align: top\">1406432</td>\n",
       "        <td style=\"padding-left: 1em; padding-right: 1em; text-align: center; vertical-align: top\">2481036</td>\n",
       "        <td style=\"padding-left: 1em; padding-right: 1em; text-align: center; vertical-align: top\">[1687276.0, 972843.0,<br>2956481.0, 3504137.0, ...</td>\n",
       "        <td style=\"padding-left: 1em; padding-right: 1em; text-align: center; vertical-align: top\">[4088654.0, 1351603.0,<br>2002799.0, 739382.0, ...</td>\n",
       "        <td style=\"padding-left: 1em; padding-right: 1em; text-align: center; vertical-align: top\">84</td>\n",
       "        <td style=\"padding-left: 1em; padding-right: 1em; text-align: center; vertical-align: top\">16</td>\n",
       "    </tr>\n",
       "</table>\n",
       "<table frame=\"box\" rules=\"cols\">\n",
       "    <tr>\n",
       "        <th style=\"padding-left: 1em; padding-right: 1em; text-align: center\">src_all_friends</th>\n",
       "        <th style=\"padding-left: 1em; padding-right: 1em; text-align: center\">src_all_degree</th>\n",
       "        <th style=\"padding-left: 1em; padding-right: 1em; text-align: center\">src_bi_friends</th>\n",
       "        <th style=\"padding-left: 1em; padding-right: 1em; text-align: center\">src_bi_degree</th>\n",
       "        <th style=\"padding-left: 1em; padding-right: 1em; text-align: center\">dst_in_friends</th>\n",
       "    </tr>\n",
       "    <tr>\n",
       "        <td style=\"padding-left: 1em; padding-right: 1em; text-align: center; vertical-align: top\">[2966358.0, 2587654.0,<br>2270215.0, 957452.0, ...</td>\n",
       "        <td style=\"padding-left: 1em; padding-right: 1em; text-align: center; vertical-align: top\">354</td>\n",
       "        <td style=\"padding-left: 1em; padding-right: 1em; text-align: center; vertical-align: top\">[4384662.0, 1357350.0,<br>3515761.0, 3225386.0, ...</td>\n",
       "        <td style=\"padding-left: 1em; padding-right: 1em; text-align: center; vertical-align: top\">25</td>\n",
       "        <td style=\"padding-left: 1em; padding-right: 1em; text-align: center; vertical-align: top\">[2501645.0, 3660919.0,<br>884795.0, 4558216.0, ...</td>\n",
       "    </tr>\n",
       "    <tr>\n",
       "        <td style=\"padding-left: 1em; padding-right: 1em; text-align: center; vertical-align: top\">[110976.0, 2298370.0,<br>212805.0, 4003975.0, ...</td>\n",
       "        <td style=\"padding-left: 1em; padding-right: 1em; text-align: center; vertical-align: top\">16</td>\n",
       "        <td style=\"padding-left: 1em; padding-right: 1em; text-align: center; vertical-align: top\">[4003975.0, 76360.0,<br>3103881.0, 1798770.0, ...</td>\n",
       "        <td style=\"padding-left: 1em; padding-right: 1em; text-align: center; vertical-align: top\">7</td>\n",
       "        <td style=\"padding-left: 1em; padding-right: 1em; text-align: center; vertical-align: top\">[68695.0, 884795.0,<br>2791702.0, 1328244.0, ...</td>\n",
       "    </tr>\n",
       "    <tr>\n",
       "        <td style=\"padding-left: 1em; padding-right: 1em; text-align: center; vertical-align: top\">[4332544.0, 4475906.0,<br>500739.0, 2880517.0, ...</td>\n",
       "        <td style=\"padding-left: 1em; padding-right: 1em; text-align: center; vertical-align: top\">284</td>\n",
       "        <td style=\"padding-left: 1em; padding-right: 1em; text-align: center; vertical-align: top\">[20388.0, 2989221.0,<br>2314215.0, 4003368.0, ...</td>\n",
       "        <td style=\"padding-left: 1em; padding-right: 1em; text-align: center; vertical-align: top\">13</td>\n",
       "        <td style=\"padding-left: 1em; padding-right: 1em; text-align: center; vertical-align: top\">[974241.0, 3694560.0,<br>1181282.0, 2032058.0, ...</td>\n",
       "    </tr>\n",
       "    <tr>\n",
       "        <td style=\"padding-left: 1em; padding-right: 1em; text-align: center; vertical-align: top\">[1340930.0, 2651652.0,<br>2146309.0, 1706508.0, ...</td>\n",
       "        <td style=\"padding-left: 1em; padding-right: 1em; text-align: center; vertical-align: top\">145</td>\n",
       "        <td style=\"padding-left: 1em; padding-right: 1em; text-align: center; vertical-align: top\">[1218944.0, 3123328.0,<br>2651652.0, 1687276.0, ...</td>\n",
       "        <td style=\"padding-left: 1em; padding-right: 1em; text-align: center; vertical-align: top\">40</td>\n",
       "        <td style=\"padding-left: 1em; padding-right: 1em; text-align: center; vertical-align: top\">[4651416.0, 3227840.0,<br>2659783.0] ...</td>\n",
       "    </tr>\n",
       "    <tr>\n",
       "        <td style=\"padding-left: 1em; padding-right: 1em; text-align: center; vertical-align: top\">[2556418.0, 3422215.0,<br>2025481.0, 4171275.0, ...</td>\n",
       "        <td style=\"padding-left: 1em; padding-right: 1em; text-align: center; vertical-align: top\">209</td>\n",
       "        <td style=\"padding-left: 1em; padding-right: 1em; text-align: center; vertical-align: top\">[2120801.0, 20388.0,<br>2025481.0, 2497739.0, ...</td>\n",
       "        <td style=\"padding-left: 1em; padding-right: 1em; text-align: center; vertical-align: top\">12</td>\n",
       "        <td style=\"padding-left: 1em; padding-right: 1em; text-align: center; vertical-align: top\">[3278181.0, 4518416.0]</td>\n",
       "    </tr>\n",
       "    <tr>\n",
       "        <td style=\"padding-left: 1em; padding-right: 1em; text-align: center; vertical-align: top\">[893888.0, 959493.0,<br>2754231.0, 4326349.0, ...</td>\n",
       "        <td style=\"padding-left: 1em; padding-right: 1em; text-align: center; vertical-align: top\">16</td>\n",
       "        <td style=\"padding-left: 1em; padding-right: 1em; text-align: center; vertical-align: top\">[448823.0, 1601895.0,<br>3317847.0] ...</td>\n",
       "        <td style=\"padding-left: 1em; padding-right: 1em; text-align: center; vertical-align: top\">3</td>\n",
       "        <td style=\"padding-left: 1em; padding-right: 1em; text-align: center; vertical-align: top\">[2424452.0, 1133307.0,<br>1755265.0, 2502797.0, ...</td>\n",
       "    </tr>\n",
       "    <tr>\n",
       "        <td style=\"padding-left: 1em; padding-right: 1em; text-align: center; vertical-align: top\">[2304782.0, 669843.0,<br>1984005.0, 4013831.0, ...</td>\n",
       "        <td style=\"padding-left: 1em; padding-right: 1em; text-align: center; vertical-align: top\">86</td>\n",
       "        <td style=\"padding-left: 1em; padding-right: 1em; text-align: center; vertical-align: top\">[2152768.0, 2956481.0,<br>972843.0, 4293286.0, ...</td>\n",
       "        <td style=\"padding-left: 1em; padding-right: 1em; text-align: center; vertical-align: top\">14</td>\n",
       "        <td style=\"padding-left: 1em; padding-right: 1em; text-align: center; vertical-align: top\">[700731.0, 317366.0,<br>2236776.0, 1096764.0, ...</td>\n",
       "    </tr>\n",
       "</table>\n",
       "<table frame=\"box\" rules=\"cols\">\n",
       "    <tr>\n",
       "        <th style=\"padding-left: 1em; padding-right: 1em; text-align: center\">dst_out_friends</th>\n",
       "        <th style=\"padding-left: 1em; padding-right: 1em; text-align: center\">dst_out_degree</th>\n",
       "        <th style=\"padding-left: 1em; padding-right: 1em; text-align: center\">dst_in_degree</th>\n",
       "        <th style=\"padding-left: 1em; padding-right: 1em; text-align: center\">dst_all_friends</th>\n",
       "        <th style=\"padding-left: 1em; padding-right: 1em; text-align: center\">dst_all_degree</th>\n",
       "    </tr>\n",
       "    <tr>\n",
       "        <td style=\"padding-left: 1em; padding-right: 1em; text-align: center; vertical-align: top\">[]</td>\n",
       "        <td style=\"padding-left: 1em; padding-right: 1em; text-align: center; vertical-align: top\">0</td>\n",
       "        <td style=\"padding-left: 1em; padding-right: 1em; text-align: center; vertical-align: top\">289</td>\n",
       "        <td style=\"padding-left: 1em; padding-right: 1em; text-align: center; vertical-align: top\">[3671045.0, 2501645.0,<br>905235.0, 4864020.0, ...</td>\n",
       "        <td style=\"padding-left: 1em; padding-right: 1em; text-align: center; vertical-align: top\">289</td>\n",
       "    </tr>\n",
       "    <tr>\n",
       "        <td style=\"padding-left: 1em; padding-right: 1em; text-align: center; vertical-align: top\">[620720.0, 2576942.0,<br>2728232.0, 1439892.0, ...</td>\n",
       "        <td style=\"padding-left: 1em; padding-right: 1em; text-align: center; vertical-align: top\">297</td>\n",
       "        <td style=\"padding-left: 1em; padding-right: 1em; text-align: center; vertical-align: top\">895</td>\n",
       "        <td style=\"padding-left: 1em; padding-right: 1em; text-align: center; vertical-align: top\">[3971074.0, 431384.0,<br>2209796.0, 4821000.0, ...</td>\n",
       "        <td style=\"padding-left: 1em; padding-right: 1em; text-align: center; vertical-align: top\">1037</td>\n",
       "    </tr>\n",
       "    <tr>\n",
       "        <td style=\"padding-left: 1em; padding-right: 1em; text-align: center; vertical-align: top\">[1328064.0, 595768.0,<br>2704984.0, 2877896.0, ...</td>\n",
       "        <td style=\"padding-left: 1em; padding-right: 1em; text-align: center; vertical-align: top\">58</td>\n",
       "        <td style=\"padding-left: 1em; padding-right: 1em; text-align: center; vertical-align: top\">165</td>\n",
       "        <td style=\"padding-left: 1em; padding-right: 1em; text-align: center; vertical-align: top\">[99328.0, 1395712.0,<br>541698.0, 4055513.0, ...</td>\n",
       "        <td style=\"padding-left: 1em; padding-right: 1em; text-align: center; vertical-align: top\">219</td>\n",
       "    </tr>\n",
       "    <tr>\n",
       "        <td style=\"padding-left: 1em; padding-right: 1em; text-align: center; vertical-align: top\">[]</td>\n",
       "        <td style=\"padding-left: 1em; padding-right: 1em; text-align: center; vertical-align: top\">0</td>\n",
       "        <td style=\"padding-left: 1em; padding-right: 1em; text-align: center; vertical-align: top\">3</td>\n",
       "        <td style=\"padding-left: 1em; padding-right: 1em; text-align: center; vertical-align: top\">[4651416.0, 3227840.0,<br>2659783.0] ...</td>\n",
       "        <td style=\"padding-left: 1em; padding-right: 1em; text-align: center; vertical-align: top\">3</td>\n",
       "    </tr>\n",
       "    <tr>\n",
       "        <td style=\"padding-left: 1em; padding-right: 1em; text-align: center; vertical-align: top\">[]</td>\n",
       "        <td style=\"padding-left: 1em; padding-right: 1em; text-align: center; vertical-align: top\">0</td>\n",
       "        <td style=\"padding-left: 1em; padding-right: 1em; text-align: center; vertical-align: top\">2</td>\n",
       "        <td style=\"padding-left: 1em; padding-right: 1em; text-align: center; vertical-align: top\">[4518416.0, 3278181.0]</td>\n",
       "        <td style=\"padding-left: 1em; padding-right: 1em; text-align: center; vertical-align: top\">2</td>\n",
       "    </tr>\n",
       "    <tr>\n",
       "        <td style=\"padding-left: 1em; padding-right: 1em; text-align: center; vertical-align: top\">[]</td>\n",
       "        <td style=\"padding-left: 1em; padding-right: 1em; text-align: center; vertical-align: top\">0</td>\n",
       "        <td style=\"padding-left: 1em; padding-right: 1em; text-align: center; vertical-align: top\">482</td>\n",
       "        <td style=\"padding-left: 1em; padding-right: 1em; text-align: center; vertical-align: top\">[4021250.0, 3097604.0,<br>323589.0, 1648646.0, ...</td>\n",
       "        <td style=\"padding-left: 1em; padding-right: 1em; text-align: center; vertical-align: top\">482</td>\n",
       "    </tr>\n",
       "    <tr>\n",
       "        <td style=\"padding-left: 1em; padding-right: 1em; text-align: center; vertical-align: top\">[3086178.0, 2385853.0,<br>1984005.0, 1579266.0, ...</td>\n",
       "        <td style=\"padding-left: 1em; padding-right: 1em; text-align: center; vertical-align: top\">14</td>\n",
       "        <td style=\"padding-left: 1em; padding-right: 1em; text-align: center; vertical-align: top\">24</td>\n",
       "        <td style=\"padding-left: 1em; padding-right: 1em; text-align: center; vertical-align: top\">[2152768.0, 1579266.0,<br>1984005.0, 3105725.0, ...</td>\n",
       "        <td style=\"padding-left: 1em; padding-right: 1em; text-align: center; vertical-align: top\">33</td>\n",
       "    </tr>\n",
       "</table>\n",
       "<table frame=\"box\" rules=\"cols\">\n",
       "    <tr>\n",
       "        <th style=\"padding-left: 1em; padding-right: 1em; text-align: center\">dst_bi_friends</th>\n",
       "        <th style=\"padding-left: 1em; padding-right: 1em; text-align: center\">dst_bi_degree</th>\n",
       "    </tr>\n",
       "    <tr>\n",
       "        <td style=\"padding-left: 1em; padding-right: 1em; text-align: center; vertical-align: top\">[]</td>\n",
       "        <td style=\"padding-left: 1em; padding-right: 1em; text-align: center; vertical-align: top\">0</td>\n",
       "    </tr>\n",
       "    <tr>\n",
       "        <td style=\"padding-left: 1em; padding-right: 1em; text-align: center; vertical-align: top\">[2298370.0, 3196331.0,<br>2651652.0, 3885069.0, ...</td>\n",
       "        <td style=\"padding-left: 1em; padding-right: 1em; text-align: center; vertical-align: top\">154</td>\n",
       "    </tr>\n",
       "    <tr>\n",
       "        <td style=\"padding-left: 1em; padding-right: 1em; text-align: center; vertical-align: top\">[2769515.0, 4557603.0,<br>4315324.0, 3964030.0] ...</td>\n",
       "        <td style=\"padding-left: 1em; padding-right: 1em; text-align: center; vertical-align: top\">4</td>\n",
       "    </tr>\n",
       "    <tr>\n",
       "        <td style=\"padding-left: 1em; padding-right: 1em; text-align: center; vertical-align: top\">[]</td>\n",
       "        <td style=\"padding-left: 1em; padding-right: 1em; text-align: center; vertical-align: top\">0</td>\n",
       "    </tr>\n",
       "    <tr>\n",
       "        <td style=\"padding-left: 1em; padding-right: 1em; text-align: center; vertical-align: top\">[]</td>\n",
       "        <td style=\"padding-left: 1em; padding-right: 1em; text-align: center; vertical-align: top\">0</td>\n",
       "    </tr>\n",
       "    <tr>\n",
       "        <td style=\"padding-left: 1em; padding-right: 1em; text-align: center; vertical-align: top\">[]</td>\n",
       "        <td style=\"padding-left: 1em; padding-right: 1em; text-align: center; vertical-align: top\">0</td>\n",
       "    </tr>\n",
       "    <tr>\n",
       "        <td style=\"padding-left: 1em; padding-right: 1em; text-align: center; vertical-align: top\">[2307937.0, 2385853.0,<br>1272125.0, 3450878.0, ...</td>\n",
       "        <td style=\"padding-left: 1em; padding-right: 1em; text-align: center; vertical-align: top\">5</td>\n",
       "    </tr>\n",
       "</table>\n",
       "[7 rows x 19 columns]<br/>\n",
       "</div>"
      ],
      "text/plain": [
       "Columns:\n",
       "\tId\tint\n",
       "\tSource\tint\n",
       "\tSink\tint\n",
       "\tsrc_in_friends\tarray\n",
       "\tsrc_out_friends\tarray\n",
       "\tsrc_out_degree\tint\n",
       "\tsrc_in_degree\tint\n",
       "\tsrc_all_friends\tarray\n",
       "\tsrc_all_degree\tint\n",
       "\tsrc_bi_friends\tarray\n",
       "\tsrc_bi_degree\tint\n",
       "\tdst_in_friends\tarray\n",
       "\tdst_out_friends\tarray\n",
       "\tdst_out_degree\tint\n",
       "\tdst_in_degree\tint\n",
       "\tdst_all_friends\tarray\n",
       "\tdst_all_degree\tint\n",
       "\tdst_bi_friends\tarray\n",
       "\tdst_bi_degree\tint\n",
       "\n",
       "Rows: 7\n",
       "\n",
       "Data:\n",
       "+----+---------+---------+-------------------------------+\n",
       "| Id |  Source |   Sink  |         src_in_friends        |\n",
       "+----+---------+---------+-------------------------------+\n",
       "| 2  | 3151356 | 1452193 | [2120801.0, 1357350.0, 408... |\n",
       "| 6  |  228206 |  212805 | [1869658.0, 4738810.0, 763... |\n",
       "| 5  | 2389638 |  593017 | [2880517.0, 3553485.0, 212... |\n",
       "| 1  | 2184483 | 1300190 | [3770256.0, 2173130.0, 465... |\n",
       "| 3  | 1579396 |  193159 | [2984603.0, 2120801.0, 274... |\n",
       "| 7  | 1237964 |  879115 | [448823.0, 4157152.0, 3317... |\n",
       "| 4  | 1406432 | 2481036 | [1687276.0, 972843.0, 2956... |\n",
       "+----+---------+---------+-------------------------------+\n",
       "+-------------------------------+----------------+---------------+\n",
       "|        src_out_friends        | src_out_degree | src_in_degree |\n",
       "+-------------------------------+----------------+---------------+\n",
       "| [4052824.0, 3317934.0, 184... |      340       |       39      |\n",
       "| [76360.0, 1869658.0, 47388... |       9        |       14      |\n",
       "| [201039.0, 2402120.0, 2819... |      267       |       30      |\n",
       "| [3209755.0, 1687276.0, 432... |       83       |      102      |\n",
       "| [1519588.0, 916145.0, 4352... |      208       |       14      |\n",
       "| [2332893.0, 448823.0, 1139... |       15       |       4       |\n",
       "| [4088654.0, 1351603.0, 200... |       84       |       16      |\n",
       "+-------------------------------+----------------+---------------+\n",
       "+-------------------------------+----------------+\n",
       "|        src_all_friends        | src_all_degree |\n",
       "+-------------------------------+----------------+\n",
       "| [2966358.0, 2587654.0, 227... |      354       |\n",
       "| [110976.0, 2298370.0, 2128... |       16       |\n",
       "| [4332544.0, 4475906.0, 500... |      284       |\n",
       "| [1340930.0, 2651652.0, 214... |      145       |\n",
       "| [2556418.0, 3422215.0, 202... |      209       |\n",
       "| [893888.0, 959493.0, 27542... |       16       |\n",
       "| [2304782.0, 669843.0, 1984... |       86       |\n",
       "+-------------------------------+----------------+\n",
       "+-------------------------------+---------------+-------------------------------+\n",
       "|         src_bi_friends        | src_bi_degree |         dst_in_friends        |\n",
       "+-------------------------------+---------------+-------------------------------+\n",
       "| [4384662.0, 1357350.0, 351... |       25      | [2501645.0, 3660919.0, 884... |\n",
       "| [4003975.0, 76360.0, 31038... |       7       | [68695.0, 884795.0, 279170... |\n",
       "| [20388.0, 2989221.0, 23142... |       13      | [974241.0, 3694560.0, 1181... |\n",
       "| [1218944.0, 3123328.0, 265... |       40      | [4651416.0, 3227840.0, 265... |\n",
       "| [2120801.0, 20388.0, 20254... |       12      |     [3278181.0, 4518416.0]    |\n",
       "| [448823.0, 1601895.0, 3317... |       3       | [2424452.0, 1133307.0, 175... |\n",
       "| [2152768.0, 2956481.0, 972... |       14      | [700731.0, 317366.0, 22367... |\n",
       "+-------------------------------+---------------+-------------------------------+\n",
       "+-------------------------------+----------------+---------------+\n",
       "|        dst_out_friends        | dst_out_degree | dst_in_degree |\n",
       "+-------------------------------+----------------+---------------+\n",
       "|               []              |       0        |      289      |\n",
       "| [620720.0, 2576942.0, 2728... |      297       |      895      |\n",
       "| [1328064.0, 595768.0, 2704... |       58       |      165      |\n",
       "|               []              |       0        |       3       |\n",
       "|               []              |       0        |       2       |\n",
       "|               []              |       0        |      482      |\n",
       "| [3086178.0, 2385853.0, 198... |       14       |       24      |\n",
       "+-------------------------------+----------------+---------------+\n",
       "+-------------------------------+----------------+\n",
       "|        dst_all_friends        | dst_all_degree |\n",
       "+-------------------------------+----------------+\n",
       "| [3671045.0, 2501645.0, 905... |      289       |\n",
       "| [3971074.0, 431384.0, 2209... |      1037      |\n",
       "| [99328.0, 1395712.0, 54169... |      219       |\n",
       "| [4651416.0, 3227840.0, 265... |       3        |\n",
       "|     [4518416.0, 3278181.0]    |       2        |\n",
       "| [4021250.0, 3097604.0, 323... |      482       |\n",
       "| [2152768.0, 1579266.0, 198... |       33       |\n",
       "+-------------------------------+----------------+\n",
       "+-------------------------------+---------------+\n",
       "|         dst_bi_friends        | dst_bi_degree |\n",
       "+-------------------------------+---------------+\n",
       "|               []              |       0       |\n",
       "| [2298370.0, 3196331.0, 265... |      154      |\n",
       "| [2769515.0, 4557603.0, 431... |       4       |\n",
       "|               []              |       0       |\n",
       "|               []              |       0       |\n",
       "|               []              |       0       |\n",
       "| [2307937.0, 2385853.0, 127... |       5       |\n",
       "+-------------------------------+---------------+\n",
       "[7 rows x 19 columns]"
      ]
     },
     "execution_count": 12,
     "metadata": {},
     "output_type": "execute_result"
    }
   ],
   "source": [
    "#added code\n",
    "sf_links_test = sf_links_test.join(users_sf_test, on={\"Source\": \"id\"}, how=\"inner\")\n",
    "sf_links_test.rename({\"in_friends\": \"src_in_friends\", \"out_friends\": \"src_out_friends\",\n",
    "           \"all_friends\": \"src_all_friends\", \"all_degree\": \"src_all_degree\",\n",
    "           \"bi_friends\": \"src_bi_friends\", \"bi_degree\": \"src_bi_degree\",\n",
    "           \"in_degree\": \"src_in_degree\", \"out_degree\": \"src_out_degree\"\n",
    "           })\n",
    "\n",
    "sf_links_test = sf_links_test.join(users_sf_test, on={\"Sink\": \"id\"}, how=\"inner\")\n",
    "sf_links_test.rename({\"in_friends\": \"dst_in_friends\", \"out_friends\": \"dst_out_friends\",\n",
    "           \"all_friends\": \"dst_all_friends\", \"all_degree\": \"dst_all_degree\",\n",
    "           \"bi_friends\": \"dst_bi_friends\", \"bi_degree\": \"dst_bi_degree\",\n",
    "           \"in_degree\": \"dst_in_degree\", \"out_degree\": \"dst_out_degree\"})\n",
    "\n",
    "sf_links_test.head(10)\n"
   ]
  },
  {
   "cell_type": "markdown",
   "metadata": {},
   "source": [
    "Beside adding each link's users <i> u </i> and <i> v </i> degree features, to create a decent link prediction classifier, we also need to add features based on the strength of connection between the users.\n",
    "In this notebook, we will add for each link three simple type of features:\n",
    "- <i>Common-Friends Features</i> - the number of friends both <i>u</i> and <i>v</i> have in common. \n",
    "- <i>Total-Friends Features</i> - the number of friends both <i>u</i> and <i>v</i> have in together.\n",
    "- <i>Jaccard coefficient</i>- the number of Common-Friends divided by the Number of Total-Friends.\n",
    "\n",
    "Lets define the each feature type function:\n"
   ]
  },
  {
   "cell_type": "code",
   "execution_count": 13,
   "metadata": {
    "collapsed": false
   },
   "outputs": [],
   "source": [
    "def common_friends(u, v, u_friends, v_friends):\n",
    "    u_friends = set(u_friends)\n",
    "    if v in u_friends:\n",
    "            u_friends.remove(v)\n",
    "\n",
    "    v_friends = set(v_friends)\n",
    "    if u in v_friends:\n",
    "        v_friends.remove(u)\n",
    "    return len(u_friends & v_friends)\n",
    "\n",
    "def total_friends(u, v, u_friends, v_friends):\n",
    "    u_friends = set(u_friends)\n",
    "    if v in u_friends:\n",
    "        u_friends.remove(v)\n",
    "\n",
    "    v_friends = set(v_friends)\n",
    "    if u in v_friends:\n",
    "        v_friends.remove(u)\n",
    "\n",
    "    return len(u_friends | v_friends)\n",
    "\n",
    "def jacc_coef(u,v, u_friends, v_friends):\n",
    "    t = total_friends(u,v,u_friends,v_friends)\n",
    "    if  t == 0:\n",
    "        return 0\n",
    "    return common_friends(u,v,u_friends, v_friends)/ float(t)\n",
    "\n",
    "\n",
    "# we add more features like scc here later"
   ]
  },
  {
   "cell_type": "markdown",
   "metadata": {},
   "source": [
    "Using these three features type we created 12 new features (4 feature for each feature type) that are based on direction of the friendship between \n",
    "<i>u</i> and <i>v</i> and their friends. \n",
    "\n",
    "Please note that The formal mathematical defintion of the feature presented throught this section can be found in [Fire et al. 2014](http://dl.acm.org/citation.cfm?id=2542192).\n",
    "\n",
    "The following code block may take a few minutes."
   ]
  },
  {
   "cell_type": "code",
   "execution_count": 14,
   "metadata": {
    "collapsed": false
   },
   "outputs": [
    {
     "data": {
      "text/html": [
       "<div style=\"max-height:1000px;max-width:1500px;overflow:auto;\"><table frame=\"box\" rules=\"cols\">\n",
       "    <tr>\n",
       "        <th style=\"padding-left: 1em; padding-right: 1em; text-align: center\">src</th>\n",
       "        <th style=\"padding-left: 1em; padding-right: 1em; text-align: center\">dst</th>\n",
       "        <th style=\"padding-left: 1em; padding-right: 1em; text-align: center\">class</th>\n",
       "        <th style=\"padding-left: 1em; padding-right: 1em; text-align: center\">src_in_friends</th>\n",
       "        <th style=\"padding-left: 1em; padding-right: 1em; text-align: center\">src_out_friends</th>\n",
       "        <th style=\"padding-left: 1em; padding-right: 1em; text-align: center\">src_out_degree</th>\n",
       "        <th style=\"padding-left: 1em; padding-right: 1em; text-align: center\">src_in_degree</th>\n",
       "    </tr>\n",
       "    <tr>\n",
       "        <td style=\"padding-left: 1em; padding-right: 1em; text-align: center; vertical-align: top\">1146906</td>\n",
       "        <td style=\"padding-left: 1em; padding-right: 1em; text-align: center; vertical-align: top\">4122183</td>\n",
       "        <td style=\"padding-left: 1em; padding-right: 1em; text-align: center; vertical-align: top\">1</td>\n",
       "        <td style=\"padding-left: 1em; padding-right: 1em; text-align: center; vertical-align: top\">[3353876, 1916723,<br>4030043, 2916456, ...</td>\n",
       "        <td style=\"padding-left: 1em; padding-right: 1em; text-align: center; vertical-align: top\">[4122183, 4751012,<br>3844222, 3953964, ...</td>\n",
       "        <td style=\"padding-left: 1em; padding-right: 1em; text-align: center; vertical-align: top\">601</td>\n",
       "        <td style=\"padding-left: 1em; padding-right: 1em; text-align: center; vertical-align: top\">211</td>\n",
       "    </tr>\n",
       "    <tr>\n",
       "        <td style=\"padding-left: 1em; padding-right: 1em; text-align: center; vertical-align: top\">2448032</td>\n",
       "        <td style=\"padding-left: 1em; padding-right: 1em; text-align: center; vertical-align: top\">3401703</td>\n",
       "        <td style=\"padding-left: 1em; padding-right: 1em; text-align: center; vertical-align: top\">0</td>\n",
       "        <td style=\"padding-left: 1em; padding-right: 1em; text-align: center; vertical-align: top\">[3000657]</td>\n",
       "        <td style=\"padding-left: 1em; padding-right: 1em; text-align: center; vertical-align: top\">[3401703]</td>\n",
       "        <td style=\"padding-left: 1em; padding-right: 1em; text-align: center; vertical-align: top\">1</td>\n",
       "        <td style=\"padding-left: 1em; padding-right: 1em; text-align: center; vertical-align: top\">1</td>\n",
       "    </tr>\n",
       "    <tr>\n",
       "        <td style=\"padding-left: 1em; padding-right: 1em; text-align: center; vertical-align: top\">2290639</td>\n",
       "        <td style=\"padding-left: 1em; padding-right: 1em; text-align: center; vertical-align: top\">996371</td>\n",
       "        <td style=\"padding-left: 1em; padding-right: 1em; text-align: center; vertical-align: top\">0</td>\n",
       "        <td style=\"padding-left: 1em; padding-right: 1em; text-align: center; vertical-align: top\">[4488717, 3457327,<br>3806350, 3144384, ...</td>\n",
       "        <td style=\"padding-left: 1em; padding-right: 1em; text-align: center; vertical-align: top\">[996371, 302860, 1799182,<br>2227954, 2940560, ...</td>\n",
       "        <td style=\"padding-left: 1em; padding-right: 1em; text-align: center; vertical-align: top\">108</td>\n",
       "        <td style=\"padding-left: 1em; padding-right: 1em; text-align: center; vertical-align: top\">62</td>\n",
       "    </tr>\n",
       "    <tr>\n",
       "        <td style=\"padding-left: 1em; padding-right: 1em; text-align: center; vertical-align: top\">1146906</td>\n",
       "        <td style=\"padding-left: 1em; padding-right: 1em; text-align: center; vertical-align: top\">4751012</td>\n",
       "        <td style=\"padding-left: 1em; padding-right: 1em; text-align: center; vertical-align: top\">1</td>\n",
       "        <td style=\"padding-left: 1em; padding-right: 1em; text-align: center; vertical-align: top\">[3353876, 1916723,<br>4030043, 2916456, ...</td>\n",
       "        <td style=\"padding-left: 1em; padding-right: 1em; text-align: center; vertical-align: top\">[4122183, 4751012,<br>3844222, 3953964, ...</td>\n",
       "        <td style=\"padding-left: 1em; padding-right: 1em; text-align: center; vertical-align: top\">601</td>\n",
       "        <td style=\"padding-left: 1em; padding-right: 1em; text-align: center; vertical-align: top\">211</td>\n",
       "    </tr>\n",
       "    <tr>\n",
       "        <td style=\"padding-left: 1em; padding-right: 1em; text-align: center; vertical-align: top\">1324992</td>\n",
       "        <td style=\"padding-left: 1em; padding-right: 1em; text-align: center; vertical-align: top\">2533043</td>\n",
       "        <td style=\"padding-left: 1em; padding-right: 1em; text-align: center; vertical-align: top\">1</td>\n",
       "        <td style=\"padding-left: 1em; padding-right: 1em; text-align: center; vertical-align: top\">[3609326, 2272405,<br>3143728, 2300708, ...</td>\n",
       "        <td style=\"padding-left: 1em; padding-right: 1em; text-align: center; vertical-align: top\">[2533043, 2502555,<br>2719963, 3240066, ...</td>\n",
       "        <td style=\"padding-left: 1em; padding-right: 1em; text-align: center; vertical-align: top\">290</td>\n",
       "        <td style=\"padding-left: 1em; padding-right: 1em; text-align: center; vertical-align: top\">105</td>\n",
       "    </tr>\n",
       "    <tr>\n",
       "        <td style=\"padding-left: 1em; padding-right: 1em; text-align: center; vertical-align: top\">651778</td>\n",
       "        <td style=\"padding-left: 1em; padding-right: 1em; text-align: center; vertical-align: top\">1363531</td>\n",
       "        <td style=\"padding-left: 1em; padding-right: 1em; text-align: center; vertical-align: top\">1</td>\n",
       "        <td style=\"padding-left: 1em; padding-right: 1em; text-align: center; vertical-align: top\">[4603631, 3539009,<br>3314478, 2842633, ...</td>\n",
       "        <td style=\"padding-left: 1em; padding-right: 1em; text-align: center; vertical-align: top\">[1363531, 1438067,<br>1178165, 3613981, ...</td>\n",
       "        <td style=\"padding-left: 1em; padding-right: 1em; text-align: center; vertical-align: top\">396</td>\n",
       "        <td style=\"padding-left: 1em; padding-right: 1em; text-align: center; vertical-align: top\">153</td>\n",
       "    </tr>\n",
       "    <tr>\n",
       "        <td style=\"padding-left: 1em; padding-right: 1em; text-align: center; vertical-align: top\">4217935</td>\n",
       "        <td style=\"padding-left: 1em; padding-right: 1em; text-align: center; vertical-align: top\">4307379</td>\n",
       "        <td style=\"padding-left: 1em; padding-right: 1em; text-align: center; vertical-align: top\">1</td>\n",
       "        <td style=\"padding-left: 1em; padding-right: 1em; text-align: center; vertical-align: top\">[3961108, 3402168,<br>1719385, 4251081, ...</td>\n",
       "        <td style=\"padding-left: 1em; padding-right: 1em; text-align: center; vertical-align: top\">[4307379, 1602251,<br>2435840, 3253984, ...</td>\n",
       "        <td style=\"padding-left: 1em; padding-right: 1em; text-align: center; vertical-align: top\">584</td>\n",
       "        <td style=\"padding-left: 1em; padding-right: 1em; text-align: center; vertical-align: top\">227</td>\n",
       "    </tr>\n",
       "    <tr>\n",
       "        <td style=\"padding-left: 1em; padding-right: 1em; text-align: center; vertical-align: top\">1988622</td>\n",
       "        <td style=\"padding-left: 1em; padding-right: 1em; text-align: center; vertical-align: top\">326813</td>\n",
       "        <td style=\"padding-left: 1em; padding-right: 1em; text-align: center; vertical-align: top\">1</td>\n",
       "        <td style=\"padding-left: 1em; padding-right: 1em; text-align: center; vertical-align: top\">[1702417, 991226,<br>3355142, 1574731, ...</td>\n",
       "        <td style=\"padding-left: 1em; padding-right: 1em; text-align: center; vertical-align: top\">[326813, 163021, 3678455,<br>505037, 3170235, 577732, ...</td>\n",
       "        <td style=\"padding-left: 1em; padding-right: 1em; text-align: center; vertical-align: top\">371</td>\n",
       "        <td style=\"padding-left: 1em; padding-right: 1em; text-align: center; vertical-align: top\">147</td>\n",
       "    </tr>\n",
       "    <tr>\n",
       "        <td style=\"padding-left: 1em; padding-right: 1em; text-align: center; vertical-align: top\">2385853</td>\n",
       "        <td style=\"padding-left: 1em; padding-right: 1em; text-align: center; vertical-align: top\">2135370</td>\n",
       "        <td style=\"padding-left: 1em; padding-right: 1em; text-align: center; vertical-align: top\">0</td>\n",
       "        <td style=\"padding-left: 1em; padding-right: 1em; text-align: center; vertical-align: top\">[977900, 2499714,<br>1122854, 3459341, 990 ...</td>\n",
       "        <td style=\"padding-left: 1em; padding-right: 1em; text-align: center; vertical-align: top\">[2135370, 4200163,<br>2940560, 996371, 946951, ...</td>\n",
       "        <td style=\"padding-left: 1em; padding-right: 1em; text-align: center; vertical-align: top\">393</td>\n",
       "        <td style=\"padding-left: 1em; padding-right: 1em; text-align: center; vertical-align: top\">220</td>\n",
       "    </tr>\n",
       "    <tr>\n",
       "        <td style=\"padding-left: 1em; padding-right: 1em; text-align: center; vertical-align: top\">1146906</td>\n",
       "        <td style=\"padding-left: 1em; padding-right: 1em; text-align: center; vertical-align: top\">3844222</td>\n",
       "        <td style=\"padding-left: 1em; padding-right: 1em; text-align: center; vertical-align: top\">1</td>\n",
       "        <td style=\"padding-left: 1em; padding-right: 1em; text-align: center; vertical-align: top\">[3353876, 1916723,<br>4030043, 2916456, ...</td>\n",
       "        <td style=\"padding-left: 1em; padding-right: 1em; text-align: center; vertical-align: top\">[4122183, 4751012,<br>3844222, 3953964, ...</td>\n",
       "        <td style=\"padding-left: 1em; padding-right: 1em; text-align: center; vertical-align: top\">601</td>\n",
       "        <td style=\"padding-left: 1em; padding-right: 1em; text-align: center; vertical-align: top\">211</td>\n",
       "    </tr>\n",
       "</table>\n",
       "<table frame=\"box\" rules=\"cols\">\n",
       "    <tr>\n",
       "        <th style=\"padding-left: 1em; padding-right: 1em; text-align: center\">src_all_friends</th>\n",
       "        <th style=\"padding-left: 1em; padding-right: 1em; text-align: center\">src_all_degree</th>\n",
       "        <th style=\"padding-left: 1em; padding-right: 1em; text-align: center\">src_bi_friends</th>\n",
       "        <th style=\"padding-left: 1em; padding-right: 1em; text-align: center\">src_bi_degree</th>\n",
       "        <th style=\"padding-left: 1em; padding-right: 1em; text-align: center\">dst_in_friends</th>\n",
       "    </tr>\n",
       "    <tr>\n",
       "        <td style=\"padding-left: 1em; padding-right: 1em; text-align: center; vertical-align: top\">[4245515.0, 1988622.0,<br>2580499.0, 2891796.0, ...</td>\n",
       "        <td style=\"padding-left: 1em; padding-right: 1em; text-align: center; vertical-align: top\">511</td>\n",
       "        <td style=\"padding-left: 1em; padding-right: 1em; text-align: center; vertical-align: top\">[2361218, 2651652,<br>1984005, 946951, 3550 ...</td>\n",
       "        <td style=\"padding-left: 1em; padding-right: 1em; text-align: center; vertical-align: top\">39</td>\n",
       "        <td style=\"padding-left: 1em; padding-right: 1em; text-align: center; vertical-align: top\">[1146906, 1146906]</td>\n",
       "    </tr>\n",
       "    <tr>\n",
       "        <td style=\"padding-left: 1em; padding-right: 1em; text-align: center; vertical-align: top\">[3000657.0, 3401703.0]</td>\n",
       "        <td style=\"padding-left: 1em; padding-right: 1em; text-align: center; vertical-align: top\">2</td>\n",
       "        <td style=\"padding-left: 1em; padding-right: 1em; text-align: center; vertical-align: top\">[]</td>\n",
       "        <td style=\"padding-left: 1em; padding-right: 1em; text-align: center; vertical-align: top\">0</td>\n",
       "        <td style=\"padding-left: 1em; padding-right: 1em; text-align: center; vertical-align: top\">[2448032, 428997, 158823,<br>2789436, 1553867, ...</td>\n",
       "    </tr>\n",
       "    <tr>\n",
       "        <td style=\"padding-left: 1em; padding-right: 1em; text-align: center; vertical-align: top\">[1643008.0, 2122753.0,<br>4128260.0, 1984005.0, ...</td>\n",
       "        <td style=\"padding-left: 1em; padding-right: 1em; text-align: center; vertical-align: top\">146</td>\n",
       "        <td style=\"padding-left: 1em; padding-right: 1em; text-align: center; vertical-align: top\">[1984005, 3105725,<br>163021, 1060141, 2940 ...</td>\n",
       "        <td style=\"padding-left: 1em; padding-right: 1em; text-align: center; vertical-align: top\">9</td>\n",
       "        <td style=\"padding-left: 1em; padding-right: 1em; text-align: center; vertical-align: top\">[2290639, 2385853,<br>2874061, 4053197, ...</td>\n",
       "    </tr>\n",
       "    <tr>\n",
       "        <td style=\"padding-left: 1em; padding-right: 1em; text-align: center; vertical-align: top\">[4245515.0, 1988622.0,<br>2580499.0, 2891796.0, ...</td>\n",
       "        <td style=\"padding-left: 1em; padding-right: 1em; text-align: center; vertical-align: top\">511</td>\n",
       "        <td style=\"padding-left: 1em; padding-right: 1em; text-align: center; vertical-align: top\">[2361218, 2651652,<br>1984005, 946951, 3550 ...</td>\n",
       "        <td style=\"padding-left: 1em; padding-right: 1em; text-align: center; vertical-align: top\">39</td>\n",
       "        <td style=\"padding-left: 1em; padding-right: 1em; text-align: center; vertical-align: top\">[1146906, 4187899,<br>3408792, 32418, 960790, ...</td>\n",
       "    </tr>\n",
       "    <tr>\n",
       "        <td style=\"padding-left: 1em; padding-right: 1em; text-align: center; vertical-align: top\">[4281344.0, 4122625.0,<br>3113986.0, 2842633.0, ...</td>\n",
       "        <td style=\"padding-left: 1em; padding-right: 1em; text-align: center; vertical-align: top\">370</td>\n",
       "        <td style=\"padding-left: 1em; padding-right: 1em; text-align: center; vertical-align: top\">[2142339, 1984005,<br>1364265, 1869515, 163 ...</td>\n",
       "        <td style=\"padding-left: 1em; padding-right: 1em; text-align: center; vertical-align: top\">12</td>\n",
       "        <td style=\"padding-left: 1em; padding-right: 1em; text-align: center; vertical-align: top\">[1324992, 1155919]</td>\n",
       "    </tr>\n",
       "    <tr>\n",
       "        <td style=\"padding-left: 1em; padding-right: 1em; text-align: center; vertical-align: top\">[2873352.0, 2842633.0,<br>1988622.0, 1146906.0, ...</td>\n",
       "        <td style=\"padding-left: 1em; padding-right: 1em; text-align: center; vertical-align: top\">495</td>\n",
       "        <td style=\"padding-left: 1em; padding-right: 1em; text-align: center; vertical-align: top\">[651778, 1984005, 946951,<br>327051, 3835413, 850459, ...</td>\n",
       "        <td style=\"padding-left: 1em; padding-right: 1em; text-align: center; vertical-align: top\">23</td>\n",
       "        <td style=\"padding-left: 1em; padding-right: 1em; text-align: center; vertical-align: top\">[651778, 2082970,<br>2593244] ...</td>\n",
       "    </tr>\n",
       "    <tr>\n",
       "        <td style=\"padding-left: 1em; padding-right: 1em; text-align: center; vertical-align: top\">[679944.0, 1576970.0,<br>1988622.0, 1146906.0, ...</td>\n",
       "        <td style=\"padding-left: 1em; padding-right: 1em; text-align: center; vertical-align: top\">518</td>\n",
       "        <td style=\"padding-left: 1em; padding-right: 1em; text-align: center; vertical-align: top\">[3567109, 2471048,<br>3550092, 3459341, ...</td>\n",
       "        <td style=\"padding-left: 1em; padding-right: 1em; text-align: center; vertical-align: top\">41</td>\n",
       "        <td style=\"padding-left: 1em; padding-right: 1em; text-align: center; vertical-align: top\">[4217935, 2059153,<br>2010492, 4217935] ...</td>\n",
       "    </tr>\n",
       "    <tr>\n",
       "        <td style=\"padding-left: 1em; padding-right: 1em; text-align: center; vertical-align: top\">[771156.0, 2122753.0,<br>888836.0, 4560310.0, ...</td>\n",
       "        <td style=\"padding-left: 1em; padding-right: 1em; text-align: center; vertical-align: top\">454</td>\n",
       "        <td style=\"padding-left: 1em; padding-right: 1em; text-align: center; vertical-align: top\">[2361218, 1085187,<br>1031894, 1331722, ...</td>\n",
       "        <td style=\"padding-left: 1em; padding-right: 1em; text-align: center; vertical-align: top\">36</td>\n",
       "        <td style=\"padding-left: 1em; padding-right: 1em; text-align: center; vertical-align: top\">[1988622, 3355051,<br>2284049, 291319, 740005, ...</td>\n",
       "    </tr>\n",
       "    <tr>\n",
       "        <td style=\"padding-left: 1em; padding-right: 1em; text-align: center; vertical-align: top\">[991233.0, 388101.0,<br>552966.0, 303111.0, ...</td>\n",
       "        <td style=\"padding-left: 1em; padding-right: 1em; text-align: center; vertical-align: top\">381</td>\n",
       "        <td style=\"padding-left: 1em; padding-right: 1em; text-align: center; vertical-align: top\">[3642884, 1984005,<br>946951, 2027656, 1438 ...</td>\n",
       "        <td style=\"padding-left: 1em; padding-right: 1em; text-align: center; vertical-align: top\">52</td>\n",
       "        <td style=\"padding-left: 1em; padding-right: 1em; text-align: center; vertical-align: top\">[2385853, 2027656,<br>3539009, 3564842, ...</td>\n",
       "    </tr>\n",
       "    <tr>\n",
       "        <td style=\"padding-left: 1em; padding-right: 1em; text-align: center; vertical-align: top\">[4245515.0, 1988622.0,<br>2580499.0, 2891796.0, ...</td>\n",
       "        <td style=\"padding-left: 1em; padding-right: 1em; text-align: center; vertical-align: top\">511</td>\n",
       "        <td style=\"padding-left: 1em; padding-right: 1em; text-align: center; vertical-align: top\">[2361218, 2651652,<br>1984005, 946951, 3550 ...</td>\n",
       "        <td style=\"padding-left: 1em; padding-right: 1em; text-align: center; vertical-align: top\">39</td>\n",
       "        <td style=\"padding-left: 1em; padding-right: 1em; text-align: center; vertical-align: top\">[1146906, 3038165,<br>4831688, 4187899, ...</td>\n",
       "    </tr>\n",
       "</table>\n",
       "<table frame=\"box\" rules=\"cols\">\n",
       "    <tr>\n",
       "        <th style=\"padding-left: 1em; padding-right: 1em; text-align: center\">dst_out_friends</th>\n",
       "        <th style=\"padding-left: 1em; padding-right: 1em; text-align: center\">dst_out_degree</th>\n",
       "        <th style=\"padding-left: 1em; padding-right: 1em; text-align: center\">dst_in_degree</th>\n",
       "        <th style=\"padding-left: 1em; padding-right: 1em; text-align: center\">dst_all_friends</th>\n",
       "        <th style=\"padding-left: 1em; padding-right: 1em; text-align: center\">dst_all_degree</th>\n",
       "    </tr>\n",
       "    <tr>\n",
       "        <td style=\"padding-left: 1em; padding-right: 1em; text-align: center; vertical-align: top\">[1364265]</td>\n",
       "        <td style=\"padding-left: 1em; padding-right: 1em; text-align: center; vertical-align: top\">1</td>\n",
       "        <td style=\"padding-left: 1em; padding-right: 1em; text-align: center; vertical-align: top\">2</td>\n",
       "        <td style=\"padding-left: 1em; padding-right: 1em; text-align: center; vertical-align: top\">[1364265.0, 1146906.0]</td>\n",
       "        <td style=\"padding-left: 1em; padding-right: 1em; text-align: center; vertical-align: top\">2</td>\n",
       "    </tr>\n",
       "    <tr>\n",
       "        <td style=\"padding-left: 1em; padding-right: 1em; text-align: center; vertical-align: top\">[2521305, 3450363,<br>2984819, 3832490, ...</td>\n",
       "        <td style=\"padding-left: 1em; padding-right: 1em; text-align: center; vertical-align: top\">181</td>\n",
       "        <td style=\"padding-left: 1em; padding-right: 1em; text-align: center; vertical-align: top\">61</td>\n",
       "        <td style=\"padding-left: 1em; padding-right: 1em; text-align: center; vertical-align: top\">[3182243.0, 2556418.0,<br>945165.0, 2329615.0, ...</td>\n",
       "        <td style=\"padding-left: 1em; padding-right: 1em; text-align: center; vertical-align: top\">219</td>\n",
       "    </tr>\n",
       "    <tr>\n",
       "        <td style=\"padding-left: 1em; padding-right: 1em; text-align: center; vertical-align: top\">[2976351, 3338630,<br>1096920, 189038, 3105 ...</td>\n",
       "        <td style=\"padding-left: 1em; padding-right: 1em; text-align: center; vertical-align: top\">462</td>\n",
       "        <td style=\"padding-left: 1em; padding-right: 1em; text-align: center; vertical-align: top\">231</td>\n",
       "        <td style=\"padding-left: 1em; padding-right: 1em; text-align: center; vertical-align: top\">[2644993.0, 1106949.0,<br>2122753.0, 958472.0, ...</td>\n",
       "        <td style=\"padding-left: 1em; padding-right: 1em; text-align: center; vertical-align: top\">441</td>\n",
       "    </tr>\n",
       "    <tr>\n",
       "        <td style=\"padding-left: 1em; padding-right: 1em; text-align: center; vertical-align: top\">[4747912, 524494,<br>4315961, 21832, 4066452, ...</td>\n",
       "        <td style=\"padding-left: 1em; padding-right: 1em; text-align: center; vertical-align: top\">214</td>\n",
       "        <td style=\"padding-left: 1em; padding-right: 1em; text-align: center; vertical-align: top\">211</td>\n",
       "        <td style=\"padding-left: 1em; padding-right: 1em; text-align: center; vertical-align: top\">[4281344.0, 1136130.0,<br>2651652.0, 3567109.0, ...</td>\n",
       "        <td style=\"padding-left: 1em; padding-right: 1em; text-align: center; vertical-align: top\">279</td>\n",
       "    </tr>\n",
       "    <tr>\n",
       "        <td style=\"padding-left: 1em; padding-right: 1em; text-align: center; vertical-align: top\">[]</td>\n",
       "        <td style=\"padding-left: 1em; padding-right: 1em; text-align: center; vertical-align: top\">0</td>\n",
       "        <td style=\"padding-left: 1em; padding-right: 1em; text-align: center; vertical-align: top\">2</td>\n",
       "        <td style=\"padding-left: 1em; padding-right: 1em; text-align: center; vertical-align: top\">[1324992.0, 1155919.0]</td>\n",
       "        <td style=\"padding-left: 1em; padding-right: 1em; text-align: center; vertical-align: top\">2</td>\n",
       "    </tr>\n",
       "    <tr>\n",
       "        <td style=\"padding-left: 1em; padding-right: 1em; text-align: center; vertical-align: top\">[800703, 3680154]</td>\n",
       "        <td style=\"padding-left: 1em; padding-right: 1em; text-align: center; vertical-align: top\">2</td>\n",
       "        <td style=\"padding-left: 1em; padding-right: 1em; text-align: center; vertical-align: top\">3</td>\n",
       "        <td style=\"padding-left: 1em; padding-right: 1em; text-align: center; vertical-align: top\">[651778.0, 2593244.0,<br>2082970.0, 3680154.0, ...</td>\n",
       "        <td style=\"padding-left: 1em; padding-right: 1em; text-align: center; vertical-align: top\">5</td>\n",
       "    </tr>\n",
       "    <tr>\n",
       "        <td style=\"padding-left: 1em; padding-right: 1em; text-align: center; vertical-align: top\">[]</td>\n",
       "        <td style=\"padding-left: 1em; padding-right: 1em; text-align: center; vertical-align: top\">0</td>\n",
       "        <td style=\"padding-left: 1em; padding-right: 1em; text-align: center; vertical-align: top\">4</td>\n",
       "        <td style=\"padding-left: 1em; padding-right: 1em; text-align: center; vertical-align: top\">[2059153.0, 2010492.0,<br>4217935.0] ...</td>\n",
       "        <td style=\"padding-left: 1em; padding-right: 1em; text-align: center; vertical-align: top\">3</td>\n",
       "    </tr>\n",
       "    <tr>\n",
       "        <td style=\"padding-left: 1em; padding-right: 1em; text-align: center; vertical-align: top\">[4603631]</td>\n",
       "        <td style=\"padding-left: 1em; padding-right: 1em; text-align: center; vertical-align: top\">1</td>\n",
       "        <td style=\"padding-left: 1em; padding-right: 1em; text-align: center; vertical-align: top\">8</td>\n",
       "        <td style=\"padding-left: 1em; padding-right: 1em; text-align: center; vertical-align: top\">[3355051.0, 740005.0,<br>2644807.0, 4558379.0, ...</td>\n",
       "        <td style=\"padding-left: 1em; padding-right: 1em; text-align: center; vertical-align: top\">9</td>\n",
       "    </tr>\n",
       "    <tr>\n",
       "        <td style=\"padding-left: 1em; padding-right: 1em; text-align: center; vertical-align: top\">[3670317, 4668578,<br>1179149, 4091676, ...</td>\n",
       "        <td style=\"padding-left: 1em; padding-right: 1em; text-align: center; vertical-align: top\">644</td>\n",
       "        <td style=\"padding-left: 1em; padding-right: 1em; text-align: center; vertical-align: top\">262</td>\n",
       "        <td style=\"padding-left: 1em; padding-right: 1em; text-align: center; vertical-align: top\">[2043905.0, 2494466.0,<br>907269.0, 925704.0, ...</td>\n",
       "        <td style=\"padding-left: 1em; padding-right: 1em; text-align: center; vertical-align: top\">559</td>\n",
       "    </tr>\n",
       "    <tr>\n",
       "        <td style=\"padding-left: 1em; padding-right: 1em; text-align: center; vertical-align: top\">[2517958, 3352846,<br>932451, 2807647, 101049, ...</td>\n",
       "        <td style=\"padding-left: 1em; padding-right: 1em; text-align: center; vertical-align: top\">17</td>\n",
       "        <td style=\"padding-left: 1em; padding-right: 1em; text-align: center; vertical-align: top\">31</td>\n",
       "        <td style=\"padding-left: 1em; padding-right: 1em; text-align: center; vertical-align: top\">[3352846.0, 3539009.0,<br>1808578.0, 2651652.0, ...</td>\n",
       "        <td style=\"padding-left: 1em; padding-right: 1em; text-align: center; vertical-align: top\">39</td>\n",
       "    </tr>\n",
       "</table>\n",
       "<table frame=\"box\" rules=\"cols\">\n",
       "    <tr>\n",
       "        <th style=\"padding-left: 1em; padding-right: 1em; text-align: center\">dst_bi_friends</th>\n",
       "        <th style=\"padding-left: 1em; padding-right: 1em; text-align: center\">dst_bi_degree</th>\n",
       "        <th style=\"padding-left: 1em; padding-right: 1em; text-align: center\">common_friends</th>\n",
       "        <th style=\"padding-left: 1em; padding-right: 1em; text-align: center\">common_bi_friends</th>\n",
       "        <th style=\"padding-left: 1em; padding-right: 1em; text-align: center\">common_in_friends</th>\n",
       "        <th style=\"padding-left: 1em; padding-right: 1em; text-align: center\">common_out_friends</th>\n",
       "    </tr>\n",
       "    <tr>\n",
       "        <td style=\"padding-left: 1em; padding-right: 1em; text-align: center; vertical-align: top\">[]</td>\n",
       "        <td style=\"padding-left: 1em; padding-right: 1em; text-align: center; vertical-align: top\">0</td>\n",
       "        <td style=\"padding-left: 1em; padding-right: 1em; text-align: center; vertical-align: top\">1</td>\n",
       "        <td style=\"padding-left: 1em; padding-right: 1em; text-align: center; vertical-align: top\">0</td>\n",
       "        <td style=\"padding-left: 1em; padding-right: 1em; text-align: center; vertical-align: top\">0</td>\n",
       "        <td style=\"padding-left: 1em; padding-right: 1em; text-align: center; vertical-align: top\">0</td>\n",
       "    </tr>\n",
       "    <tr>\n",
       "        <td style=\"padding-left: 1em; padding-right: 1em; text-align: center; vertical-align: top\">[932451, 2536299, 428997,<br>158823, 2057832, 1480 ...</td>\n",
       "        <td style=\"padding-left: 1em; padding-right: 1em; text-align: center; vertical-align: top\">13</td>\n",
       "        <td style=\"padding-left: 1em; padding-right: 1em; text-align: center; vertical-align: top\">1</td>\n",
       "        <td style=\"padding-left: 1em; padding-right: 1em; text-align: center; vertical-align: top\">0</td>\n",
       "        <td style=\"padding-left: 1em; padding-right: 1em; text-align: center; vertical-align: top\">0</td>\n",
       "        <td style=\"padding-left: 1em; padding-right: 1em; text-align: center; vertical-align: top\">0</td>\n",
       "    </tr>\n",
       "    <tr>\n",
       "        <td style=\"padding-left: 1em; padding-right: 1em; text-align: center; vertical-align: top\">[4127958, 1984005,<br>516230, 2842633, 1247 ...</td>\n",
       "        <td style=\"padding-left: 1em; padding-right: 1em; text-align: center; vertical-align: top\">40</td>\n",
       "        <td style=\"padding-left: 1em; padding-right: 1em; text-align: center; vertical-align: top\">50</td>\n",
       "        <td style=\"padding-left: 1em; padding-right: 1em; text-align: center; vertical-align: top\">6</td>\n",
       "        <td style=\"padding-left: 1em; padding-right: 1em; text-align: center; vertical-align: top\">14</td>\n",
       "        <td style=\"padding-left: 1em; padding-right: 1em; text-align: center; vertical-align: top\">27</td>\n",
       "    </tr>\n",
       "    <tr>\n",
       "        <td style=\"padding-left: 1em; padding-right: 1em; text-align: center; vertical-align: top\">[3642884, 875535,<br>2284049, 3353876, 960 ...</td>\n",
       "        <td style=\"padding-left: 1em; padding-right: 1em; text-align: center; vertical-align: top\">24</td>\n",
       "        <td style=\"padding-left: 1em; padding-right: 1em; text-align: center; vertical-align: top\">78</td>\n",
       "        <td style=\"padding-left: 1em; padding-right: 1em; text-align: center; vertical-align: top\">5</td>\n",
       "        <td style=\"padding-left: 1em; padding-right: 1em; text-align: center; vertical-align: top\">38</td>\n",
       "        <td style=\"padding-left: 1em; padding-right: 1em; text-align: center; vertical-align: top\">23</td>\n",
       "    </tr>\n",
       "    <tr>\n",
       "        <td style=\"padding-left: 1em; padding-right: 1em; text-align: center; vertical-align: top\">[]</td>\n",
       "        <td style=\"padding-left: 1em; padding-right: 1em; text-align: center; vertical-align: top\">0</td>\n",
       "        <td style=\"padding-left: 1em; padding-right: 1em; text-align: center; vertical-align: top\">0</td>\n",
       "        <td style=\"padding-left: 1em; padding-right: 1em; text-align: center; vertical-align: top\">0</td>\n",
       "        <td style=\"padding-left: 1em; padding-right: 1em; text-align: center; vertical-align: top\">0</td>\n",
       "        <td style=\"padding-left: 1em; padding-right: 1em; text-align: center; vertical-align: top\">0</td>\n",
       "    </tr>\n",
       "    <tr>\n",
       "        <td style=\"padding-left: 1em; padding-right: 1em; text-align: center; vertical-align: top\">[]</td>\n",
       "        <td style=\"padding-left: 1em; padding-right: 1em; text-align: center; vertical-align: top\">0</td>\n",
       "        <td style=\"padding-left: 1em; padding-right: 1em; text-align: center; vertical-align: top\">1</td>\n",
       "        <td style=\"padding-left: 1em; padding-right: 1em; text-align: center; vertical-align: top\">0</td>\n",
       "        <td style=\"padding-left: 1em; padding-right: 1em; text-align: center; vertical-align: top\">0</td>\n",
       "        <td style=\"padding-left: 1em; padding-right: 1em; text-align: center; vertical-align: top\">0</td>\n",
       "    </tr>\n",
       "    <tr>\n",
       "        <td style=\"padding-left: 1em; padding-right: 1em; text-align: center; vertical-align: top\">[]</td>\n",
       "        <td style=\"padding-left: 1em; padding-right: 1em; text-align: center; vertical-align: top\">0</td>\n",
       "        <td style=\"padding-left: 1em; padding-right: 1em; text-align: center; vertical-align: top\">0</td>\n",
       "        <td style=\"padding-left: 1em; padding-right: 1em; text-align: center; vertical-align: top\">0</td>\n",
       "        <td style=\"padding-left: 1em; padding-right: 1em; text-align: center; vertical-align: top\">0</td>\n",
       "        <td style=\"padding-left: 1em; padding-right: 1em; text-align: center; vertical-align: top\">0</td>\n",
       "    </tr>\n",
       "    <tr>\n",
       "        <td style=\"padding-left: 1em; padding-right: 1em; text-align: center; vertical-align: top\">[]</td>\n",
       "        <td style=\"padding-left: 1em; padding-right: 1em; text-align: center; vertical-align: top\">0</td>\n",
       "        <td style=\"padding-left: 1em; padding-right: 1em; text-align: center; vertical-align: top\">3</td>\n",
       "        <td style=\"padding-left: 1em; padding-right: 1em; text-align: center; vertical-align: top\">0</td>\n",
       "        <td style=\"padding-left: 1em; padding-right: 1em; text-align: center; vertical-align: top\">2</td>\n",
       "        <td style=\"padding-left: 1em; padding-right: 1em; text-align: center; vertical-align: top\">0</td>\n",
       "    </tr>\n",
       "    <tr>\n",
       "        <td style=\"padding-left: 1em; padding-right: 1em; text-align: center; vertical-align: top\">[146049, 651778, 1984005,<br>946951, 3174668, 1349 ...</td>\n",
       "        <td style=\"padding-left: 1em; padding-right: 1em; text-align: center; vertical-align: top\">57</td>\n",
       "        <td style=\"padding-left: 1em; padding-right: 1em; text-align: center; vertical-align: top\">124</td>\n",
       "        <td style=\"padding-left: 1em; padding-right: 1em; text-align: center; vertical-align: top\">13</td>\n",
       "        <td style=\"padding-left: 1em; padding-right: 1em; text-align: center; vertical-align: top\">45</td>\n",
       "        <td style=\"padding-left: 1em; padding-right: 1em; text-align: center; vertical-align: top\">67</td>\n",
       "    </tr>\n",
       "    <tr>\n",
       "        <td style=\"padding-left: 1em; padding-right: 1em; text-align: center; vertical-align: top\">[]</td>\n",
       "        <td style=\"padding-left: 1em; padding-right: 1em; text-align: center; vertical-align: top\">0</td>\n",
       "        <td style=\"padding-left: 1em; padding-right: 1em; text-align: center; vertical-align: top\">13</td>\n",
       "        <td style=\"padding-left: 1em; padding-right: 1em; text-align: center; vertical-align: top\">0</td>\n",
       "        <td style=\"padding-left: 1em; padding-right: 1em; text-align: center; vertical-align: top\">10</td>\n",
       "        <td style=\"padding-left: 1em; padding-right: 1em; text-align: center; vertical-align: top\">2</td>\n",
       "    </tr>\n",
       "</table>\n",
       "<table frame=\"box\" rules=\"cols\">\n",
       "    <tr>\n",
       "        <th style=\"padding-left: 1em; padding-right: 1em; text-align: center\">total_friends</th>\n",
       "        <th style=\"padding-left: 1em; padding-right: 1em; text-align: center\">total_bi_friends</th>\n",
       "        <th style=\"padding-left: 1em; padding-right: 1em; text-align: center\">total_in_friends</th>\n",
       "        <th style=\"padding-left: 1em; padding-right: 1em; text-align: center\">total_out_friends</th>\n",
       "        <th style=\"padding-left: 1em; padding-right: 1em; text-align: center\">jacc_coef</th>\n",
       "        <th style=\"padding-left: 1em; padding-right: 1em; text-align: center\">bi_jacc_coef</th>\n",
       "    </tr>\n",
       "    <tr>\n",
       "        <td style=\"padding-left: 1em; padding-right: 1em; text-align: center; vertical-align: top\">510</td>\n",
       "        <td style=\"padding-left: 1em; padding-right: 1em; text-align: center; vertical-align: top\">39</td>\n",
       "        <td style=\"padding-left: 1em; padding-right: 1em; text-align: center; vertical-align: top\">172</td>\n",
       "        <td style=\"padding-left: 1em; padding-right: 1em; text-align: center; vertical-align: top\">378</td>\n",
       "        <td style=\"padding-left: 1em; padding-right: 1em; text-align: center; vertical-align: top\">0.00196078431373</td>\n",
       "        <td style=\"padding-left: 1em; padding-right: 1em; text-align: center; vertical-align: top\">0.0</td>\n",
       "    </tr>\n",
       "    <tr>\n",
       "        <td style=\"padding-left: 1em; padding-right: 1em; text-align: center; vertical-align: top\">218</td>\n",
       "        <td style=\"padding-left: 1em; padding-right: 1em; text-align: center; vertical-align: top\">13</td>\n",
       "        <td style=\"padding-left: 1em; padding-right: 1em; text-align: center; vertical-align: top\">58</td>\n",
       "        <td style=\"padding-left: 1em; padding-right: 1em; text-align: center; vertical-align: top\">174</td>\n",
       "        <td style=\"padding-left: 1em; padding-right: 1em; text-align: center; vertical-align: top\">0.0045871559633</td>\n",
       "        <td style=\"padding-left: 1em; padding-right: 1em; text-align: center; vertical-align: top\">0.0</td>\n",
       "    </tr>\n",
       "    <tr>\n",
       "        <td style=\"padding-left: 1em; padding-right: 1em; text-align: center; vertical-align: top\">535</td>\n",
       "        <td style=\"padding-left: 1em; padding-right: 1em; text-align: center; vertical-align: top\">43</td>\n",
       "        <td style=\"padding-left: 1em; padding-right: 1em; text-align: center; vertical-align: top\">222</td>\n",
       "        <td style=\"padding-left: 1em; padding-right: 1em; text-align: center; vertical-align: top\">371</td>\n",
       "        <td style=\"padding-left: 1em; padding-right: 1em; text-align: center; vertical-align: top\">0.0934579439252</td>\n",
       "        <td style=\"padding-left: 1em; padding-right: 1em; text-align: center; vertical-align: top\">0.139534883721</td>\n",
       "    </tr>\n",
       "    <tr>\n",
       "        <td style=\"padding-left: 1em; padding-right: 1em; text-align: center; vertical-align: top\">710</td>\n",
       "        <td style=\"padding-left: 1em; padding-right: 1em; text-align: center; vertical-align: top\">58</td>\n",
       "        <td style=\"padding-left: 1em; padding-right: 1em; text-align: center; vertical-align: top\">306</td>\n",
       "        <td style=\"padding-left: 1em; padding-right: 1em; text-align: center; vertical-align: top\">484</td>\n",
       "        <td style=\"padding-left: 1em; padding-right: 1em; text-align: center; vertical-align: top\">0.10985915493</td>\n",
       "        <td style=\"padding-left: 1em; padding-right: 1em; text-align: center; vertical-align: top\">0.0862068965517</td>\n",
       "    </tr>\n",
       "    <tr>\n",
       "        <td style=\"padding-left: 1em; padding-right: 1em; text-align: center; vertical-align: top\">370</td>\n",
       "        <td style=\"padding-left: 1em; padding-right: 1em; text-align: center; vertical-align: top\">12</td>\n",
       "        <td style=\"padding-left: 1em; padding-right: 1em; text-align: center; vertical-align: top\">96</td>\n",
       "        <td style=\"padding-left: 1em; padding-right: 1em; text-align: center; vertical-align: top\">286</td>\n",
       "        <td style=\"padding-left: 1em; padding-right: 1em; text-align: center; vertical-align: top\">0.0</td>\n",
       "        <td style=\"padding-left: 1em; padding-right: 1em; text-align: center; vertical-align: top\">0.0</td>\n",
       "    </tr>\n",
       "    <tr>\n",
       "        <td style=\"padding-left: 1em; padding-right: 1em; text-align: center; vertical-align: top\">497</td>\n",
       "        <td style=\"padding-left: 1em; padding-right: 1em; text-align: center; vertical-align: top\">23</td>\n",
       "        <td style=\"padding-left: 1em; padding-right: 1em; text-align: center; vertical-align: top\">145</td>\n",
       "        <td style=\"padding-left: 1em; padding-right: 1em; text-align: center; vertical-align: top\">376</td>\n",
       "        <td style=\"padding-left: 1em; padding-right: 1em; text-align: center; vertical-align: top\">0.00201207243461</td>\n",
       "        <td style=\"padding-left: 1em; padding-right: 1em; text-align: center; vertical-align: top\">0.0</td>\n",
       "    </tr>\n",
       "    <tr>\n",
       "        <td style=\"padding-left: 1em; padding-right: 1em; text-align: center; vertical-align: top\">519</td>\n",
       "        <td style=\"padding-left: 1em; padding-right: 1em; text-align: center; vertical-align: top\">41</td>\n",
       "        <td style=\"padding-left: 1em; padding-right: 1em; text-align: center; vertical-align: top\">195</td>\n",
       "        <td style=\"padding-left: 1em; padding-right: 1em; text-align: center; vertical-align: top\">365</td>\n",
       "        <td style=\"padding-left: 1em; padding-right: 1em; text-align: center; vertical-align: top\">0.0</td>\n",
       "        <td style=\"padding-left: 1em; padding-right: 1em; text-align: center; vertical-align: top\">0.0</td>\n",
       "    </tr>\n",
       "    <tr>\n",
       "        <td style=\"padding-left: 1em; padding-right: 1em; text-align: center; vertical-align: top\">458</td>\n",
       "        <td style=\"padding-left: 1em; padding-right: 1em; text-align: center; vertical-align: top\">36</td>\n",
       "        <td style=\"padding-left: 1em; padding-right: 1em; text-align: center; vertical-align: top\">141</td>\n",
       "        <td style=\"padding-left: 1em; padding-right: 1em; text-align: center; vertical-align: top\">354</td>\n",
       "        <td style=\"padding-left: 1em; padding-right: 1em; text-align: center; vertical-align: top\">0.00655021834061</td>\n",
       "        <td style=\"padding-left: 1em; padding-right: 1em; text-align: center; vertical-align: top\">0.0</td>\n",
       "    </tr>\n",
       "    <tr>\n",
       "        <td style=\"padding-left: 1em; padding-right: 1em; text-align: center; vertical-align: top\">814</td>\n",
       "        <td style=\"padding-left: 1em; padding-right: 1em; text-align: center; vertical-align: top\">94</td>\n",
       "        <td style=\"padding-left: 1em; padding-right: 1em; text-align: center; vertical-align: top\">331</td>\n",
       "        <td style=\"padding-left: 1em; padding-right: 1em; text-align: center; vertical-align: top\">602</td>\n",
       "        <td style=\"padding-left: 1em; padding-right: 1em; text-align: center; vertical-align: top\">0.152334152334</td>\n",
       "        <td style=\"padding-left: 1em; padding-right: 1em; text-align: center; vertical-align: top\">0.13829787234</td>\n",
       "    </tr>\n",
       "    <tr>\n",
       "        <td style=\"padding-left: 1em; padding-right: 1em; text-align: center; vertical-align: top\">535</td>\n",
       "        <td style=\"padding-left: 1em; padding-right: 1em; text-align: center; vertical-align: top\">39</td>\n",
       "        <td style=\"padding-left: 1em; padding-right: 1em; text-align: center; vertical-align: top\">183</td>\n",
       "        <td style=\"padding-left: 1em; padding-right: 1em; text-align: center; vertical-align: top\">392</td>\n",
       "        <td style=\"padding-left: 1em; padding-right: 1em; text-align: center; vertical-align: top\">0.0242990654206</td>\n",
       "        <td style=\"padding-left: 1em; padding-right: 1em; text-align: center; vertical-align: top\">0.0</td>\n",
       "    </tr>\n",
       "</table>\n",
       "<table frame=\"box\" rules=\"cols\">\n",
       "    <tr>\n",
       "        <th style=\"padding-left: 1em; padding-right: 1em; text-align: center\">in_jacc_coef</th>\n",
       "        <th style=\"padding-left: 1em; padding-right: 1em; text-align: center\">out_jacc_coef</th>\n",
       "    </tr>\n",
       "    <tr>\n",
       "        <td style=\"padding-left: 1em; padding-right: 1em; text-align: center; vertical-align: top\">0.0</td>\n",
       "        <td style=\"padding-left: 1em; padding-right: 1em; text-align: center; vertical-align: top\">0.0</td>\n",
       "    </tr>\n",
       "    <tr>\n",
       "        <td style=\"padding-left: 1em; padding-right: 1em; text-align: center; vertical-align: top\">0.0</td>\n",
       "        <td style=\"padding-left: 1em; padding-right: 1em; text-align: center; vertical-align: top\">0.0</td>\n",
       "    </tr>\n",
       "    <tr>\n",
       "        <td style=\"padding-left: 1em; padding-right: 1em; text-align: center; vertical-align: top\">0.0630630630631</td>\n",
       "        <td style=\"padding-left: 1em; padding-right: 1em; text-align: center; vertical-align: top\">0.0727762803235</td>\n",
       "    </tr>\n",
       "    <tr>\n",
       "        <td style=\"padding-left: 1em; padding-right: 1em; text-align: center; vertical-align: top\">0.124183006536</td>\n",
       "        <td style=\"padding-left: 1em; padding-right: 1em; text-align: center; vertical-align: top\">0.047520661157</td>\n",
       "    </tr>\n",
       "    <tr>\n",
       "        <td style=\"padding-left: 1em; padding-right: 1em; text-align: center; vertical-align: top\">0.0</td>\n",
       "        <td style=\"padding-left: 1em; padding-right: 1em; text-align: center; vertical-align: top\">0.0</td>\n",
       "    </tr>\n",
       "    <tr>\n",
       "        <td style=\"padding-left: 1em; padding-right: 1em; text-align: center; vertical-align: top\">0.0</td>\n",
       "        <td style=\"padding-left: 1em; padding-right: 1em; text-align: center; vertical-align: top\">0.0</td>\n",
       "    </tr>\n",
       "    <tr>\n",
       "        <td style=\"padding-left: 1em; padding-right: 1em; text-align: center; vertical-align: top\">0.0</td>\n",
       "        <td style=\"padding-left: 1em; padding-right: 1em; text-align: center; vertical-align: top\">0.0</td>\n",
       "    </tr>\n",
       "    <tr>\n",
       "        <td style=\"padding-left: 1em; padding-right: 1em; text-align: center; vertical-align: top\">0.0141843971631</td>\n",
       "        <td style=\"padding-left: 1em; padding-right: 1em; text-align: center; vertical-align: top\">0.0</td>\n",
       "    </tr>\n",
       "    <tr>\n",
       "        <td style=\"padding-left: 1em; padding-right: 1em; text-align: center; vertical-align: top\">0.135951661631</td>\n",
       "        <td style=\"padding-left: 1em; padding-right: 1em; text-align: center; vertical-align: top\">0.111295681063</td>\n",
       "    </tr>\n",
       "    <tr>\n",
       "        <td style=\"padding-left: 1em; padding-right: 1em; text-align: center; vertical-align: top\">0.0546448087432</td>\n",
       "        <td style=\"padding-left: 1em; padding-right: 1em; text-align: center; vertical-align: top\">0.00510204081633</td>\n",
       "    </tr>\n",
       "</table>\n",
       "[10 rows x 31 columns]<br/>\n",
       "</div>"
      ],
      "text/plain": [
       "Columns:\n",
       "\tsrc\tint\n",
       "\tdst\tint\n",
       "\tclass\tint\n",
       "\tsrc_in_friends\tlist\n",
       "\tsrc_out_friends\tlist\n",
       "\tsrc_out_degree\tint\n",
       "\tsrc_in_degree\tint\n",
       "\tsrc_all_friends\tarray\n",
       "\tsrc_all_degree\tint\n",
       "\tsrc_bi_friends\tlist\n",
       "\tsrc_bi_degree\tint\n",
       "\tdst_in_friends\tlist\n",
       "\tdst_out_friends\tlist\n",
       "\tdst_out_degree\tint\n",
       "\tdst_in_degree\tint\n",
       "\tdst_all_friends\tarray\n",
       "\tdst_all_degree\tint\n",
       "\tdst_bi_friends\tlist\n",
       "\tdst_bi_degree\tint\n",
       "\tcommon_friends\tint\n",
       "\tcommon_bi_friends\tint\n",
       "\tcommon_in_friends\tint\n",
       "\tcommon_out_friends\tint\n",
       "\ttotal_friends\tint\n",
       "\ttotal_bi_friends\tint\n",
       "\ttotal_in_friends\tint\n",
       "\ttotal_out_friends\tint\n",
       "\tjacc_coef\tfloat\n",
       "\tbi_jacc_coef\tfloat\n",
       "\tin_jacc_coef\tfloat\n",
       "\tout_jacc_coef\tfloat\n",
       "\n",
       "Rows: 10\n",
       "\n",
       "Data:\n",
       "+---------+---------+-------+-------------------------------+\n",
       "|   src   |   dst   | class |         src_in_friends        |\n",
       "+---------+---------+-------+-------------------------------+\n",
       "| 1146906 | 4122183 |   1   | [3353876, 1916723, 4030043... |\n",
       "| 2448032 | 3401703 |   0   |           [3000657]           |\n",
       "| 2290639 |  996371 |   0   | [4488717, 3457327, 3806350... |\n",
       "| 1146906 | 4751012 |   1   | [3353876, 1916723, 4030043... |\n",
       "| 1324992 | 2533043 |   1   | [3609326, 2272405, 3143728... |\n",
       "|  651778 | 1363531 |   1   | [4603631, 3539009, 3314478... |\n",
       "| 4217935 | 4307379 |   1   | [3961108, 3402168, 1719385... |\n",
       "| 1988622 |  326813 |   1   | [1702417, 991226, 3355142,... |\n",
       "| 2385853 | 2135370 |   0   | [977900, 2499714, 1122854,... |\n",
       "| 1146906 | 3844222 |   1   | [3353876, 1916723, 4030043... |\n",
       "+---------+---------+-------+-------------------------------+\n",
       "+-------------------------------+----------------+---------------+\n",
       "|        src_out_friends        | src_out_degree | src_in_degree |\n",
       "+-------------------------------+----------------+---------------+\n",
       "| [4122183, 4751012, 3844222... |      601       |      211      |\n",
       "|           [3401703]           |       1        |       1       |\n",
       "| [996371, 302860, 1799182, ... |      108       |       62      |\n",
       "| [4122183, 4751012, 3844222... |      601       |      211      |\n",
       "| [2533043, 2502555, 2719963... |      290       |      105      |\n",
       "| [1363531, 1438067, 1178165... |      396       |      153      |\n",
       "| [4307379, 1602251, 2435840... |      584       |      227      |\n",
       "| [326813, 163021, 3678455, ... |      371       |      147      |\n",
       "| [2135370, 4200163, 2940560... |      393       |      220      |\n",
       "| [4122183, 4751012, 3844222... |      601       |      211      |\n",
       "+-------------------------------+----------------+---------------+\n",
       "+-------------------------------+----------------+\n",
       "|        src_all_friends        | src_all_degree |\n",
       "+-------------------------------+----------------+\n",
       "| [4245515.0, 1988622.0, 258... |      511       |\n",
       "|     [3000657.0, 3401703.0]    |       2        |\n",
       "| [1643008.0, 2122753.0, 412... |      146       |\n",
       "| [4245515.0, 1988622.0, 258... |      511       |\n",
       "| [4281344.0, 4122625.0, 311... |      370       |\n",
       "| [2873352.0, 2842633.0, 198... |      495       |\n",
       "| [679944.0, 1576970.0, 1988... |      518       |\n",
       "| [771156.0, 2122753.0, 8888... |      454       |\n",
       "| [991233.0, 388101.0, 55296... |      381       |\n",
       "| [4245515.0, 1988622.0, 258... |      511       |\n",
       "+-------------------------------+----------------+\n",
       "+-------------------------------+---------------+-------------------------------+\n",
       "|         src_bi_friends        | src_bi_degree |         dst_in_friends        |\n",
       "+-------------------------------+---------------+-------------------------------+\n",
       "| [2361218, 2651652, 1984005... |       39      |       [1146906, 1146906]      |\n",
       "|               []              |       0       | [2448032, 428997, 158823, ... |\n",
       "| [1984005, 3105725, 163021,... |       9       | [2290639, 2385853, 2874061... |\n",
       "| [2361218, 2651652, 1984005... |       39      | [1146906, 4187899, 3408792... |\n",
       "| [2142339, 1984005, 1364265... |       12      |       [1324992, 1155919]      |\n",
       "| [651778, 1984005, 946951, ... |       23      |   [651778, 2082970, 2593244]  |\n",
       "| [3567109, 2471048, 3550092... |       41      | [4217935, 2059153, 2010492... |\n",
       "| [2361218, 1085187, 1031894... |       36      | [1988622, 3355051, 2284049... |\n",
       "| [3642884, 1984005, 946951,... |       52      | [2385853, 2027656, 3539009... |\n",
       "| [2361218, 2651652, 1984005... |       39      | [1146906, 3038165, 4831688... |\n",
       "+-------------------------------+---------------+-------------------------------+\n",
       "+-------------------------------+----------------+---------------+\n",
       "|        dst_out_friends        | dst_out_degree | dst_in_degree |\n",
       "+-------------------------------+----------------+---------------+\n",
       "|           [1364265]           |       1        |       2       |\n",
       "| [2521305, 3450363, 2984819... |      181       |       61      |\n",
       "| [2976351, 3338630, 1096920... |      462       |      231      |\n",
       "| [4747912, 524494, 4315961,... |      214       |      211      |\n",
       "|               []              |       0        |       2       |\n",
       "|       [800703, 3680154]       |       2        |       3       |\n",
       "|               []              |       0        |       4       |\n",
       "|           [4603631]           |       1        |       8       |\n",
       "| [3670317, 4668578, 1179149... |      644       |      262      |\n",
       "| [2517958, 3352846, 932451,... |       17       |       31      |\n",
       "+-------------------------------+----------------+---------------+\n",
       "+-------------------------------+----------------+\n",
       "|        dst_all_friends        | dst_all_degree |\n",
       "+-------------------------------+----------------+\n",
       "|     [1364265.0, 1146906.0]    |       2        |\n",
       "| [3182243.0, 2556418.0, 945... |      219       |\n",
       "| [2644993.0, 1106949.0, 212... |      441       |\n",
       "| [4281344.0, 1136130.0, 265... |      279       |\n",
       "|     [1324992.0, 1155919.0]    |       2        |\n",
       "| [651778.0, 2593244.0, 2082... |       5        |\n",
       "| [2059153.0, 2010492.0, 421... |       3        |\n",
       "| [3355051.0, 740005.0, 2644... |       9        |\n",
       "| [2043905.0, 2494466.0, 907... |      559       |\n",
       "| [3352846.0, 3539009.0, 180... |       39       |\n",
       "+-------------------------------+----------------+\n",
       "+-------------------------------+---------------+----------------+-----+\n",
       "|         dst_bi_friends        | dst_bi_degree | common_friends | ... |\n",
       "+-------------------------------+---------------+----------------+-----+\n",
       "|               []              |       0       |       1        | ... |\n",
       "| [932451, 2536299, 428997, ... |       13      |       1        | ... |\n",
       "| [4127958, 1984005, 516230,... |       40      |       50       | ... |\n",
       "| [3642884, 875535, 2284049,... |       24      |       78       | ... |\n",
       "|               []              |       0       |       0        | ... |\n",
       "|               []              |       0       |       1        | ... |\n",
       "|               []              |       0       |       0        | ... |\n",
       "|               []              |       0       |       3        | ... |\n",
       "| [146049, 651778, 1984005, ... |       57      |      124       | ... |\n",
       "|               []              |       0       |       13       | ... |\n",
       "+-------------------------------+---------------+----------------+-----+\n",
       "[10 rows x 31 columns]"
      ]
     },
     "execution_count": 14,
     "metadata": {},
     "output_type": "execute_result"
    }
   ],
   "source": [
    "sf_links['common_friends'] = sf_links[['src','dst', 'src_all_friends', 'dst_all_friends']].apply(lambda r: common_friends(r['src'], r['dst'],r['src_all_friends'], r['dst_all_friends']))\n",
    "sf_links['common_bi_friends'] = sf_links[['src','dst', 'src_bi_friends', 'dst_bi_friends']].apply(lambda r: common_friends(r['src'], r['dst'],r['src_bi_friends'], r['dst_bi_friends']))\n",
    "sf_links['common_in_friends'] = sf_links[['src','dst', 'src_in_friends', 'dst_in_friends']].apply(lambda r: common_friends(r['src'], r['dst'],r['src_in_friends'], r['dst_in_friends']))\n",
    "sf_links['common_out_friends'] = sf_links[['src','dst', 'src_out_friends', 'dst_out_friends']].apply(lambda r: common_friends(r['src'], r['dst'],r['src_out_friends'], r['dst_out_friends']))\n",
    "\n",
    "sf_links['total_friends'] = sf_links[['src','dst', 'src_all_friends', 'dst_all_friends']].apply(lambda r: total_friends(r['src'], r['dst'],r['src_all_friends'], r['dst_all_friends']))\n",
    "sf_links['total_bi_friends'] = sf_links[['src','dst', 'src_bi_friends', 'dst_bi_friends']].apply(lambda r: total_friends(r['src'], r['dst'],r['src_bi_friends'], r['dst_bi_friends']))\n",
    "sf_links['total_in_friends'] = sf_links[['src','dst', 'src_in_friends', 'dst_in_friends']].apply(lambda r: total_friends(r['src'], r['dst'],r['src_in_friends'], r['dst_in_friends']))\n",
    "sf_links['total_out_friends'] = sf_links[['src','dst', 'src_out_friends', 'dst_out_friends']].apply(lambda r: total_friends(r['src'], r['dst'],r['src_out_friends'], r['dst_out_friends']))\n",
    "\n",
    "\n",
    "sf_links['jacc_coef'] = sf_links[['src','dst', 'src_all_friends', 'dst_all_friends']].apply(lambda r: jacc_coef(r['src'], r['dst'],r['src_all_friends'], r['dst_all_friends']))\n",
    "sf_links['bi_jacc_coef'] = sf_links[['src','dst', 'src_bi_friends', 'dst_bi_friends']].apply(lambda r: jacc_coef(r['src'], r['dst'],r['src_bi_friends'], r['dst_bi_friends']))\n",
    "sf_links['in_jacc_coef'] = sf_links[['src','dst', 'src_in_friends', 'dst_in_friends']].apply(lambda r: jacc_coef(r['src'], r['dst'],r['src_in_friends'], r['dst_in_friends']))\n",
    "sf_links['out_jacc_coef'] = sf_links[['src','dst', 'src_out_friends', 'dst_out_friends']].apply(lambda r: jacc_coef(r['src'], r['dst'],r['src_out_friends'], r['dst_out_friends']))\n",
    "sf_links.head(10)\n"
   ]
  },
  {
   "cell_type": "code",
   "execution_count": 15,
   "metadata": {
    "collapsed": false
   },
   "outputs": [
    {
     "data": {
      "text/html": [
       "<div style=\"max-height:1000px;max-width:1500px;overflow:auto;\"><table frame=\"box\" rules=\"cols\">\n",
       "    <tr>\n",
       "        <th style=\"padding-left: 1em; padding-right: 1em; text-align: center\">Id</th>\n",
       "        <th style=\"padding-left: 1em; padding-right: 1em; text-align: center\">Source</th>\n",
       "        <th style=\"padding-left: 1em; padding-right: 1em; text-align: center\">Sink</th>\n",
       "        <th style=\"padding-left: 1em; padding-right: 1em; text-align: center\">src_in_friends</th>\n",
       "        <th style=\"padding-left: 1em; padding-right: 1em; text-align: center\">src_out_friends</th>\n",
       "        <th style=\"padding-left: 1em; padding-right: 1em; text-align: center\">src_out_degree</th>\n",
       "        <th style=\"padding-left: 1em; padding-right: 1em; text-align: center\">src_in_degree</th>\n",
       "    </tr>\n",
       "    <tr>\n",
       "        <td style=\"padding-left: 1em; padding-right: 1em; text-align: center; vertical-align: top\">2</td>\n",
       "        <td style=\"padding-left: 1em; padding-right: 1em; text-align: center; vertical-align: top\">3151356</td>\n",
       "        <td style=\"padding-left: 1em; padding-right: 1em; text-align: center; vertical-align: top\">1452193</td>\n",
       "        <td style=\"padding-left: 1em; padding-right: 1em; text-align: center; vertical-align: top\">[2120801.0, 1357350.0,<br>4088506.0, 1759823.0, ...</td>\n",
       "        <td style=\"padding-left: 1em; padding-right: 1em; text-align: center; vertical-align: top\">[4052824.0, 3317934.0,<br>1848747.0, 2482853.0, ...</td>\n",
       "        <td style=\"padding-left: 1em; padding-right: 1em; text-align: center; vertical-align: top\">340</td>\n",
       "        <td style=\"padding-left: 1em; padding-right: 1em; text-align: center; vertical-align: top\">39</td>\n",
       "    </tr>\n",
       "    <tr>\n",
       "        <td style=\"padding-left: 1em; padding-right: 1em; text-align: center; vertical-align: top\">6</td>\n",
       "        <td style=\"padding-left: 1em; padding-right: 1em; text-align: center; vertical-align: top\">228206</td>\n",
       "        <td style=\"padding-left: 1em; padding-right: 1em; text-align: center; vertical-align: top\">212805</td>\n",
       "        <td style=\"padding-left: 1em; padding-right: 1em; text-align: center; vertical-align: top\">[1869658.0, 4738810.0,<br>76360.0, 986629.0, ...</td>\n",
       "        <td style=\"padding-left: 1em; padding-right: 1em; text-align: center; vertical-align: top\">[76360.0, 1869658.0,<br>4738810.0, 2308522.0, ...</td>\n",
       "        <td style=\"padding-left: 1em; padding-right: 1em; text-align: center; vertical-align: top\">9</td>\n",
       "        <td style=\"padding-left: 1em; padding-right: 1em; text-align: center; vertical-align: top\">14</td>\n",
       "    </tr>\n",
       "    <tr>\n",
       "        <td style=\"padding-left: 1em; padding-right: 1em; text-align: center; vertical-align: top\">5</td>\n",
       "        <td style=\"padding-left: 1em; padding-right: 1em; text-align: center; vertical-align: top\">2389638</td>\n",
       "        <td style=\"padding-left: 1em; padding-right: 1em; text-align: center; vertical-align: top\">593017</td>\n",
       "        <td style=\"padding-left: 1em; padding-right: 1em; text-align: center; vertical-align: top\">[2880517.0, 3553485.0,<br>2120801.0, 4003368.0, ...</td>\n",
       "        <td style=\"padding-left: 1em; padding-right: 1em; text-align: center; vertical-align: top\">[201039.0, 2402120.0,<br>2819498.0, 4553431.0, ...</td>\n",
       "        <td style=\"padding-left: 1em; padding-right: 1em; text-align: center; vertical-align: top\">267</td>\n",
       "        <td style=\"padding-left: 1em; padding-right: 1em; text-align: center; vertical-align: top\">30</td>\n",
       "    </tr>\n",
       "    <tr>\n",
       "        <td style=\"padding-left: 1em; padding-right: 1em; text-align: center; vertical-align: top\">1</td>\n",
       "        <td style=\"padding-left: 1em; padding-right: 1em; text-align: center; vertical-align: top\">2184483</td>\n",
       "        <td style=\"padding-left: 1em; padding-right: 1em; text-align: center; vertical-align: top\">1300190</td>\n",
       "        <td style=\"padding-left: 1em; padding-right: 1em; text-align: center; vertical-align: top\">[3770256.0, 2173130.0,<br>4653515.0, 1729215.0, ...</td>\n",
       "        <td style=\"padding-left: 1em; padding-right: 1em; text-align: center; vertical-align: top\">[3209755.0, 1687276.0,<br>4325955.0, 3057131.0, ...</td>\n",
       "        <td style=\"padding-left: 1em; padding-right: 1em; text-align: center; vertical-align: top\">83</td>\n",
       "        <td style=\"padding-left: 1em; padding-right: 1em; text-align: center; vertical-align: top\">102</td>\n",
       "    </tr>\n",
       "    <tr>\n",
       "        <td style=\"padding-left: 1em; padding-right: 1em; text-align: center; vertical-align: top\">3</td>\n",
       "        <td style=\"padding-left: 1em; padding-right: 1em; text-align: center; vertical-align: top\">1579396</td>\n",
       "        <td style=\"padding-left: 1em; padding-right: 1em; text-align: center; vertical-align: top\">193159</td>\n",
       "        <td style=\"padding-left: 1em; padding-right: 1em; text-align: center; vertical-align: top\">[2984603.0, 2120801.0,<br>2740141.0, 2299588.0, ...</td>\n",
       "        <td style=\"padding-left: 1em; padding-right: 1em; text-align: center; vertical-align: top\">[1519588.0, 916145.0,<br>4352024.0, 1738690.0, ...</td>\n",
       "        <td style=\"padding-left: 1em; padding-right: 1em; text-align: center; vertical-align: top\">208</td>\n",
       "        <td style=\"padding-left: 1em; padding-right: 1em; text-align: center; vertical-align: top\">14</td>\n",
       "    </tr>\n",
       "    <tr>\n",
       "        <td style=\"padding-left: 1em; padding-right: 1em; text-align: center; vertical-align: top\">7</td>\n",
       "        <td style=\"padding-left: 1em; padding-right: 1em; text-align: center; vertical-align: top\">1237964</td>\n",
       "        <td style=\"padding-left: 1em; padding-right: 1em; text-align: center; vertical-align: top\">879115</td>\n",
       "        <td style=\"padding-left: 1em; padding-right: 1em; text-align: center; vertical-align: top\">[448823.0, 4157152.0,<br>3317847.0, 1601895.0] ...</td>\n",
       "        <td style=\"padding-left: 1em; padding-right: 1em; text-align: center; vertical-align: top\">[2332893.0, 448823.0,<br>1139433.0, 1413055.0, ...</td>\n",
       "        <td style=\"padding-left: 1em; padding-right: 1em; text-align: center; vertical-align: top\">15</td>\n",
       "        <td style=\"padding-left: 1em; padding-right: 1em; text-align: center; vertical-align: top\">4</td>\n",
       "    </tr>\n",
       "    <tr>\n",
       "        <td style=\"padding-left: 1em; padding-right: 1em; text-align: center; vertical-align: top\">4</td>\n",
       "        <td style=\"padding-left: 1em; padding-right: 1em; text-align: center; vertical-align: top\">1406432</td>\n",
       "        <td style=\"padding-left: 1em; padding-right: 1em; text-align: center; vertical-align: top\">2481036</td>\n",
       "        <td style=\"padding-left: 1em; padding-right: 1em; text-align: center; vertical-align: top\">[1687276.0, 972843.0,<br>2956481.0, 3504137.0, ...</td>\n",
       "        <td style=\"padding-left: 1em; padding-right: 1em; text-align: center; vertical-align: top\">[4088654.0, 1351603.0,<br>2002799.0, 739382.0, ...</td>\n",
       "        <td style=\"padding-left: 1em; padding-right: 1em; text-align: center; vertical-align: top\">84</td>\n",
       "        <td style=\"padding-left: 1em; padding-right: 1em; text-align: center; vertical-align: top\">16</td>\n",
       "    </tr>\n",
       "</table>\n",
       "<table frame=\"box\" rules=\"cols\">\n",
       "    <tr>\n",
       "        <th style=\"padding-left: 1em; padding-right: 1em; text-align: center\">src_all_friends</th>\n",
       "        <th style=\"padding-left: 1em; padding-right: 1em; text-align: center\">src_all_degree</th>\n",
       "        <th style=\"padding-left: 1em; padding-right: 1em; text-align: center\">src_bi_friends</th>\n",
       "        <th style=\"padding-left: 1em; padding-right: 1em; text-align: center\">src_bi_degree</th>\n",
       "        <th style=\"padding-left: 1em; padding-right: 1em; text-align: center\">dst_in_friends</th>\n",
       "    </tr>\n",
       "    <tr>\n",
       "        <td style=\"padding-left: 1em; padding-right: 1em; text-align: center; vertical-align: top\">[2966358.0, 2587654.0,<br>2270215.0, 957452.0, ...</td>\n",
       "        <td style=\"padding-left: 1em; padding-right: 1em; text-align: center; vertical-align: top\">354</td>\n",
       "        <td style=\"padding-left: 1em; padding-right: 1em; text-align: center; vertical-align: top\">[4384662.0, 1357350.0,<br>3515761.0, 3225386.0, ...</td>\n",
       "        <td style=\"padding-left: 1em; padding-right: 1em; text-align: center; vertical-align: top\">25</td>\n",
       "        <td style=\"padding-left: 1em; padding-right: 1em; text-align: center; vertical-align: top\">[2501645.0, 3660919.0,<br>884795.0, 4558216.0, ...</td>\n",
       "    </tr>\n",
       "    <tr>\n",
       "        <td style=\"padding-left: 1em; padding-right: 1em; text-align: center; vertical-align: top\">[110976.0, 2298370.0,<br>212805.0, 4003975.0, ...</td>\n",
       "        <td style=\"padding-left: 1em; padding-right: 1em; text-align: center; vertical-align: top\">16</td>\n",
       "        <td style=\"padding-left: 1em; padding-right: 1em; text-align: center; vertical-align: top\">[4003975.0, 76360.0,<br>3103881.0, 1798770.0, ...</td>\n",
       "        <td style=\"padding-left: 1em; padding-right: 1em; text-align: center; vertical-align: top\">7</td>\n",
       "        <td style=\"padding-left: 1em; padding-right: 1em; text-align: center; vertical-align: top\">[68695.0, 884795.0,<br>2791702.0, 1328244.0, ...</td>\n",
       "    </tr>\n",
       "    <tr>\n",
       "        <td style=\"padding-left: 1em; padding-right: 1em; text-align: center; vertical-align: top\">[4332544.0, 4475906.0,<br>500739.0, 2880517.0, ...</td>\n",
       "        <td style=\"padding-left: 1em; padding-right: 1em; text-align: center; vertical-align: top\">284</td>\n",
       "        <td style=\"padding-left: 1em; padding-right: 1em; text-align: center; vertical-align: top\">[20388.0, 2989221.0,<br>2314215.0, 4003368.0, ...</td>\n",
       "        <td style=\"padding-left: 1em; padding-right: 1em; text-align: center; vertical-align: top\">13</td>\n",
       "        <td style=\"padding-left: 1em; padding-right: 1em; text-align: center; vertical-align: top\">[974241.0, 3694560.0,<br>1181282.0, 2032058.0, ...</td>\n",
       "    </tr>\n",
       "    <tr>\n",
       "        <td style=\"padding-left: 1em; padding-right: 1em; text-align: center; vertical-align: top\">[1340930.0, 2651652.0,<br>2146309.0, 1706508.0, ...</td>\n",
       "        <td style=\"padding-left: 1em; padding-right: 1em; text-align: center; vertical-align: top\">145</td>\n",
       "        <td style=\"padding-left: 1em; padding-right: 1em; text-align: center; vertical-align: top\">[1218944.0, 3123328.0,<br>2651652.0, 1687276.0, ...</td>\n",
       "        <td style=\"padding-left: 1em; padding-right: 1em; text-align: center; vertical-align: top\">40</td>\n",
       "        <td style=\"padding-left: 1em; padding-right: 1em; text-align: center; vertical-align: top\">[4651416.0, 3227840.0,<br>2659783.0] ...</td>\n",
       "    </tr>\n",
       "    <tr>\n",
       "        <td style=\"padding-left: 1em; padding-right: 1em; text-align: center; vertical-align: top\">[2556418.0, 3422215.0,<br>2025481.0, 4171275.0, ...</td>\n",
       "        <td style=\"padding-left: 1em; padding-right: 1em; text-align: center; vertical-align: top\">209</td>\n",
       "        <td style=\"padding-left: 1em; padding-right: 1em; text-align: center; vertical-align: top\">[2120801.0, 20388.0,<br>2025481.0, 2497739.0, ...</td>\n",
       "        <td style=\"padding-left: 1em; padding-right: 1em; text-align: center; vertical-align: top\">12</td>\n",
       "        <td style=\"padding-left: 1em; padding-right: 1em; text-align: center; vertical-align: top\">[3278181.0, 4518416.0]</td>\n",
       "    </tr>\n",
       "    <tr>\n",
       "        <td style=\"padding-left: 1em; padding-right: 1em; text-align: center; vertical-align: top\">[893888.0, 959493.0,<br>2754231.0, 4326349.0, ...</td>\n",
       "        <td style=\"padding-left: 1em; padding-right: 1em; text-align: center; vertical-align: top\">16</td>\n",
       "        <td style=\"padding-left: 1em; padding-right: 1em; text-align: center; vertical-align: top\">[448823.0, 1601895.0,<br>3317847.0] ...</td>\n",
       "        <td style=\"padding-left: 1em; padding-right: 1em; text-align: center; vertical-align: top\">3</td>\n",
       "        <td style=\"padding-left: 1em; padding-right: 1em; text-align: center; vertical-align: top\">[2424452.0, 1133307.0,<br>1755265.0, 2502797.0, ...</td>\n",
       "    </tr>\n",
       "    <tr>\n",
       "        <td style=\"padding-left: 1em; padding-right: 1em; text-align: center; vertical-align: top\">[2304782.0, 669843.0,<br>1984005.0, 4013831.0, ...</td>\n",
       "        <td style=\"padding-left: 1em; padding-right: 1em; text-align: center; vertical-align: top\">86</td>\n",
       "        <td style=\"padding-left: 1em; padding-right: 1em; text-align: center; vertical-align: top\">[2152768.0, 2956481.0,<br>972843.0, 4293286.0, ...</td>\n",
       "        <td style=\"padding-left: 1em; padding-right: 1em; text-align: center; vertical-align: top\">14</td>\n",
       "        <td style=\"padding-left: 1em; padding-right: 1em; text-align: center; vertical-align: top\">[700731.0, 317366.0,<br>2236776.0, 1096764.0, ...</td>\n",
       "    </tr>\n",
       "</table>\n",
       "<table frame=\"box\" rules=\"cols\">\n",
       "    <tr>\n",
       "        <th style=\"padding-left: 1em; padding-right: 1em; text-align: center\">dst_out_friends</th>\n",
       "        <th style=\"padding-left: 1em; padding-right: 1em; text-align: center\">dst_out_degree</th>\n",
       "        <th style=\"padding-left: 1em; padding-right: 1em; text-align: center\">dst_in_degree</th>\n",
       "        <th style=\"padding-left: 1em; padding-right: 1em; text-align: center\">dst_all_friends</th>\n",
       "        <th style=\"padding-left: 1em; padding-right: 1em; text-align: center\">dst_all_degree</th>\n",
       "    </tr>\n",
       "    <tr>\n",
       "        <td style=\"padding-left: 1em; padding-right: 1em; text-align: center; vertical-align: top\">[]</td>\n",
       "        <td style=\"padding-left: 1em; padding-right: 1em; text-align: center; vertical-align: top\">0</td>\n",
       "        <td style=\"padding-left: 1em; padding-right: 1em; text-align: center; vertical-align: top\">289</td>\n",
       "        <td style=\"padding-left: 1em; padding-right: 1em; text-align: center; vertical-align: top\">[3671045.0, 2501645.0,<br>905235.0, 4864020.0, ...</td>\n",
       "        <td style=\"padding-left: 1em; padding-right: 1em; text-align: center; vertical-align: top\">289</td>\n",
       "    </tr>\n",
       "    <tr>\n",
       "        <td style=\"padding-left: 1em; padding-right: 1em; text-align: center; vertical-align: top\">[620720.0, 2576942.0,<br>2728232.0, 1439892.0, ...</td>\n",
       "        <td style=\"padding-left: 1em; padding-right: 1em; text-align: center; vertical-align: top\">297</td>\n",
       "        <td style=\"padding-left: 1em; padding-right: 1em; text-align: center; vertical-align: top\">895</td>\n",
       "        <td style=\"padding-left: 1em; padding-right: 1em; text-align: center; vertical-align: top\">[3971074.0, 431384.0,<br>2209796.0, 4821000.0, ...</td>\n",
       "        <td style=\"padding-left: 1em; padding-right: 1em; text-align: center; vertical-align: top\">1037</td>\n",
       "    </tr>\n",
       "    <tr>\n",
       "        <td style=\"padding-left: 1em; padding-right: 1em; text-align: center; vertical-align: top\">[1328064.0, 595768.0,<br>2704984.0, 2877896.0, ...</td>\n",
       "        <td style=\"padding-left: 1em; padding-right: 1em; text-align: center; vertical-align: top\">58</td>\n",
       "        <td style=\"padding-left: 1em; padding-right: 1em; text-align: center; vertical-align: top\">165</td>\n",
       "        <td style=\"padding-left: 1em; padding-right: 1em; text-align: center; vertical-align: top\">[99328.0, 1395712.0,<br>541698.0, 4055513.0, ...</td>\n",
       "        <td style=\"padding-left: 1em; padding-right: 1em; text-align: center; vertical-align: top\">219</td>\n",
       "    </tr>\n",
       "    <tr>\n",
       "        <td style=\"padding-left: 1em; padding-right: 1em; text-align: center; vertical-align: top\">[]</td>\n",
       "        <td style=\"padding-left: 1em; padding-right: 1em; text-align: center; vertical-align: top\">0</td>\n",
       "        <td style=\"padding-left: 1em; padding-right: 1em; text-align: center; vertical-align: top\">3</td>\n",
       "        <td style=\"padding-left: 1em; padding-right: 1em; text-align: center; vertical-align: top\">[4651416.0, 3227840.0,<br>2659783.0] ...</td>\n",
       "        <td style=\"padding-left: 1em; padding-right: 1em; text-align: center; vertical-align: top\">3</td>\n",
       "    </tr>\n",
       "    <tr>\n",
       "        <td style=\"padding-left: 1em; padding-right: 1em; text-align: center; vertical-align: top\">[]</td>\n",
       "        <td style=\"padding-left: 1em; padding-right: 1em; text-align: center; vertical-align: top\">0</td>\n",
       "        <td style=\"padding-left: 1em; padding-right: 1em; text-align: center; vertical-align: top\">2</td>\n",
       "        <td style=\"padding-left: 1em; padding-right: 1em; text-align: center; vertical-align: top\">[4518416.0, 3278181.0]</td>\n",
       "        <td style=\"padding-left: 1em; padding-right: 1em; text-align: center; vertical-align: top\">2</td>\n",
       "    </tr>\n",
       "    <tr>\n",
       "        <td style=\"padding-left: 1em; padding-right: 1em; text-align: center; vertical-align: top\">[]</td>\n",
       "        <td style=\"padding-left: 1em; padding-right: 1em; text-align: center; vertical-align: top\">0</td>\n",
       "        <td style=\"padding-left: 1em; padding-right: 1em; text-align: center; vertical-align: top\">482</td>\n",
       "        <td style=\"padding-left: 1em; padding-right: 1em; text-align: center; vertical-align: top\">[4021250.0, 3097604.0,<br>323589.0, 1648646.0, ...</td>\n",
       "        <td style=\"padding-left: 1em; padding-right: 1em; text-align: center; vertical-align: top\">482</td>\n",
       "    </tr>\n",
       "    <tr>\n",
       "        <td style=\"padding-left: 1em; padding-right: 1em; text-align: center; vertical-align: top\">[3086178.0, 2385853.0,<br>1984005.0, 1579266.0, ...</td>\n",
       "        <td style=\"padding-left: 1em; padding-right: 1em; text-align: center; vertical-align: top\">14</td>\n",
       "        <td style=\"padding-left: 1em; padding-right: 1em; text-align: center; vertical-align: top\">24</td>\n",
       "        <td style=\"padding-left: 1em; padding-right: 1em; text-align: center; vertical-align: top\">[2152768.0, 1579266.0,<br>1984005.0, 3105725.0, ...</td>\n",
       "        <td style=\"padding-left: 1em; padding-right: 1em; text-align: center; vertical-align: top\">33</td>\n",
       "    </tr>\n",
       "</table>\n",
       "<table frame=\"box\" rules=\"cols\">\n",
       "    <tr>\n",
       "        <th style=\"padding-left: 1em; padding-right: 1em; text-align: center\">dst_bi_friends</th>\n",
       "        <th style=\"padding-left: 1em; padding-right: 1em; text-align: center\">dst_bi_degree</th>\n",
       "        <th style=\"padding-left: 1em; padding-right: 1em; text-align: center\">common_friends</th>\n",
       "        <th style=\"padding-left: 1em; padding-right: 1em; text-align: center\">common_bi_friends</th>\n",
       "        <th style=\"padding-left: 1em; padding-right: 1em; text-align: center\">common_in_friends</th>\n",
       "        <th style=\"padding-left: 1em; padding-right: 1em; text-align: center\">common_out_friends</th>\n",
       "    </tr>\n",
       "    <tr>\n",
       "        <td style=\"padding-left: 1em; padding-right: 1em; text-align: center; vertical-align: top\">[]</td>\n",
       "        <td style=\"padding-left: 1em; padding-right: 1em; text-align: center; vertical-align: top\">0</td>\n",
       "        <td style=\"padding-left: 1em; padding-right: 1em; text-align: center; vertical-align: top\">4</td>\n",
       "        <td style=\"padding-left: 1em; padding-right: 1em; text-align: center; vertical-align: top\">0</td>\n",
       "        <td style=\"padding-left: 1em; padding-right: 1em; text-align: center; vertical-align: top\">3</td>\n",
       "        <td style=\"padding-left: 1em; padding-right: 1em; text-align: center; vertical-align: top\">0</td>\n",
       "    </tr>\n",
       "    <tr>\n",
       "        <td style=\"padding-left: 1em; padding-right: 1em; text-align: center; vertical-align: top\">[2298370.0, 3196331.0,<br>2651652.0, 3885069.0, ...</td>\n",
       "        <td style=\"padding-left: 1em; padding-right: 1em; text-align: center; vertical-align: top\">154</td>\n",
       "        <td style=\"padding-left: 1em; padding-right: 1em; text-align: center; vertical-align: top\">14</td>\n",
       "        <td style=\"padding-left: 1em; padding-right: 1em; text-align: center; vertical-align: top\">7</td>\n",
       "        <td style=\"padding-left: 1em; padding-right: 1em; text-align: center; vertical-align: top\">13</td>\n",
       "        <td style=\"padding-left: 1em; padding-right: 1em; text-align: center; vertical-align: top\">8</td>\n",
       "    </tr>\n",
       "    <tr>\n",
       "        <td style=\"padding-left: 1em; padding-right: 1em; text-align: center; vertical-align: top\">[2769515.0, 4557603.0,<br>4315324.0, 3964030.0] ...</td>\n",
       "        <td style=\"padding-left: 1em; padding-right: 1em; text-align: center; vertical-align: top\">4</td>\n",
       "        <td style=\"padding-left: 1em; padding-right: 1em; text-align: center; vertical-align: top\">6</td>\n",
       "        <td style=\"padding-left: 1em; padding-right: 1em; text-align: center; vertical-align: top\">0</td>\n",
       "        <td style=\"padding-left: 1em; padding-right: 1em; text-align: center; vertical-align: top\">0</td>\n",
       "        <td style=\"padding-left: 1em; padding-right: 1em; text-align: center; vertical-align: top\">6</td>\n",
       "    </tr>\n",
       "    <tr>\n",
       "        <td style=\"padding-left: 1em; padding-right: 1em; text-align: center; vertical-align: top\">[]</td>\n",
       "        <td style=\"padding-left: 1em; padding-right: 1em; text-align: center; vertical-align: top\">0</td>\n",
       "        <td style=\"padding-left: 1em; padding-right: 1em; text-align: center; vertical-align: top\">0</td>\n",
       "        <td style=\"padding-left: 1em; padding-right: 1em; text-align: center; vertical-align: top\">0</td>\n",
       "        <td style=\"padding-left: 1em; padding-right: 1em; text-align: center; vertical-align: top\">0</td>\n",
       "        <td style=\"padding-left: 1em; padding-right: 1em; text-align: center; vertical-align: top\">0</td>\n",
       "    </tr>\n",
       "    <tr>\n",
       "        <td style=\"padding-left: 1em; padding-right: 1em; text-align: center; vertical-align: top\">[]</td>\n",
       "        <td style=\"padding-left: 1em; padding-right: 1em; text-align: center; vertical-align: top\">0</td>\n",
       "        <td style=\"padding-left: 1em; padding-right: 1em; text-align: center; vertical-align: top\">0</td>\n",
       "        <td style=\"padding-left: 1em; padding-right: 1em; text-align: center; vertical-align: top\">0</td>\n",
       "        <td style=\"padding-left: 1em; padding-right: 1em; text-align: center; vertical-align: top\">0</td>\n",
       "        <td style=\"padding-left: 1em; padding-right: 1em; text-align: center; vertical-align: top\">0</td>\n",
       "    </tr>\n",
       "    <tr>\n",
       "        <td style=\"padding-left: 1em; padding-right: 1em; text-align: center; vertical-align: top\">[]</td>\n",
       "        <td style=\"padding-left: 1em; padding-right: 1em; text-align: center; vertical-align: top\">0</td>\n",
       "        <td style=\"padding-left: 1em; padding-right: 1em; text-align: center; vertical-align: top\">1</td>\n",
       "        <td style=\"padding-left: 1em; padding-right: 1em; text-align: center; vertical-align: top\">0</td>\n",
       "        <td style=\"padding-left: 1em; padding-right: 1em; text-align: center; vertical-align: top\">1</td>\n",
       "        <td style=\"padding-left: 1em; padding-right: 1em; text-align: center; vertical-align: top\">0</td>\n",
       "    </tr>\n",
       "    <tr>\n",
       "        <td style=\"padding-left: 1em; padding-right: 1em; text-align: center; vertical-align: top\">[2307937.0, 2385853.0,<br>1272125.0, 3450878.0, ...</td>\n",
       "        <td style=\"padding-left: 1em; padding-right: 1em; text-align: center; vertical-align: top\">5</td>\n",
       "        <td style=\"padding-left: 1em; padding-right: 1em; text-align: center; vertical-align: top\">7</td>\n",
       "        <td style=\"padding-left: 1em; padding-right: 1em; text-align: center; vertical-align: top\">0</td>\n",
       "        <td style=\"padding-left: 1em; padding-right: 1em; text-align: center; vertical-align: top\">1</td>\n",
       "        <td style=\"padding-left: 1em; padding-right: 1em; text-align: center; vertical-align: top\">5</td>\n",
       "    </tr>\n",
       "</table>\n",
       "<table frame=\"box\" rules=\"cols\">\n",
       "    <tr>\n",
       "        <th style=\"padding-left: 1em; padding-right: 1em; text-align: center\">total_friends</th>\n",
       "        <th style=\"padding-left: 1em; padding-right: 1em; text-align: center\">total_bi_friends</th>\n",
       "        <th style=\"padding-left: 1em; padding-right: 1em; text-align: center\">total_in_friends</th>\n",
       "        <th style=\"padding-left: 1em; padding-right: 1em; text-align: center\">total_out_friends</th>\n",
       "        <th style=\"padding-left: 1em; padding-right: 1em; text-align: center\">jacc_coef</th>\n",
       "        <th style=\"padding-left: 1em; padding-right: 1em; text-align: center\">bi_jacc_coef</th>\n",
       "    </tr>\n",
       "    <tr>\n",
       "        <td style=\"padding-left: 1em; padding-right: 1em; text-align: center; vertical-align: top\">639</td>\n",
       "        <td style=\"padding-left: 1em; padding-right: 1em; text-align: center; vertical-align: top\">25</td>\n",
       "        <td style=\"padding-left: 1em; padding-right: 1em; text-align: center; vertical-align: top\">325</td>\n",
       "        <td style=\"padding-left: 1em; padding-right: 1em; text-align: center; vertical-align: top\">340</td>\n",
       "        <td style=\"padding-left: 1em; padding-right: 1em; text-align: center; vertical-align: top\">0.00625978090767</td>\n",
       "        <td style=\"padding-left: 1em; padding-right: 1em; text-align: center; vertical-align: top\">0.0</td>\n",
       "    </tr>\n",
       "    <tr>\n",
       "        <td style=\"padding-left: 1em; padding-right: 1em; text-align: center; vertical-align: top\">1037</td>\n",
       "        <td style=\"padding-left: 1em; padding-right: 1em; text-align: center; vertical-align: top\">154</td>\n",
       "        <td style=\"padding-left: 1em; padding-right: 1em; text-align: center; vertical-align: top\">894</td>\n",
       "        <td style=\"padding-left: 1em; padding-right: 1em; text-align: center; vertical-align: top\">297</td>\n",
       "        <td style=\"padding-left: 1em; padding-right: 1em; text-align: center; vertical-align: top\">0.0135004821601</td>\n",
       "        <td style=\"padding-left: 1em; padding-right: 1em; text-align: center; vertical-align: top\">0.0454545454545</td>\n",
       "    </tr>\n",
       "    <tr>\n",
       "        <td style=\"padding-left: 1em; padding-right: 1em; text-align: center; vertical-align: top\">497</td>\n",
       "        <td style=\"padding-left: 1em; padding-right: 1em; text-align: center; vertical-align: top\">17</td>\n",
       "        <td style=\"padding-left: 1em; padding-right: 1em; text-align: center; vertical-align: top\">195</td>\n",
       "        <td style=\"padding-left: 1em; padding-right: 1em; text-align: center; vertical-align: top\">319</td>\n",
       "        <td style=\"padding-left: 1em; padding-right: 1em; text-align: center; vertical-align: top\">0.0120724346076</td>\n",
       "        <td style=\"padding-left: 1em; padding-right: 1em; text-align: center; vertical-align: top\">0.0</td>\n",
       "    </tr>\n",
       "    <tr>\n",
       "        <td style=\"padding-left: 1em; padding-right: 1em; text-align: center; vertical-align: top\">148</td>\n",
       "        <td style=\"padding-left: 1em; padding-right: 1em; text-align: center; vertical-align: top\">40</td>\n",
       "        <td style=\"padding-left: 1em; padding-right: 1em; text-align: center; vertical-align: top\">105</td>\n",
       "        <td style=\"padding-left: 1em; padding-right: 1em; text-align: center; vertical-align: top\">83</td>\n",
       "        <td style=\"padding-left: 1em; padding-right: 1em; text-align: center; vertical-align: top\">0.0</td>\n",
       "        <td style=\"padding-left: 1em; padding-right: 1em; text-align: center; vertical-align: top\">0.0</td>\n",
       "    </tr>\n",
       "    <tr>\n",
       "        <td style=\"padding-left: 1em; padding-right: 1em; text-align: center; vertical-align: top\">211</td>\n",
       "        <td style=\"padding-left: 1em; padding-right: 1em; text-align: center; vertical-align: top\">12</td>\n",
       "        <td style=\"padding-left: 1em; padding-right: 1em; text-align: center; vertical-align: top\">15</td>\n",
       "        <td style=\"padding-left: 1em; padding-right: 1em; text-align: center; vertical-align: top\">208</td>\n",
       "        <td style=\"padding-left: 1em; padding-right: 1em; text-align: center; vertical-align: top\">0.0</td>\n",
       "        <td style=\"padding-left: 1em; padding-right: 1em; text-align: center; vertical-align: top\">0.0</td>\n",
       "    </tr>\n",
       "    <tr>\n",
       "        <td style=\"padding-left: 1em; padding-right: 1em; text-align: center; vertical-align: top\">497</td>\n",
       "        <td style=\"padding-left: 1em; padding-right: 1em; text-align: center; vertical-align: top\">3</td>\n",
       "        <td style=\"padding-left: 1em; padding-right: 1em; text-align: center; vertical-align: top\">485</td>\n",
       "        <td style=\"padding-left: 1em; padding-right: 1em; text-align: center; vertical-align: top\">15</td>\n",
       "        <td style=\"padding-left: 1em; padding-right: 1em; text-align: center; vertical-align: top\">0.00201207243461</td>\n",
       "        <td style=\"padding-left: 1em; padding-right: 1em; text-align: center; vertical-align: top\">0.0</td>\n",
       "    </tr>\n",
       "    <tr>\n",
       "        <td style=\"padding-left: 1em; padding-right: 1em; text-align: center; vertical-align: top\">112</td>\n",
       "        <td style=\"padding-left: 1em; padding-right: 1em; text-align: center; vertical-align: top\">19</td>\n",
       "        <td style=\"padding-left: 1em; padding-right: 1em; text-align: center; vertical-align: top\">39</td>\n",
       "        <td style=\"padding-left: 1em; padding-right: 1em; text-align: center; vertical-align: top\">93</td>\n",
       "        <td style=\"padding-left: 1em; padding-right: 1em; text-align: center; vertical-align: top\">0.0625</td>\n",
       "        <td style=\"padding-left: 1em; padding-right: 1em; text-align: center; vertical-align: top\">0.0</td>\n",
       "    </tr>\n",
       "</table>\n",
       "<table frame=\"box\" rules=\"cols\">\n",
       "    <tr>\n",
       "        <th style=\"padding-left: 1em; padding-right: 1em; text-align: center\">in_jacc_coef</th>\n",
       "        <th style=\"padding-left: 1em; padding-right: 1em; text-align: center\">out_jacc_coef</th>\n",
       "    </tr>\n",
       "    <tr>\n",
       "        <td style=\"padding-left: 1em; padding-right: 1em; text-align: center; vertical-align: top\">0.00923076923077</td>\n",
       "        <td style=\"padding-left: 1em; padding-right: 1em; text-align: center; vertical-align: top\">0.0</td>\n",
       "    </tr>\n",
       "    <tr>\n",
       "        <td style=\"padding-left: 1em; padding-right: 1em; text-align: center; vertical-align: top\">0.0145413870246</td>\n",
       "        <td style=\"padding-left: 1em; padding-right: 1em; text-align: center; vertical-align: top\">0.026936026936</td>\n",
       "    </tr>\n",
       "    <tr>\n",
       "        <td style=\"padding-left: 1em; padding-right: 1em; text-align: center; vertical-align: top\">0.0</td>\n",
       "        <td style=\"padding-left: 1em; padding-right: 1em; text-align: center; vertical-align: top\">0.0188087774295</td>\n",
       "    </tr>\n",
       "    <tr>\n",
       "        <td style=\"padding-left: 1em; padding-right: 1em; text-align: center; vertical-align: top\">0.0</td>\n",
       "        <td style=\"padding-left: 1em; padding-right: 1em; text-align: center; vertical-align: top\">0.0</td>\n",
       "    </tr>\n",
       "    <tr>\n",
       "        <td style=\"padding-left: 1em; padding-right: 1em; text-align: center; vertical-align: top\">0.0</td>\n",
       "        <td style=\"padding-left: 1em; padding-right: 1em; text-align: center; vertical-align: top\">0.0</td>\n",
       "    </tr>\n",
       "    <tr>\n",
       "        <td style=\"padding-left: 1em; padding-right: 1em; text-align: center; vertical-align: top\">0.0020618556701</td>\n",
       "        <td style=\"padding-left: 1em; padding-right: 1em; text-align: center; vertical-align: top\">0.0</td>\n",
       "    </tr>\n",
       "    <tr>\n",
       "        <td style=\"padding-left: 1em; padding-right: 1em; text-align: center; vertical-align: top\">0.025641025641</td>\n",
       "        <td style=\"padding-left: 1em; padding-right: 1em; text-align: center; vertical-align: top\">0.0537634408602</td>\n",
       "    </tr>\n",
       "</table>\n",
       "[7 rows x 31 columns]<br/>\n",
       "</div>"
      ],
      "text/plain": [
       "Columns:\n",
       "\tId\tint\n",
       "\tSource\tint\n",
       "\tSink\tint\n",
       "\tsrc_in_friends\tarray\n",
       "\tsrc_out_friends\tarray\n",
       "\tsrc_out_degree\tint\n",
       "\tsrc_in_degree\tint\n",
       "\tsrc_all_friends\tarray\n",
       "\tsrc_all_degree\tint\n",
       "\tsrc_bi_friends\tarray\n",
       "\tsrc_bi_degree\tint\n",
       "\tdst_in_friends\tarray\n",
       "\tdst_out_friends\tarray\n",
       "\tdst_out_degree\tint\n",
       "\tdst_in_degree\tint\n",
       "\tdst_all_friends\tarray\n",
       "\tdst_all_degree\tint\n",
       "\tdst_bi_friends\tarray\n",
       "\tdst_bi_degree\tint\n",
       "\tcommon_friends\tint\n",
       "\tcommon_bi_friends\tint\n",
       "\tcommon_in_friends\tint\n",
       "\tcommon_out_friends\tint\n",
       "\ttotal_friends\tint\n",
       "\ttotal_bi_friends\tint\n",
       "\ttotal_in_friends\tint\n",
       "\ttotal_out_friends\tint\n",
       "\tjacc_coef\tfloat\n",
       "\tbi_jacc_coef\tfloat\n",
       "\tin_jacc_coef\tfloat\n",
       "\tout_jacc_coef\tfloat\n",
       "\n",
       "Rows: 7\n",
       "\n",
       "Data:\n",
       "+----+---------+---------+-------------------------------+\n",
       "| Id |  Source |   Sink  |         src_in_friends        |\n",
       "+----+---------+---------+-------------------------------+\n",
       "| 2  | 3151356 | 1452193 | [2120801.0, 1357350.0, 408... |\n",
       "| 6  |  228206 |  212805 | [1869658.0, 4738810.0, 763... |\n",
       "| 5  | 2389638 |  593017 | [2880517.0, 3553485.0, 212... |\n",
       "| 1  | 2184483 | 1300190 | [3770256.0, 2173130.0, 465... |\n",
       "| 3  | 1579396 |  193159 | [2984603.0, 2120801.0, 274... |\n",
       "| 7  | 1237964 |  879115 | [448823.0, 4157152.0, 3317... |\n",
       "| 4  | 1406432 | 2481036 | [1687276.0, 972843.0, 2956... |\n",
       "+----+---------+---------+-------------------------------+\n",
       "+-------------------------------+----------------+---------------+\n",
       "|        src_out_friends        | src_out_degree | src_in_degree |\n",
       "+-------------------------------+----------------+---------------+\n",
       "| [4052824.0, 3317934.0, 184... |      340       |       39      |\n",
       "| [76360.0, 1869658.0, 47388... |       9        |       14      |\n",
       "| [201039.0, 2402120.0, 2819... |      267       |       30      |\n",
       "| [3209755.0, 1687276.0, 432... |       83       |      102      |\n",
       "| [1519588.0, 916145.0, 4352... |      208       |       14      |\n",
       "| [2332893.0, 448823.0, 1139... |       15       |       4       |\n",
       "| [4088654.0, 1351603.0, 200... |       84       |       16      |\n",
       "+-------------------------------+----------------+---------------+\n",
       "+-------------------------------+----------------+\n",
       "|        src_all_friends        | src_all_degree |\n",
       "+-------------------------------+----------------+\n",
       "| [2966358.0, 2587654.0, 227... |      354       |\n",
       "| [110976.0, 2298370.0, 2128... |       16       |\n",
       "| [4332544.0, 4475906.0, 500... |      284       |\n",
       "| [1340930.0, 2651652.0, 214... |      145       |\n",
       "| [2556418.0, 3422215.0, 202... |      209       |\n",
       "| [893888.0, 959493.0, 27542... |       16       |\n",
       "| [2304782.0, 669843.0, 1984... |       86       |\n",
       "+-------------------------------+----------------+\n",
       "+-------------------------------+---------------+-------------------------------+\n",
       "|         src_bi_friends        | src_bi_degree |         dst_in_friends        |\n",
       "+-------------------------------+---------------+-------------------------------+\n",
       "| [4384662.0, 1357350.0, 351... |       25      | [2501645.0, 3660919.0, 884... |\n",
       "| [4003975.0, 76360.0, 31038... |       7       | [68695.0, 884795.0, 279170... |\n",
       "| [20388.0, 2989221.0, 23142... |       13      | [974241.0, 3694560.0, 1181... |\n",
       "| [1218944.0, 3123328.0, 265... |       40      | [4651416.0, 3227840.0, 265... |\n",
       "| [2120801.0, 20388.0, 20254... |       12      |     [3278181.0, 4518416.0]    |\n",
       "| [448823.0, 1601895.0, 3317... |       3       | [2424452.0, 1133307.0, 175... |\n",
       "| [2152768.0, 2956481.0, 972... |       14      | [700731.0, 317366.0, 22367... |\n",
       "+-------------------------------+---------------+-------------------------------+\n",
       "+-------------------------------+----------------+---------------+\n",
       "|        dst_out_friends        | dst_out_degree | dst_in_degree |\n",
       "+-------------------------------+----------------+---------------+\n",
       "|               []              |       0        |      289      |\n",
       "| [620720.0, 2576942.0, 2728... |      297       |      895      |\n",
       "| [1328064.0, 595768.0, 2704... |       58       |      165      |\n",
       "|               []              |       0        |       3       |\n",
       "|               []              |       0        |       2       |\n",
       "|               []              |       0        |      482      |\n",
       "| [3086178.0, 2385853.0, 198... |       14       |       24      |\n",
       "+-------------------------------+----------------+---------------+\n",
       "+-------------------------------+----------------+\n",
       "|        dst_all_friends        | dst_all_degree |\n",
       "+-------------------------------+----------------+\n",
       "| [3671045.0, 2501645.0, 905... |      289       |\n",
       "| [3971074.0, 431384.0, 2209... |      1037      |\n",
       "| [99328.0, 1395712.0, 54169... |      219       |\n",
       "| [4651416.0, 3227840.0, 265... |       3        |\n",
       "|     [4518416.0, 3278181.0]    |       2        |\n",
       "| [4021250.0, 3097604.0, 323... |      482       |\n",
       "| [2152768.0, 1579266.0, 198... |       33       |\n",
       "+-------------------------------+----------------+\n",
       "+-------------------------------+---------------+----------------+-----+\n",
       "|         dst_bi_friends        | dst_bi_degree | common_friends | ... |\n",
       "+-------------------------------+---------------+----------------+-----+\n",
       "|               []              |       0       |       4        | ... |\n",
       "| [2298370.0, 3196331.0, 265... |      154      |       14       | ... |\n",
       "| [2769515.0, 4557603.0, 431... |       4       |       6        | ... |\n",
       "|               []              |       0       |       0        | ... |\n",
       "|               []              |       0       |       0        | ... |\n",
       "|               []              |       0       |       1        | ... |\n",
       "| [2307937.0, 2385853.0, 127... |       5       |       7        | ... |\n",
       "+-------------------------------+---------------+----------------+-----+\n",
       "[7 rows x 31 columns]"
      ]
     },
     "execution_count": 15,
     "metadata": {},
     "output_type": "execute_result"
    }
   ],
   "source": [
    "#added code\n",
    "\n",
    "sf_links_test['common_friends'] = sf_links_test[['Source','Sink', 'src_all_friends', 'dst_all_friends']].apply(lambda r: common_friends(r['Source'], r['Sink'],r['src_all_friends'], r['dst_all_friends']))\n",
    "sf_links_test['common_bi_friends'] = sf_links_test[['Source','Sink', 'src_bi_friends', 'dst_bi_friends']].apply(lambda r: common_friends(r['Source'], r['Sink'],r['src_bi_friends'], r['dst_bi_friends']))\n",
    "sf_links_test['common_in_friends'] = sf_links_test[['Source','Sink', 'src_in_friends', 'dst_in_friends']].apply(lambda r: common_friends(r['Source'], r['Sink'],r['src_in_friends'], r['dst_in_friends']))\n",
    "sf_links_test['common_out_friends'] = sf_links_test[['Source','Sink', 'src_out_friends', 'dst_out_friends']].apply(lambda r: common_friends(r['Source'], r['Sink'],r['src_out_friends'], r['dst_out_friends']))\n",
    "\n",
    "sf_links_test['total_friends'] = sf_links_test[['Source','Sink', 'src_all_friends', 'dst_all_friends']].apply(lambda r: total_friends(r['Source'], r['Sink'],r['src_all_friends'], r['dst_all_friends']))\n",
    "sf_links_test['total_bi_friends'] = sf_links_test[['Source','Sink', 'src_bi_friends', 'dst_bi_friends']].apply(lambda r: total_friends(r['Source'], r['Sink'],r['src_bi_friends'], r['dst_bi_friends']))\n",
    "sf_links_test['total_in_friends'] = sf_links_test[['Source','Sink', 'src_in_friends', 'dst_in_friends']].apply(lambda r: total_friends(r['Source'], r['Sink'],r['src_in_friends'], r['dst_in_friends']))\n",
    "sf_links_test['total_out_friends'] = sf_links_test[['Source','Sink', 'src_out_friends', 'dst_out_friends']].apply(lambda r: total_friends(r['Source'], r['Sink'],r['src_out_friends'], r['dst_out_friends']))\n",
    "\n",
    "\n",
    "sf_links_test['jacc_coef'] = sf_links_test[['Source','Sink', 'src_all_friends', 'dst_all_friends']].apply(lambda r: jacc_coef(r['Source'], r['Sink'],r['src_all_friends'], r['dst_all_friends']))\n",
    "sf_links_test['bi_jacc_coef'] = sf_links_test[['Source','Sink', 'src_bi_friends', 'dst_bi_friends']].apply(lambda r: jacc_coef(r['Source'], r['Sink'],r['src_bi_friends'], r['dst_bi_friends']))\n",
    "sf_links_test['in_jacc_coef'] = sf_links_test[['Source','Sink', 'src_in_friends', 'dst_in_friends']].apply(lambda r: jacc_coef(r['Source'], r['Sink'],r['src_in_friends'], r['dst_in_friends']))\n",
    "sf_links_test['out_jacc_coef'] = sf_links_test[['Source','Sink', 'src_out_friends', 'dst_out_friends']].apply(lambda r: jacc_coef(r['Source'], r['Sink'],r['src_out_friends'], r['dst_out_friends']))\n",
    "sf_links_test.head(10)"
   ]
  },
  {
   "cell_type": "markdown",
   "metadata": {},
   "source": [
    "Similar to the above method, we can also extract for each link, such as each user [PageRank](https://turi.com/products/create/docs/generated/graphlab.pagerank.create.html) and [neighborhood subgraph](https://turi.com/products/create/docs/generated/graphlab.SGraph.get_neighborhood.html?highlight=neighborhood#graphlab.SGraph.get_neighborhood) size. We let the reader to try to add these features (and  maybe some additional features) by themselves. \n",
    "\n",
    "Let us move to the next section, in which we explain how the extracted links' features can be utilized to create a link prediction classifier."
   ]
  },
  {
   "cell_type": "markdown",
   "metadata": {},
   "source": [
    "## Constructing a Link Prediction Classifier"
   ]
  },
  {
   "cell_type": "markdown",
   "metadata": {},
   "source": [
    "In order to create a link prediction classifier using our constructed links dataset (sf), lets first randomly split our dataset into training that contains 20% of the dataset, and testing datasets that contains 80% of the dataset."
   ]
  },
  {
   "cell_type": "code",
   "execution_count": 16,
   "metadata": {
    "collapsed": false
   },
   "outputs": [],
   "source": [
    "train, test = sf_links.random_split(0.02)"
   ]
  },
  {
   "cell_type": "markdown",
   "metadata": {},
   "source": [
    "We now can use GraphLab Create's [classfication toolkit](https://turi.com/products/create/docs/graphlab.toolkits.classifier.html#creating-a-classifier) and create and evaluate a link prediction classifier based only on <i>u</i> and <i>v</i> degree features:\n"
   ]
  },
  {
   "cell_type": "code",
   "execution_count": 18,
   "metadata": {
    "collapsed": false
   },
   "outputs": [
    {
     "name": "stdout",
     "output_type": "stream",
     "text": [
      "Degree Features ['src_out_degree', 'src_in_degree', 'src_all_degree', 'src_bi_degree', 'dst_out_degree', 'dst_in_degree', 'dst_all_degree', 'dst_bi_degree']\n",
      "PROGRESS: Creating a validation set from 5 percent of training data. This may take a while.\n",
      "          You can set ``validation_set=None`` to disable validation tracking.\n",
      "\n",
      "PROGRESS: The following methods are available for this type of problem.\n",
      "PROGRESS: BoostedTreesClassifier, RandomForestClassifier, DecisionTreeClassifier, SVMClassifier, LogisticClassifier\n",
      "PROGRESS: The returned model will be chosen according to validation accuracy.\n"
     ]
    },
    {
     "data": {
      "text/html": [
       "<pre>Boosted trees classifier:</pre>"
      ],
      "text/plain": [
       "Boosted trees classifier:"
      ]
     },
     "metadata": {},
     "output_type": "display_data"
    },
    {
     "data": {
      "text/html": [
       "<pre>--------------------------------------------------------</pre>"
      ],
      "text/plain": [
       "--------------------------------------------------------"
      ]
     },
     "metadata": {},
     "output_type": "display_data"
    },
    {
     "data": {
      "text/html": [
       "<pre>Number of examples          : 2109</pre>"
      ],
      "text/plain": [
       "Number of examples          : 2109"
      ]
     },
     "metadata": {},
     "output_type": "display_data"
    },
    {
     "data": {
      "text/html": [
       "<pre>Number of classes           : 2</pre>"
      ],
      "text/plain": [
       "Number of classes           : 2"
      ]
     },
     "metadata": {},
     "output_type": "display_data"
    },
    {
     "data": {
      "text/html": [
       "<pre>Number of feature columns   : 8</pre>"
      ],
      "text/plain": [
       "Number of feature columns   : 8"
      ]
     },
     "metadata": {},
     "output_type": "display_data"
    },
    {
     "data": {
      "text/html": [
       "<pre>Number of unpacked features : 8</pre>"
      ],
      "text/plain": [
       "Number of unpacked features : 8"
      ]
     },
     "metadata": {},
     "output_type": "display_data"
    },
    {
     "data": {
      "text/html": [
       "<pre>+-----------+--------------+-------------------+---------------------+-------------------+---------------------+</pre>"
      ],
      "text/plain": [
       "+-----------+--------------+-------------------+---------------------+-------------------+---------------------+"
      ]
     },
     "metadata": {},
     "output_type": "display_data"
    },
    {
     "data": {
      "text/html": [
       "<pre>| Iteration | Elapsed Time | Training-accuracy | Validation-accuracy | Training-log_loss | Validation-log_loss |</pre>"
      ],
      "text/plain": [
       "| Iteration | Elapsed Time | Training-accuracy | Validation-accuracy | Training-log_loss | Validation-log_loss |"
      ]
     },
     "metadata": {},
     "output_type": "display_data"
    },
    {
     "data": {
      "text/html": [
       "<pre>+-----------+--------------+-------------------+---------------------+-------------------+---------------------+</pre>"
      ],
      "text/plain": [
       "+-----------+--------------+-------------------+---------------------+-------------------+---------------------+"
      ]
     },
     "metadata": {},
     "output_type": "display_data"
    },
    {
     "data": {
      "text/html": [
       "<pre>| 1         | 0.012270     | 0.837838          | 0.804878            | 0.557209          | 0.571773            |</pre>"
      ],
      "text/plain": [
       "| 1         | 0.012270     | 0.837838          | 0.804878            | 0.557209          | 0.571773            |"
      ]
     },
     "metadata": {},
     "output_type": "display_data"
    },
    {
     "data": {
      "text/html": [
       "<pre>| 2         | 0.018996     | 0.851588          | 0.813008            | 0.475388          | 0.502742            |</pre>"
      ],
      "text/plain": [
       "| 2         | 0.018996     | 0.851588          | 0.813008            | 0.475388          | 0.502742            |"
      ]
     },
     "metadata": {},
     "output_type": "display_data"
    },
    {
     "data": {
      "text/html": [
       "<pre>| 3         | 0.024976     | 0.852063          | 0.813008            | 0.425841          | 0.465152            |</pre>"
      ],
      "text/plain": [
       "| 3         | 0.024976     | 0.852063          | 0.813008            | 0.425841          | 0.465152            |"
      ]
     },
     "metadata": {},
     "output_type": "display_data"
    },
    {
     "data": {
      "text/html": [
       "<pre>| 4         | 0.030468     | 0.850166          | 0.804878            | 0.392107          | 0.441596            |</pre>"
      ],
      "text/plain": [
       "| 4         | 0.030468     | 0.850166          | 0.804878            | 0.392107          | 0.441596            |"
      ]
     },
     "metadata": {},
     "output_type": "display_data"
    },
    {
     "data": {
      "text/html": [
       "<pre>| 5         | 0.034457     | 0.856330          | 0.796748            | 0.365415          | 0.425029            |</pre>"
      ],
      "text/plain": [
       "| 5         | 0.034457     | 0.856330          | 0.796748            | 0.365415          | 0.425029            |"
      ]
     },
     "metadata": {},
     "output_type": "display_data"
    },
    {
     "data": {
      "text/html": [
       "<pre>| 6         | 0.037505     | 0.862968          | 0.788618            | 0.349716          | 0.418828            |</pre>"
      ],
      "text/plain": [
       "| 6         | 0.037505     | 0.862968          | 0.788618            | 0.349716          | 0.418828            |"
      ]
     },
     "metadata": {},
     "output_type": "display_data"
    },
    {
     "data": {
      "text/html": [
       "<pre>+-----------+--------------+-------------------+---------------------+-------------------+---------------------+</pre>"
      ],
      "text/plain": [
       "+-----------+--------------+-------------------+---------------------+-------------------+---------------------+"
      ]
     },
     "metadata": {},
     "output_type": "display_data"
    },
    {
     "data": {
      "text/html": [
       "<pre>Random forest classifier:</pre>"
      ],
      "text/plain": [
       "Random forest classifier:"
      ]
     },
     "metadata": {},
     "output_type": "display_data"
    },
    {
     "data": {
      "text/html": [
       "<pre>--------------------------------------------------------</pre>"
      ],
      "text/plain": [
       "--------------------------------------------------------"
      ]
     },
     "metadata": {},
     "output_type": "display_data"
    },
    {
     "data": {
      "text/html": [
       "<pre>Number of examples          : 2109</pre>"
      ],
      "text/plain": [
       "Number of examples          : 2109"
      ]
     },
     "metadata": {},
     "output_type": "display_data"
    },
    {
     "data": {
      "text/html": [
       "<pre>Number of classes           : 2</pre>"
      ],
      "text/plain": [
       "Number of classes           : 2"
      ]
     },
     "metadata": {},
     "output_type": "display_data"
    },
    {
     "data": {
      "text/html": [
       "<pre>Number of feature columns   : 8</pre>"
      ],
      "text/plain": [
       "Number of feature columns   : 8"
      ]
     },
     "metadata": {},
     "output_type": "display_data"
    },
    {
     "data": {
      "text/html": [
       "<pre>Number of unpacked features : 8</pre>"
      ],
      "text/plain": [
       "Number of unpacked features : 8"
      ]
     },
     "metadata": {},
     "output_type": "display_data"
    },
    {
     "data": {
      "text/html": [
       "<pre>+-----------+--------------+-------------------+---------------------+-------------------+---------------------+</pre>"
      ],
      "text/plain": [
       "+-----------+--------------+-------------------+---------------------+-------------------+---------------------+"
      ]
     },
     "metadata": {},
     "output_type": "display_data"
    },
    {
     "data": {
      "text/html": [
       "<pre>| Iteration | Elapsed Time | Training-accuracy | Validation-accuracy | Training-log_loss | Validation-log_loss |</pre>"
      ],
      "text/plain": [
       "| Iteration | Elapsed Time | Training-accuracy | Validation-accuracy | Training-log_loss | Validation-log_loss |"
      ]
     },
     "metadata": {},
     "output_type": "display_data"
    },
    {
     "data": {
      "text/html": [
       "<pre>+-----------+--------------+-------------------+---------------------+-------------------+---------------------+</pre>"
      ],
      "text/plain": [
       "+-----------+--------------+-------------------+---------------------+-------------------+---------------------+"
      ]
     },
     "metadata": {},
     "output_type": "display_data"
    },
    {
     "data": {
      "text/html": [
       "<pre>| 1         | 0.010968     | 0.838786          | 0.804878            | 0.396618          | 0.430815            |</pre>"
      ],
      "text/plain": [
       "| 1         | 0.010968     | 0.838786          | 0.804878            | 0.396618          | 0.430815            |"
      ]
     },
     "metadata": {},
     "output_type": "display_data"
    },
    {
     "data": {
      "text/html": [
       "<pre>| 2         | 0.017460     | 0.848269          | 0.804878            | 0.388914          | 0.433347            |</pre>"
      ],
      "text/plain": [
       "| 2         | 0.017460     | 0.848269          | 0.804878            | 0.388914          | 0.433347            |"
      ]
     },
     "metadata": {},
     "output_type": "display_data"
    },
    {
     "data": {
      "text/html": [
       "<pre>| 3         | 0.022640     | 0.851588          | 0.804878            | 0.387601          | 0.432977            |</pre>"
      ],
      "text/plain": [
       "| 3         | 0.022640     | 0.851588          | 0.804878            | 0.387601          | 0.432977            |"
      ]
     },
     "metadata": {},
     "output_type": "display_data"
    },
    {
     "data": {
      "text/html": [
       "<pre>| 4         | 0.025576     | 0.844476          | 0.788618            | 0.387375          | 0.433628            |</pre>"
      ],
      "text/plain": [
       "| 4         | 0.025576     | 0.844476          | 0.788618            | 0.387375          | 0.433628            |"
      ]
     },
     "metadata": {},
     "output_type": "display_data"
    },
    {
     "data": {
      "text/html": [
       "<pre>| 5         | 0.029564     | 0.845424          | 0.780488            | 0.388279          | 0.439633            |</pre>"
      ],
      "text/plain": [
       "| 5         | 0.029564     | 0.845424          | 0.780488            | 0.388279          | 0.439633            |"
      ]
     },
     "metadata": {},
     "output_type": "display_data"
    },
    {
     "data": {
      "text/html": [
       "<pre>| 6         | 0.032556     | 0.844476          | 0.788618            | 0.387306          | 0.438992            |</pre>"
      ],
      "text/plain": [
       "| 6         | 0.032556     | 0.844476          | 0.788618            | 0.387306          | 0.438992            |"
      ]
     },
     "metadata": {},
     "output_type": "display_data"
    },
    {
     "data": {
      "text/html": [
       "<pre>+-----------+--------------+-------------------+---------------------+-------------------+---------------------+</pre>"
      ],
      "text/plain": [
       "+-----------+--------------+-------------------+---------------------+-------------------+---------------------+"
      ]
     },
     "metadata": {},
     "output_type": "display_data"
    },
    {
     "data": {
      "text/html": [
       "<pre>Decision tree classifier:</pre>"
      ],
      "text/plain": [
       "Decision tree classifier:"
      ]
     },
     "metadata": {},
     "output_type": "display_data"
    },
    {
     "data": {
      "text/html": [
       "<pre>--------------------------------------------------------</pre>"
      ],
      "text/plain": [
       "--------------------------------------------------------"
      ]
     },
     "metadata": {},
     "output_type": "display_data"
    },
    {
     "data": {
      "text/html": [
       "<pre>Number of examples          : 2109</pre>"
      ],
      "text/plain": [
       "Number of examples          : 2109"
      ]
     },
     "metadata": {},
     "output_type": "display_data"
    },
    {
     "data": {
      "text/html": [
       "<pre>Number of classes           : 2</pre>"
      ],
      "text/plain": [
       "Number of classes           : 2"
      ]
     },
     "metadata": {},
     "output_type": "display_data"
    },
    {
     "data": {
      "text/html": [
       "<pre>Number of feature columns   : 8</pre>"
      ],
      "text/plain": [
       "Number of feature columns   : 8"
      ]
     },
     "metadata": {},
     "output_type": "display_data"
    },
    {
     "data": {
      "text/html": [
       "<pre>Number of unpacked features : 8</pre>"
      ],
      "text/plain": [
       "Number of unpacked features : 8"
      ]
     },
     "metadata": {},
     "output_type": "display_data"
    },
    {
     "data": {
      "text/html": [
       "<pre>+-----------+--------------+-------------------+---------------------+-------------------+---------------------+</pre>"
      ],
      "text/plain": [
       "+-----------+--------------+-------------------+---------------------+-------------------+---------------------+"
      ]
     },
     "metadata": {},
     "output_type": "display_data"
    },
    {
     "data": {
      "text/html": [
       "<pre>| Iteration | Elapsed Time | Training-accuracy | Validation-accuracy | Training-log_loss | Validation-log_loss |</pre>"
      ],
      "text/plain": [
       "| Iteration | Elapsed Time | Training-accuracy | Validation-accuracy | Training-log_loss | Validation-log_loss |"
      ]
     },
     "metadata": {},
     "output_type": "display_data"
    },
    {
     "data": {
      "text/html": [
       "<pre>+-----------+--------------+-------------------+---------------------+-------------------+---------------------+</pre>"
      ],
      "text/plain": [
       "+-----------+--------------+-------------------+---------------------+-------------------+---------------------+"
      ]
     },
     "metadata": {},
     "output_type": "display_data"
    },
    {
     "data": {
      "text/html": [
       "<pre>| 1         | 0.010875     | 0.837838          | 0.804878            | 0.557209          | 0.571773            |</pre>"
      ],
      "text/plain": [
       "| 1         | 0.010875     | 0.837838          | 0.804878            | 0.557209          | 0.571773            |"
      ]
     },
     "metadata": {},
     "output_type": "display_data"
    },
    {
     "data": {
      "text/html": [
       "<pre>+-----------+--------------+-------------------+---------------------+-------------------+---------------------+</pre>"
      ],
      "text/plain": [
       "+-----------+--------------+-------------------+---------------------+-------------------+---------------------+"
      ]
     },
     "metadata": {},
     "output_type": "display_data"
    },
    {
     "data": {
      "text/html": [
       "<pre>SVM:</pre>"
      ],
      "text/plain": [
       "SVM:"
      ]
     },
     "metadata": {},
     "output_type": "display_data"
    },
    {
     "data": {
      "text/html": [
       "<pre>--------------------------------------------------------</pre>"
      ],
      "text/plain": [
       "--------------------------------------------------------"
      ]
     },
     "metadata": {},
     "output_type": "display_data"
    },
    {
     "data": {
      "text/html": [
       "<pre>Number of examples          : 2109</pre>"
      ],
      "text/plain": [
       "Number of examples          : 2109"
      ]
     },
     "metadata": {},
     "output_type": "display_data"
    },
    {
     "data": {
      "text/html": [
       "<pre>Number of classes           : 2</pre>"
      ],
      "text/plain": [
       "Number of classes           : 2"
      ]
     },
     "metadata": {},
     "output_type": "display_data"
    },
    {
     "data": {
      "text/html": [
       "<pre>Number of feature columns   : 8</pre>"
      ],
      "text/plain": [
       "Number of feature columns   : 8"
      ]
     },
     "metadata": {},
     "output_type": "display_data"
    },
    {
     "data": {
      "text/html": [
       "<pre>Number of unpacked features : 8</pre>"
      ],
      "text/plain": [
       "Number of unpacked features : 8"
      ]
     },
     "metadata": {},
     "output_type": "display_data"
    },
    {
     "data": {
      "text/html": [
       "<pre>Number of coefficients    : 9</pre>"
      ],
      "text/plain": [
       "Number of coefficients    : 9"
      ]
     },
     "metadata": {},
     "output_type": "display_data"
    },
    {
     "data": {
      "text/html": [
       "<pre>Starting L-BFGS</pre>"
      ],
      "text/plain": [
       "Starting L-BFGS"
      ]
     },
     "metadata": {},
     "output_type": "display_data"
    },
    {
     "data": {
      "text/html": [
       "<pre>--------------------------------------------------------</pre>"
      ],
      "text/plain": [
       "--------------------------------------------------------"
      ]
     },
     "metadata": {},
     "output_type": "display_data"
    },
    {
     "data": {
      "text/html": [
       "<pre>+-----------+----------+-----------+--------------+-------------------+---------------------+</pre>"
      ],
      "text/plain": [
       "+-----------+----------+-----------+--------------+-------------------+---------------------+"
      ]
     },
     "metadata": {},
     "output_type": "display_data"
    },
    {
     "data": {
      "text/html": [
       "<pre>| Iteration | Passes   | Step size | Elapsed Time | Training-accuracy | Validation-accuracy |</pre>"
      ],
      "text/plain": [
       "| Iteration | Passes   | Step size | Elapsed Time | Training-accuracy | Validation-accuracy |"
      ]
     },
     "metadata": {},
     "output_type": "display_data"
    },
    {
     "data": {
      "text/html": [
       "<pre>+-----------+----------+-----------+--------------+-------------------+---------------------+</pre>"
      ],
      "text/plain": [
       "+-----------+----------+-----------+--------------+-------------------+---------------------+"
      ]
     },
     "metadata": {},
     "output_type": "display_data"
    },
    {
     "data": {
      "text/html": [
       "<pre>| 1         | 3        | 0.000474  | 0.002992     | 0.775249          | 0.723577            |</pre>"
      ],
      "text/plain": [
       "| 1         | 3        | 0.000474  | 0.002992     | 0.775249          | 0.723577            |"
      ]
     },
     "metadata": {},
     "output_type": "display_data"
    },
    {
     "data": {
      "text/html": [
       "<pre>| 2         | 6        | 0.500000  | 0.008459     | 0.707444          | 0.674797            |</pre>"
      ],
      "text/plain": [
       "| 2         | 6        | 0.500000  | 0.008459     | 0.707444          | 0.674797            |"
      ]
     },
     "metadata": {},
     "output_type": "display_data"
    },
    {
     "data": {
      "text/html": [
       "<pre>| 3         | 7        | 0.500000  | 0.010323     | 0.707444          | 0.674797            |</pre>"
      ],
      "text/plain": [
       "| 3         | 7        | 0.500000  | 0.010323     | 0.707444          | 0.674797            |"
      ]
     },
     "metadata": {},
     "output_type": "display_data"
    },
    {
     "data": {
      "text/html": [
       "<pre>| 4         | 8        | 0.500000  | 0.013355     | 0.710763          | 0.658537            |</pre>"
      ],
      "text/plain": [
       "| 4         | 8        | 0.500000  | 0.013355     | 0.710763          | 0.658537            |"
      ]
     },
     "metadata": {},
     "output_type": "display_data"
    },
    {
     "data": {
      "text/html": [
       "<pre>| 5         | 9        | 0.500000  | 0.015974     | 0.716453          | 0.658537            |</pre>"
      ],
      "text/plain": [
       "| 5         | 9        | 0.500000  | 0.015974     | 0.716453          | 0.658537            |"
      ]
     },
     "metadata": {},
     "output_type": "display_data"
    },
    {
     "data": {
      "text/html": [
       "<pre>| 6         | 10       | 0.500000  | 0.018812     | 0.793741          | 0.756098            |</pre>"
      ],
      "text/plain": [
       "| 6         | 10       | 0.500000  | 0.018812     | 0.793741          | 0.756098            |"
      ]
     },
     "metadata": {},
     "output_type": "display_data"
    },
    {
     "data": {
      "text/html": [
       "<pre>+-----------+----------+-----------+--------------+-------------------+---------------------+</pre>"
      ],
      "text/plain": [
       "+-----------+----------+-----------+--------------+-------------------+---------------------+"
      ]
     },
     "metadata": {},
     "output_type": "display_data"
    },
    {
     "data": {
      "text/html": [
       "<pre>TERMINATED: Iteration limit reached.</pre>"
      ],
      "text/plain": [
       "TERMINATED: Iteration limit reached."
      ]
     },
     "metadata": {},
     "output_type": "display_data"
    },
    {
     "data": {
      "text/html": [
       "<pre>This model may not be optimal. To improve it, consider increasing `max_iterations`.</pre>"
      ],
      "text/plain": [
       "This model may not be optimal. To improve it, consider increasing `max_iterations`."
      ]
     },
     "metadata": {},
     "output_type": "display_data"
    },
    {
     "data": {
      "text/html": [
       "<pre>Logistic regression:</pre>"
      ],
      "text/plain": [
       "Logistic regression:"
      ]
     },
     "metadata": {},
     "output_type": "display_data"
    },
    {
     "data": {
      "text/html": [
       "<pre>--------------------------------------------------------</pre>"
      ],
      "text/plain": [
       "--------------------------------------------------------"
      ]
     },
     "metadata": {},
     "output_type": "display_data"
    },
    {
     "data": {
      "text/html": [
       "<pre>Number of examples          : 2109</pre>"
      ],
      "text/plain": [
       "Number of examples          : 2109"
      ]
     },
     "metadata": {},
     "output_type": "display_data"
    },
    {
     "data": {
      "text/html": [
       "<pre>Number of classes           : 2</pre>"
      ],
      "text/plain": [
       "Number of classes           : 2"
      ]
     },
     "metadata": {},
     "output_type": "display_data"
    },
    {
     "data": {
      "text/html": [
       "<pre>Number of feature columns   : 8</pre>"
      ],
      "text/plain": [
       "Number of feature columns   : 8"
      ]
     },
     "metadata": {},
     "output_type": "display_data"
    },
    {
     "data": {
      "text/html": [
       "<pre>Number of unpacked features : 8</pre>"
      ],
      "text/plain": [
       "Number of unpacked features : 8"
      ]
     },
     "metadata": {},
     "output_type": "display_data"
    },
    {
     "data": {
      "text/html": [
       "<pre>Number of coefficients    : 9</pre>"
      ],
      "text/plain": [
       "Number of coefficients    : 9"
      ]
     },
     "metadata": {},
     "output_type": "display_data"
    },
    {
     "data": {
      "text/html": [
       "<pre>Starting Newton Method</pre>"
      ],
      "text/plain": [
       "Starting Newton Method"
      ]
     },
     "metadata": {},
     "output_type": "display_data"
    },
    {
     "data": {
      "text/html": [
       "<pre>--------------------------------------------------------</pre>"
      ],
      "text/plain": [
       "--------------------------------------------------------"
      ]
     },
     "metadata": {},
     "output_type": "display_data"
    },
    {
     "name": "stdout",
     "output_type": "stream",
     "text": [
      "PROGRESS: Model selection based on validation accuracy:\n",
      "PROGRESS: ---------------------------------------------\n",
      "PROGRESS: BoostedTreesClassifier          : 0.78861784935\n",
      "PROGRESS: RandomForestClassifier          : 0.796747982502\n",
      "PROGRESS: DecisionTreeClassifier          : 0.804878056049\n",
      "PROGRESS: SVMClassifier                   : 0.772358\n",
      "PROGRESS: LogisticClassifier              : 0.796748\n",
      "PROGRESS: ---------------------------------------------\n",
      "PROGRESS: Selecting DecisionTreeClassifier based on validation set performance.\n"
     ]
    },
    {
     "data": {
      "text/html": [
       "<pre>+-----------+----------+--------------+-------------------+---------------------+</pre>"
      ],
      "text/plain": [
       "+-----------+----------+--------------+-------------------+---------------------+"
      ]
     },
     "metadata": {},
     "output_type": "display_data"
    },
    {
     "data": {
      "text/html": [
       "<pre>| Iteration | Passes   | Elapsed Time | Training-accuracy | Validation-accuracy |</pre>"
      ],
      "text/plain": [
       "| Iteration | Passes   | Elapsed Time | Training-accuracy | Validation-accuracy |"
      ]
     },
     "metadata": {},
     "output_type": "display_data"
    },
    {
     "data": {
      "text/html": [
       "<pre>+-----------+----------+--------------+-------------------+---------------------+</pre>"
      ],
      "text/plain": [
       "+-----------+----------+--------------+-------------------+---------------------+"
      ]
     },
     "metadata": {},
     "output_type": "display_data"
    },
    {
     "data": {
      "text/html": [
       "<pre>| 1         | 2        | 0.003644     | 0.786629          | 0.813008            |</pre>"
      ],
      "text/plain": [
       "| 1         | 2        | 0.003644     | 0.786629          | 0.813008            |"
      ]
     },
     "metadata": {},
     "output_type": "display_data"
    },
    {
     "data": {
      "text/html": [
       "<pre>| 2         | 3        | 0.008255     | 0.786629          | 0.804878            |</pre>"
      ],
      "text/plain": [
       "| 2         | 3        | 0.008255     | 0.786629          | 0.804878            |"
      ]
     },
     "metadata": {},
     "output_type": "display_data"
    },
    {
     "data": {
      "text/html": [
       "<pre>| 3         | 4        | 0.011694     | 0.786629          | 0.796748            |</pre>"
      ],
      "text/plain": [
       "| 3         | 4        | 0.011694     | 0.786629          | 0.796748            |"
      ]
     },
     "metadata": {},
     "output_type": "display_data"
    },
    {
     "data": {
      "text/html": [
       "<pre>| 4         | 5        | 0.015839     | 0.787103          | 0.796748            |</pre>"
      ],
      "text/plain": [
       "| 4         | 5        | 0.015839     | 0.787103          | 0.796748            |"
      ]
     },
     "metadata": {},
     "output_type": "display_data"
    },
    {
     "data": {
      "text/html": [
       "<pre>+-----------+----------+--------------+-------------------+---------------------+</pre>"
      ],
      "text/plain": [
       "+-----------+----------+--------------+-------------------+---------------------+"
      ]
     },
     "metadata": {},
     "output_type": "display_data"
    },
    {
     "data": {
      "text/html": [
       "<pre>SUCCESS: Optimal solution found.</pre>"
      ],
      "text/plain": [
       "SUCCESS: Optimal solution found."
      ]
     },
     "metadata": {},
     "output_type": "display_data"
    },
    {
     "data": {
      "text/html": [
       "<pre></pre>"
      ],
      "text/plain": []
     },
     "metadata": {},
     "output_type": "display_data"
    },
    {
     "name": "stdout",
     "output_type": "stream",
     "text": [
      "{'f1_score': 0.8372059156661597, 'auc': 0.8806094235557368, 'recall': 0.9247390620531885, 'precision': 0.7648110920593626, 'log_loss': 0.5655022979126014, 'roc_curve': Columns:\n",
      "\tthreshold\tfloat\n",
      "\tfpr\tfloat\n",
      "\ttpr\tfloat\n",
      "\tp\tint\n",
      "\tn\tint\n",
      "\n",
      "Rows: 100001\n",
      "\n",
      "Data:\n",
      "+-----------+-----+-----+-------+-------+\n",
      "| threshold | fpr | tpr |   p   |   n   |\n",
      "+-----------+-----+-----+-------+-------+\n",
      "|    0.0    | 1.0 | 1.0 | 55952 | 55948 |\n",
      "|   1e-05   | 1.0 | 1.0 | 55952 | 55948 |\n",
      "|   2e-05   | 1.0 | 1.0 | 55952 | 55948 |\n",
      "|   3e-05   | 1.0 | 1.0 | 55952 | 55948 |\n",
      "|   4e-05   | 1.0 | 1.0 | 55952 | 55948 |\n",
      "|   5e-05   | 1.0 | 1.0 | 55952 | 55948 |\n",
      "|   6e-05   | 1.0 | 1.0 | 55952 | 55948 |\n",
      "|   7e-05   | 1.0 | 1.0 | 55952 | 55948 |\n",
      "|   8e-05   | 1.0 | 1.0 | 55952 | 55948 |\n",
      "|   9e-05   | 1.0 | 1.0 | 55952 | 55948 |\n",
      "+-----------+-----+-----+-------+-------+\n",
      "[100001 rows x 5 columns]\n",
      "Note: Only the head of the SFrame is printed.\n",
      "You can use print_rows(num_rows=m, num_columns=n) to print more rows and columns., 'confusion_matrix': Columns:\n",
      "\ttarget_label\tint\n",
      "\tpredicted_label\tint\n",
      "\tcount\tint\n",
      "\n",
      "Rows: 4\n",
      "\n",
      "Data:\n",
      "+--------------+-----------------+-------+\n",
      "| target_label | predicted_label | count |\n",
      "+--------------+-----------------+-------+\n",
      "|      0       |        1        | 15911 |\n",
      "|      1       |        0        |  4211 |\n",
      "|      0       |        0        | 40037 |\n",
      "|      1       |        1        | 51741 |\n",
      "+--------------+-----------------+-------+\n",
      "[4 rows x 3 columns]\n",
      ", 'accuracy': 0.8201787310098302}\n"
     ]
    }
   ],
   "source": [
    "degree_features_list = [c for c in train.column_names() if \"degree\" in c]\n",
    "print \"Degree Features %s\" % degree_features_list\n",
    "cls = gl.classifier.create(train,features=degree_features_list, target=\"class\")\n",
    "results = cls.evaluate(test)\n",
    "print results"
   ]
  },
  {
   "cell_type": "code",
   "execution_count": null,
   "metadata": {
    "collapsed": true
   },
   "outputs": [],
   "source": []
  },
  {
   "cell_type": "markdown",
   "metadata": {},
   "source": [
    "We get pretty good accuracy of 0.88. Let us add also the link based features and use the Boosted-Trees classifier to create and evaluate a link predicdiction classifier."
   ]
  },
  {
   "cell_type": "code",
   "execution_count": 19,
   "metadata": {
    "collapsed": false
   },
   "outputs": [
    {
     "name": "stdout",
     "output_type": "stream",
     "text": [
      "PROGRESS: Creating a validation set from 5 percent of training data. This may take a while.\n",
      "          You can set ``validation_set=None`` to disable validation tracking.\n",
      "\n"
     ]
    },
    {
     "data": {
      "text/html": [
       "<pre>Boosted trees classifier:</pre>"
      ],
      "text/plain": [
       "Boosted trees classifier:"
      ]
     },
     "metadata": {},
     "output_type": "display_data"
    },
    {
     "data": {
      "text/html": [
       "<pre>--------------------------------------------------------</pre>"
      ],
      "text/plain": [
       "--------------------------------------------------------"
      ]
     },
     "metadata": {},
     "output_type": "display_data"
    },
    {
     "data": {
      "text/html": [
       "<pre>Number of examples          : 2117</pre>"
      ],
      "text/plain": [
       "Number of examples          : 2117"
      ]
     },
     "metadata": {},
     "output_type": "display_data"
    },
    {
     "data": {
      "text/html": [
       "<pre>Number of classes           : 2</pre>"
      ],
      "text/plain": [
       "Number of classes           : 2"
      ]
     },
     "metadata": {},
     "output_type": "display_data"
    },
    {
     "data": {
      "text/html": [
       "<pre>Number of feature columns   : 20</pre>"
      ],
      "text/plain": [
       "Number of feature columns   : 20"
      ]
     },
     "metadata": {},
     "output_type": "display_data"
    },
    {
     "data": {
      "text/html": [
       "<pre>Number of unpacked features : 20</pre>"
      ],
      "text/plain": [
       "Number of unpacked features : 20"
      ]
     },
     "metadata": {},
     "output_type": "display_data"
    },
    {
     "data": {
      "text/html": [
       "<pre>+-----------+--------------+-------------------+---------------------+-------------------+---------------------+</pre>"
      ],
      "text/plain": [
       "+-----------+--------------+-------------------+---------------------+-------------------+---------------------+"
      ]
     },
     "metadata": {},
     "output_type": "display_data"
    },
    {
     "data": {
      "text/html": [
       "<pre>| Iteration | Elapsed Time | Training-accuracy | Validation-accuracy | Training-log_loss | Validation-log_loss |</pre>"
      ],
      "text/plain": [
       "| Iteration | Elapsed Time | Training-accuracy | Validation-accuracy | Training-log_loss | Validation-log_loss |"
      ]
     },
     "metadata": {},
     "output_type": "display_data"
    },
    {
     "data": {
      "text/html": [
       "<pre>+-----------+--------------+-------------------+---------------------+-------------------+---------------------+</pre>"
      ],
      "text/plain": [
       "+-----------+--------------+-------------------+---------------------+-------------------+---------------------+"
      ]
     },
     "metadata": {},
     "output_type": "display_data"
    },
    {
     "data": {
      "text/html": [
       "<pre>| 1         | 0.014275     | 0.849787          | 0.817391            | 0.551094          | 0.567465            |</pre>"
      ],
      "text/plain": [
       "| 1         | 0.014275     | 0.849787          | 0.817391            | 0.551094          | 0.567465            |"
      ]
     },
     "metadata": {},
     "output_type": "display_data"
    },
    {
     "data": {
      "text/html": [
       "<pre>| 2         | 0.022232     | 0.863958          | 0.817391            | 0.467353          | 0.504009            |</pre>"
      ],
      "text/plain": [
       "| 2         | 0.022232     | 0.863958          | 0.817391            | 0.467353          | 0.504009            |"
      ]
     },
     "metadata": {},
     "output_type": "display_data"
    },
    {
     "data": {
      "text/html": [
       "<pre>| 3         | 0.028215     | 0.867737          | 0.791304            | 0.415534          | 0.473984            |</pre>"
      ],
      "text/plain": [
       "| 3         | 0.028215     | 0.867737          | 0.791304            | 0.415534          | 0.473984            |"
      ]
     },
     "metadata": {},
     "output_type": "display_data"
    },
    {
     "data": {
      "text/html": [
       "<pre>| 4         | 0.032752     | 0.866320          | 0.808696            | 0.377030          | 0.447958            |</pre>"
      ],
      "text/plain": [
       "| 4         | 0.032752     | 0.866320          | 0.808696            | 0.377030          | 0.447958            |"
      ]
     },
     "metadata": {},
     "output_type": "display_data"
    },
    {
     "data": {
      "text/html": [
       "<pre>| 5         | 0.037739     | 0.870099          | 0.808696            | 0.346738          | 0.427582            |</pre>"
      ],
      "text/plain": [
       "| 5         | 0.037739     | 0.870099          | 0.808696            | 0.346738          | 0.427582            |"
      ]
     },
     "metadata": {},
     "output_type": "display_data"
    },
    {
     "data": {
      "text/html": [
       "<pre>| 6         | 0.040732     | 0.871989          | 0.808696            | 0.328025          | 0.408009            |</pre>"
      ],
      "text/plain": [
       "| 6         | 0.040732     | 0.871989          | 0.808696            | 0.328025          | 0.408009            |"
      ]
     },
     "metadata": {},
     "output_type": "display_data"
    },
    {
     "data": {
      "text/html": [
       "<pre>+-----------+--------------+-------------------+---------------------+-------------------+---------------------+</pre>"
      ],
      "text/plain": [
       "+-----------+--------------+-------------------+---------------------+-------------------+---------------------+"
      ]
     },
     "metadata": {},
     "output_type": "display_data"
    },
    {
     "name": "stdout",
     "output_type": "stream",
     "text": [
      "{'f1_score': 0.845771390407401, 'auc': 0.9083797623895049, 'recall': 0.9166428367171862, 'precision': 0.7850724792970962, 'log_loss': 0.3615956576696605, 'roc_curve': Columns:\n",
      "\tthreshold\tfloat\n",
      "\tfpr\tfloat\n",
      "\ttpr\tfloat\n",
      "\tp\tint\n",
      "\tn\tint\n",
      "\n",
      "Rows: 100001\n",
      "\n",
      "Data:\n",
      "+-----------+-----+-----+-------+-------+\n",
      "| threshold | fpr | tpr |   p   |   n   |\n",
      "+-----------+-----+-----+-------+-------+\n",
      "|    0.0    | 1.0 | 1.0 | 55952 | 55948 |\n",
      "|   1e-05   | 1.0 | 1.0 | 55952 | 55948 |\n",
      "|   2e-05   | 1.0 | 1.0 | 55952 | 55948 |\n",
      "|   3e-05   | 1.0 | 1.0 | 55952 | 55948 |\n",
      "|   4e-05   | 1.0 | 1.0 | 55952 | 55948 |\n",
      "|   5e-05   | 1.0 | 1.0 | 55952 | 55948 |\n",
      "|   6e-05   | 1.0 | 1.0 | 55952 | 55948 |\n",
      "|   7e-05   | 1.0 | 1.0 | 55952 | 55948 |\n",
      "|   8e-05   | 1.0 | 1.0 | 55952 | 55948 |\n",
      "|   9e-05   | 1.0 | 1.0 | 55952 | 55948 |\n",
      "+-----------+-----+-----+-------+-------+\n",
      "[100001 rows x 5 columns]\n",
      "Note: Only the head of the SFrame is printed.\n",
      "You can use print_rows(num_rows=m, num_columns=n) to print more rows and columns., 'confusion_matrix': Columns:\n",
      "\ttarget_label\tint\n",
      "\tpredicted_label\tint\n",
      "\tcount\tint\n",
      "\n",
      "Rows: 4\n",
      "\n",
      "Data:\n",
      "+--------------+-----------------+-------+\n",
      "| target_label | predicted_label | count |\n",
      "+--------------+-----------------+-------+\n",
      "|      1       |        0        |  4664 |\n",
      "|      0       |        1        | 14041 |\n",
      "|      0       |        0        | 41907 |\n",
      "|      1       |        1        | 51288 |\n",
      "+--------------+-----------------+-------+\n",
      "[4 rows x 3 columns]\n",
      ", 'accuracy': 0.8328418230563003}\n"
     ]
    }
   ],
   "source": [
    "link_features_list = ['common_friends', 'common_in_friends', 'common_out_friends', 'common_bi_friends', 'total_friends', 'total_in_friends', 'total_out_friends', 'total_bi_friends',\n",
    "'jacc_coef', 'bi_jacc_coef', 'in_jacc_coef', 'out_jacc_coef']\n",
    "cls = gl.classifier.boosted_trees_classifier.create(train,target=\"class\", features=degree_features_list + link_features_list)\n",
    "results = cls.evaluate(test)\n",
    "print results"
   ]
  },
  {
   "cell_type": "code",
   "execution_count": 20,
   "metadata": {
    "collapsed": false
   },
   "outputs": [
    {
     "name": "stdout",
     "output_type": "stream",
     "text": [
      "probabilites are as follows\n",
      "[0.7222242951393127, 0.024188660085201263, 0.5026636719703674, 0.24718905985355377, 0.7777318358421326, 0.024188660085201263, 0.5399314165115356]\n"
     ]
    }
   ],
   "source": [
    "print 'probabilites are as follows'\n",
    "arr = cls.predict(sf_links_test, output_type=\"probability\")\n",
    "print arr"
   ]
  },
  {
   "cell_type": "markdown",
   "metadata": {},
   "source": [
    "Using the additional link features, we got considerbly better accuracy of around 0.94. We can try to further improve the accuracy by adding additional features or by increasing the size of the training dataset.\n",
    "\n"
   ]
  },
  {
   "cell_type": "markdown",
   "metadata": {},
   "source": []
  },
  {
   "cell_type": "markdown",
   "metadata": {},
   "source": []
  }
 ],
 "metadata": {
  "kernelspec": {
   "display_name": "Python 2",
   "language": "python",
   "name": "python2"
  },
  "language_info": {
   "codemirror_mode": {
    "name": "ipython",
    "version": 2
   },
   "file_extension": ".py",
   "mimetype": "text/x-python",
   "name": "python",
   "nbconvert_exporter": "python",
   "pygments_lexer": "ipython2",
   "version": "2.7.11"
  }
 },
 "nbformat": 4,
 "nbformat_minor": 0
}
